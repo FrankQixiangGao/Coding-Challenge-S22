{
  "nbformat": 4,
  "nbformat_minor": 0,
  "metadata": {
    "colab": {
      "name": "ACM_Coding_Challenge_Solution.ipynb",
      "provenance": [],
      "collapsed_sections": []
    },
    "kernelspec": {
      "name": "python3",
      "display_name": "Python 3"
    },
    "language_info": {
      "name": "python"
    },
    "widgets": {
      "application/vnd.jupyter.widget-state+json": {
        "845149deeedd4b40be335325ac20b68a": {
          "model_module": "catboost-widget",
          "model_name": "CatboostWidgetModel",
          "model_module_version": "^1.0.0",
          "state": {
            "_view_name": "CatboostWidgetView",
            "_dom_classes": [],
            "_model_name": "CatboostWidgetModel",
            "data": {
              "catboost_info/model-final": {
                "content": {
                  "data": {
                    "meta": {
                      "name": "experiment",
                      "parameters": "",
                      "test_metrics": [
                        {
                          "best_value": "Max",
                          "name": "AUC"
                        },
                        {
                          "best_value": "Min",
                          "name": "Logloss"
                        }
                      ],
                      "learn_sets": [
                        "learn"
                      ],
                      "launch_mode": "Train",
                      "learn_metrics": [
                        {
                          "best_value": "Min",
                          "name": "Logloss"
                        }
                      ],
                      "iteration_count": 1000,
                      "test_sets": [
                        "test"
                      ]
                    },
                    "iterations": [
                      {
                        "test": [
                          0.9875433804,
                          0.567301725
                        ],
                        "passed_time": 0.03028739979,
                        "iteration": 0,
                        "remaining_time": 30.25711239,
                        "learn": [
                          0.5667417933
                        ]
                      },
                      {
                        "test": [
                          0.9875433804,
                          0.4672584606
                        ],
                        "passed_time": 0.04073511874,
                        "iteration": 1,
                        "remaining_time": 20.32682425,
                        "learn": [
                          0.465905522
                        ]
                      },
                      {
                        "test": [
                          0.9903479182,
                          0.3840883059
                        ],
                        "passed_time": 0.05871669497,
                        "iteration": 2,
                        "remaining_time": 19.51351496,
                        "learn": [
                          0.3818332114
                        ]
                      },
                      {
                        "test": [
                          0.9950300868,
                          0.3105490576
                        ],
                        "passed_time": 0.09128704291,
                        "iteration": 3,
                        "remaining_time": 22.73047368,
                        "learn": [
                          0.3076010709
                        ]
                      },
                      {
                        "test": [
                          0.9950300868,
                          0.2642393412
                        ],
                        "passed_time": 0.09864552924,
                        "iteration": 4,
                        "remaining_time": 19.63046032,
                        "learn": [
                          0.2611289515
                        ]
                      },
                      {
                        "test": [
                          0.9958452012,
                          0.2260618906
                        ],
                        "passed_time": 0.1132841406,
                        "iteration": 5,
                        "remaining_time": 18.76740595,
                        "learn": [
                          0.2226906446
                        ]
                      },
                      {
                        "test": [
                          0.995870476,
                          0.1955138258
                        ],
                        "passed_time": 0.1561734092,
                        "iteration": 6,
                        "remaining_time": 22.15431362,
                        "learn": [
                          0.1919343883
                        ]
                      },
                      {
                        "test": [
                          0.9999329244,
                          0.151638862
                        ],
                        "passed_time": 0.1944698458,
                        "iteration": 7,
                        "remaining_time": 24.11426088,
                        "learn": [
                          0.149022877
                        ]
                      },
                      {
                        "test": [
                          0.9999970837,
                          0.1221600079
                        ],
                        "passed_time": 0.2176705625,
                        "iteration": 8,
                        "remaining_time": 23.96794749,
                        "learn": [
                          0.1204741095
                        ]
                      },
                      {
                        "test": [
                          0.9999970837,
                          0.09616715969
                        ],
                        "passed_time": 0.2649539144,
                        "iteration": 9,
                        "remaining_time": 26.23043752,
                        "learn": [
                          0.09539024384
                        ]
                      },
                      {
                        "test": [
                          0.9999970837,
                          0.07683183681
                        ],
                        "passed_time": 0.3058383201,
                        "iteration": 10,
                        "remaining_time": 27.49764533,
                        "learn": [
                          0.07655312227
                        ]
                      },
                      {
                        "test": [
                          0.9999970837,
                          0.06169784617
                        ],
                        "passed_time": 0.3489212002,
                        "iteration": 11,
                        "remaining_time": 28.72784549,
                        "learn": [
                          0.06194606475
                        ]
                      },
                      {
                        "test": [
                          0.9999970837,
                          0.04994861136
                        ],
                        "passed_time": 0.3938627786,
                        "iteration": 12,
                        "remaining_time": 29.90327404,
                        "learn": [
                          0.05051522119
                        ]
                      },
                      {
                        "test": [
                          0.9999970837,
                          0.04084589191
                        ],
                        "passed_time": 0.4404121749,
                        "iteration": 13,
                        "remaining_time": 31.01760032,
                        "learn": [
                          0.04164803957
                        ]
                      },
                      {
                        "test": [
                          0.9999970837,
                          0.03342743906
                        ],
                        "passed_time": 0.5266593947,
                        "iteration": 14,
                        "remaining_time": 34.58396692,
                        "learn": [
                          0.03440474576
                        ]
                      },
                      {
                        "test": [
                          1,
                          0.02786053642
                        ],
                        "passed_time": 0.5845482096,
                        "iteration": 15,
                        "remaining_time": 35.94971489,
                        "learn": [
                          0.02891823132
                        ]
                      },
                      {
                        "test": [
                          1,
                          0.02351047472
                        ],
                        "passed_time": 0.6405134521,
                        "iteration": 16,
                        "remaining_time": 37.03674844,
                        "learn": [
                          0.02470484856
                        ]
                      },
                      {
                        "test": [
                          1,
                          0.02089502037
                        ],
                        "passed_time": 0.694353891,
                        "iteration": 17,
                        "remaining_time": 37.88086227,
                        "learn": [
                          0.02208325865
                        ]
                      },
                      {
                        "test": [
                          1,
                          0.01772952221
                        ],
                        "passed_time": 0.7502835688,
                        "iteration": 18,
                        "remaining_time": 38.73832531,
                        "learn": [
                          0.01903465474
                        ]
                      },
                      {
                        "test": [
                          1,
                          0.01548103162
                        ],
                        "passed_time": 0.8107786075,
                        "iteration": 19,
                        "remaining_time": 39.72815177,
                        "learn": [
                          0.01676060159
                        ]
                      },
                      {
                        "test": [
                          1,
                          0.01329622152
                        ],
                        "passed_time": 0.8635301919,
                        "iteration": 20,
                        "remaining_time": 40.25695514,
                        "learn": [
                          0.01455710399
                        ]
                      },
                      {
                        "test": [
                          1,
                          0.01164604642
                        ],
                        "passed_time": 0.9198935876,
                        "iteration": 21,
                        "remaining_time": 40.8934513,
                        "learn": [
                          0.0128789166
                        ]
                      },
                      {
                        "test": [
                          1,
                          0.01018245411
                        ],
                        "passed_time": 0.9748164407,
                        "iteration": 22,
                        "remaining_time": 41.40850707,
                        "learn": [
                          0.01137404326
                        ]
                      },
                      {
                        "test": [
                          1,
                          0.009182323006
                        ],
                        "passed_time": 1.031230473,
                        "iteration": 23,
                        "remaining_time": 41.9367059,
                        "learn": [
                          0.01041989658
                        ]
                      },
                      {
                        "test": [
                          1,
                          0.008197660743
                        ],
                        "passed_time": 1.08901236,
                        "iteration": 24,
                        "remaining_time": 42.47148204,
                        "learn": [
                          0.009465520141
                        ]
                      },
                      {
                        "test": [
                          1,
                          0.007192514256
                        ],
                        "passed_time": 1.146245295,
                        "iteration": 25,
                        "remaining_time": 42.94011222,
                        "learn": [
                          0.008407501337
                        ]
                      },
                      {
                        "test": [
                          1,
                          0.006487124547
                        ],
                        "passed_time": 1.203914704,
                        "iteration": 26,
                        "remaining_time": 43.38551879,
                        "learn": [
                          0.007724478191
                        ]
                      },
                      {
                        "test": [
                          1,
                          0.005821603917
                        ],
                        "passed_time": 1.272771508,
                        "iteration": 27,
                        "remaining_time": 44.18335378,
                        "learn": [
                          0.007036387073
                        ]
                      },
                      {
                        "test": [
                          1,
                          0.005324033903
                        ],
                        "passed_time": 1.325820724,
                        "iteration": 28,
                        "remaining_time": 44.39213527,
                        "learn": [
                          0.006481750094
                        ]
                      },
                      {
                        "test": [
                          1,
                          0.005009841075
                        ],
                        "passed_time": 1.38416191,
                        "iteration": 29,
                        "remaining_time": 44.75456842,
                        "learn": [
                          0.006128468062
                        ]
                      },
                      {
                        "test": [
                          1,
                          0.004717703501
                        ],
                        "passed_time": 1.441570858,
                        "iteration": 30,
                        "remaining_time": 45.06071488,
                        "learn": [
                          0.005834608162
                        ]
                      },
                      {
                        "test": [
                          1,
                          0.004667177641
                        ],
                        "passed_time": 1.633612857,
                        "iteration": 31,
                        "remaining_time": 49.41678892,
                        "learn": [
                          0.005785619563
                        ]
                      },
                      {
                        "test": [
                          1,
                          0.004412563138
                        ],
                        "passed_time": 1.694279289,
                        "iteration": 32,
                        "remaining_time": 49.64751736,
                        "learn": [
                          0.005475616283
                        ]
                      },
                      {
                        "test": [
                          1,
                          0.004380197636
                        ],
                        "passed_time": 1.745429607,
                        "iteration": 33,
                        "remaining_time": 49.59073531,
                        "learn": [
                          0.00545916069
                        ]
                      },
                      {
                        "test": [
                          1,
                          0.00416261455
                        ],
                        "passed_time": 1.806493853,
                        "iteration": 34,
                        "remaining_time": 49.80761624,
                        "learn": [
                          0.005210168616
                        ]
                      },
                      {
                        "test": [
                          1,
                          0.003962688237
                        ],
                        "passed_time": 1.864878471,
                        "iteration": 35,
                        "remaining_time": 49.93730128,
                        "learn": [
                          0.004971311491
                        ]
                      },
                      {
                        "test": [
                          1,
                          0.003945780123
                        ],
                        "passed_time": 1.894058984,
                        "iteration": 36,
                        "remaining_time": 49.29672437,
                        "learn": [
                          0.004955960153
                        ]
                      },
                      {
                        "test": [
                          1,
                          0.003586906814
                        ],
                        "passed_time": 1.943628101,
                        "iteration": 37,
                        "remaining_time": 49.20447982,
                        "learn": [
                          0.004564282871
                        ]
                      },
                      {
                        "test": [
                          1,
                          0.003572390715
                        ],
                        "passed_time": 1.983440182,
                        "iteration": 38,
                        "remaining_time": 48.87400037,
                        "learn": [
                          0.00454550705
                        ]
                      },
                      {
                        "test": [
                          1,
                          0.00339726868
                        ],
                        "passed_time": 2.040136389,
                        "iteration": 39,
                        "remaining_time": 48.96327333,
                        "learn": [
                          0.004331337131
                        ]
                      },
                      {
                        "test": [
                          1,
                          0.003146484832
                        ],
                        "passed_time": 2.103384269,
                        "iteration": 40,
                        "remaining_time": 49.19867107,
                        "learn": [
                          0.004059407768
                        ]
                      },
                      {
                        "test": [
                          1,
                          0.003056891956
                        ],
                        "passed_time": 2.1337057,
                        "iteration": 41,
                        "remaining_time": 48.66881096,
                        "learn": [
                          0.00394190448
                        ]
                      },
                      {
                        "test": [
                          1,
                          0.003038833389
                        ],
                        "passed_time": 2.176383908,
                        "iteration": 42,
                        "remaining_time": 48.43719534,
                        "learn": [
                          0.003922667726
                        ]
                      },
                      {
                        "test": [
                          1,
                          0.002982015848
                        ],
                        "passed_time": 2.233934098,
                        "iteration": 43,
                        "remaining_time": 48.5372954,
                        "learn": [
                          0.003845029089
                        ]
                      },
                      {
                        "test": [
                          1,
                          0.002831295565
                        ],
                        "passed_time": 2.303446562,
                        "iteration": 44,
                        "remaining_time": 48.88425481,
                        "learn": [
                          0.003691143886
                        ]
                      },
                      {
                        "test": [
                          1,
                          0.002738615871
                        ],
                        "passed_time": 2.354346386,
                        "iteration": 45,
                        "remaining_time": 48.82709679,
                        "learn": [
                          0.003613713751
                        ]
                      },
                      {
                        "test": [
                          1,
                          0.00273056882
                        ],
                        "passed_time": 2.39958612,
                        "iteration": 46,
                        "remaining_time": 48.6554377,
                        "learn": [
                          0.003595268591
                        ]
                      },
                      {
                        "test": [
                          1,
                          0.00269112598
                        ],
                        "passed_time": 2.440202431,
                        "iteration": 47,
                        "remaining_time": 48.39734821,
                        "learn": [
                          0.003528874195
                        ]
                      },
                      {
                        "test": [
                          1,
                          0.002676699857
                        ],
                        "passed_time": 2.490570855,
                        "iteration": 48,
                        "remaining_time": 48.33740578,
                        "learn": [
                          0.003511381565
                        ]
                      },
                      {
                        "test": [
                          1,
                          0.002530777839
                        ],
                        "passed_time": 2.557640144,
                        "iteration": 49,
                        "remaining_time": 48.59516274,
                        "learn": [
                          0.003344194078
                        ]
                      },
                      {
                        "test": [
                          1,
                          0.002517657869
                        ],
                        "passed_time": 2.635935163,
                        "iteration": 50,
                        "remaining_time": 49.04906804,
                        "learn": [
                          0.003326411673
                        ]
                      },
                      {
                        "test": [
                          1,
                          0.002481272827
                        ],
                        "passed_time": 2.709286023,
                        "iteration": 51,
                        "remaining_time": 49.39236827,
                        "learn": [
                          0.003263487859
                        ]
                      },
                      {
                        "test": [
                          1,
                          0.002438432087
                        ],
                        "passed_time": 2.761344667,
                        "iteration": 52,
                        "remaining_time": 49.33949811,
                        "learn": [
                          0.003212213958
                        ]
                      },
                      {
                        "test": [
                          1,
                          0.002411790064
                        ],
                        "passed_time": 2.808288669,
                        "iteration": 53,
                        "remaining_time": 49.19705705,
                        "learn": [
                          0.003181206566
                        ]
                      },
                      {
                        "test": [
                          1,
                          0.002411790064
                        ],
                        "passed_time": 2.858715069,
                        "iteration": 54,
                        "remaining_time": 49.11792255,
                        "learn": [
                          0.003181206566
                        ]
                      },
                      {
                        "test": [
                          1,
                          0.00224853744
                        ],
                        "passed_time": 2.920497688,
                        "iteration": 55,
                        "remaining_time": 49.23124675,
                        "learn": [
                          0.002987235007
                        ]
                      },
                      {
                        "test": [
                          1,
                          0.002188763153
                        ],
                        "passed_time": 2.977180344,
                        "iteration": 56,
                        "remaining_time": 49.25405376,
                        "learn": [
                          0.00291117152
                        ]
                      },
                      {
                        "test": [
                          1,
                          0.002051244484
                        ],
                        "passed_time": 3.032065954,
                        "iteration": 57,
                        "remaining_time": 49.24493325,
                        "learn": [
                          0.002766483533
                        ]
                      },
                      {
                        "test": [
                          1,
                          0.002011028723
                        ],
                        "passed_time": 3.082775506,
                        "iteration": 58,
                        "remaining_time": 49.16765679,
                        "learn": [
                          0.002723207429
                        ]
                      },
                      {
                        "test": [
                          1,
                          0.00200065768
                        ],
                        "passed_time": 3.133318532,
                        "iteration": 59,
                        "remaining_time": 49.08865701,
                        "learn": [
                          0.002707564173
                        ]
                      },
                      {
                        "test": [
                          1,
                          0.001972628588
                        ],
                        "passed_time": 3.182858633,
                        "iteration": 60,
                        "remaining_time": 48.99515174,
                        "learn": [
                          0.00267667946
                        ]
                      },
                      {
                        "test": [
                          1,
                          0.001900078436
                        ],
                        "passed_time": 3.241081263,
                        "iteration": 61,
                        "remaining_time": 49.03442298,
                        "learn": [
                          0.002598850119
                        ]
                      },
                      {
                        "test": [
                          1,
                          0.001900073186
                        ],
                        "passed_time": 3.259204535,
                        "iteration": 62,
                        "remaining_time": 48.47420078,
                        "learn": [
                          0.002598844888
                        ]
                      },
                      {
                        "test": [
                          1,
                          0.001891987577
                        ],
                        "passed_time": 3.289490376,
                        "iteration": 63,
                        "remaining_time": 48.10879674,
                        "learn": [
                          0.00258881083
                        ]
                      },
                      {
                        "test": [
                          1,
                          0.001831361908
                        ],
                        "passed_time": 3.334280797,
                        "iteration": 64,
                        "remaining_time": 47.96234686,
                        "learn": [
                          0.002536151541
                        ]
                      },
                      {
                        "test": [
                          1,
                          0.001818455611
                        ],
                        "passed_time": 3.383136519,
                        "iteration": 65,
                        "remaining_time": 47.87650771,
                        "learn": [
                          0.002518678462
                        ]
                      },
                      {
                        "test": [
                          1,
                          0.001768074618
                        ],
                        "passed_time": 3.432480927,
                        "iteration": 66,
                        "remaining_time": 47.79857768,
                        "learn": [
                          0.002450313903
                        ]
                      },
                      {
                        "test": [
                          1,
                          0.001741178233
                        ],
                        "passed_time": 3.47978251,
                        "iteration": 67,
                        "remaining_time": 47.6934897,
                        "learn": [
                          0.002404793825
                        ]
                      },
                      {
                        "test": [
                          1,
                          0.001644283912
                        ],
                        "passed_time": 3.537119234,
                        "iteration": 68,
                        "remaining_time": 47.72547837,
                        "learn": [
                          0.002290261447
                        ]
                      },
                      {
                        "test": [
                          1,
                          0.001615846421
                        ],
                        "passed_time": 3.588203916,
                        "iteration": 69,
                        "remaining_time": 47.67185202,
                        "learn": [
                          0.002239181076
                        ]
                      },
                      {
                        "test": [
                          1,
                          0.00153316
                        ],
                        "passed_time": 3.68214062,
                        "iteration": 70,
                        "remaining_time": 48.17899487,
                        "learn": [
                          0.002143302213
                        ]
                      },
                      {
                        "test": [
                          1,
                          0.001533217293
                        ],
                        "passed_time": 3.715581532,
                        "iteration": 71,
                        "remaining_time": 47.88971753,
                        "learn": [
                          0.002141293127
                        ]
                      },
                      {
                        "test": [
                          1,
                          0.001483487912
                        ],
                        "passed_time": 3.759840383,
                        "iteration": 72,
                        "remaining_time": 47.74482239,
                        "learn": [
                          0.002080730988
                        ]
                      },
                      {
                        "test": [
                          1,
                          0.001469623219
                        ],
                        "passed_time": 3.808152167,
                        "iteration": 73,
                        "remaining_time": 47.6533636,
                        "learn": [
                          0.002053100324
                        ]
                      },
                      {
                        "test": [
                          1,
                          0.001453960929
                        ],
                        "passed_time": 3.852984719,
                        "iteration": 74,
                        "remaining_time": 47.52014486,
                        "learn": [
                          0.002029445662
                        ]
                      },
                      {
                        "test": [
                          1,
                          0.001424234072
                        ],
                        "passed_time": 3.900246465,
                        "iteration": 75,
                        "remaining_time": 47.41878597,
                        "learn": [
                          0.001991839087
                        ]
                      },
                      {
                        "test": [
                          1,
                          0.001404299661
                        ],
                        "passed_time": 3.949550642,
                        "iteration": 76,
                        "remaining_time": 47.34331484,
                        "learn": [
                          0.001968762839
                        ]
                      },
                      {
                        "test": [
                          1,
                          0.001369384929
                        ],
                        "passed_time": 4.002596189,
                        "iteration": 77,
                        "remaining_time": 47.31273956,
                        "learn": [
                          0.00192784739
                        ]
                      },
                      {
                        "test": [
                          1,
                          0.001369354406
                        ],
                        "passed_time": 4.046954529,
                        "iteration": 78,
                        "remaining_time": 47.18031799,
                        "learn": [
                          0.001927826246
                        ]
                      },
                      {
                        "test": [
                          1,
                          0.00134401325
                        ],
                        "passed_time": 4.10624718,
                        "iteration": 79,
                        "remaining_time": 47.22184257,
                        "learn": [
                          0.001892906812
                        ]
                      },
                      {
                        "test": [
                          1,
                          0.001318677876
                        ],
                        "passed_time": 4.157303815,
                        "iteration": 80,
                        "remaining_time": 47.16743464,
                        "learn": [
                          0.001864981401
                        ]
                      },
                      {
                        "test": [
                          1,
                          0.001292623238
                        ],
                        "passed_time": 4.216650011,
                        "iteration": 81,
                        "remaining_time": 47.20591109,
                        "learn": [
                          0.001830396978
                        ]
                      },
                      {
                        "test": [
                          1,
                          0.001267555334
                        ],
                        "passed_time": 4.27220634,
                        "iteration": 82,
                        "remaining_time": 47.2001592,
                        "learn": [
                          0.001794170074
                        ]
                      },
                      {
                        "test": [
                          1,
                          0.001213645628
                        ],
                        "passed_time": 4.351167479,
                        "iteration": 83,
                        "remaining_time": 47.44844536,
                        "learn": [
                          0.001724095318
                        ]
                      },
                      {
                        "test": [
                          1,
                          0.001213631658
                        ],
                        "passed_time": 4.391659956,
                        "iteration": 84,
                        "remaining_time": 47.27492776,
                        "learn": [
                          0.00172407486
                        ]
                      },
                      {
                        "test": [
                          1,
                          0.001213629012
                        ],
                        "passed_time": 4.434081766,
                        "iteration": 85,
                        "remaining_time": 47.12500853,
                        "learn": [
                          0.001724065591
                        ]
                      },
                      {
                        "test": [
                          1,
                          0.001181650413
                        ],
                        "passed_time": 4.481897265,
                        "iteration": 86,
                        "remaining_time": 47.03416325,
                        "learn": [
                          0.001680340378
                        ]
                      },
                      {
                        "test": [
                          1,
                          0.001171614874
                        ],
                        "passed_time": 4.535720442,
                        "iteration": 87,
                        "remaining_time": 47.00655731,
                        "learn": [
                          0.00165776187
                        ]
                      },
                      {
                        "test": [
                          1,
                          0.001147661162
                        ],
                        "passed_time": 4.585520198,
                        "iteration": 88,
                        "remaining_time": 46.93717866,
                        "learn": [
                          0.001624655052
                        ]
                      },
                      {
                        "test": [
                          1,
                          0.001133659752
                        ],
                        "passed_time": 4.640823177,
                        "iteration": 89,
                        "remaining_time": 46.92387878,
                        "learn": [
                          0.001605282047
                        ]
                      },
                      {
                        "test": [
                          1,
                          0.001126918804
                        ],
                        "passed_time": 4.755095022,
                        "iteration": 90,
                        "remaining_time": 47.49869643,
                        "learn": [
                          0.001590546657
                        ]
                      },
                      {
                        "test": [
                          1,
                          0.001112179209
                        ],
                        "passed_time": 4.813290221,
                        "iteration": 91,
                        "remaining_time": 47.50508175,
                        "learn": [
                          0.001567707083
                        ]
                      },
                      {
                        "test": [
                          1,
                          0.001108552408
                        ],
                        "passed_time": 4.870496035,
                        "iteration": 92,
                        "remaining_time": 47.50042907,
                        "learn": [
                          0.001555375911
                        ]
                      },
                      {
                        "test": [
                          1,
                          0.00110168384
                        ],
                        "passed_time": 4.919585807,
                        "iteration": 93,
                        "remaining_time": 47.41643342,
                        "learn": [
                          0.001544908624
                        ]
                      },
                      {
                        "test": [
                          1,
                          0.001085041233
                        ],
                        "passed_time": 4.980388308,
                        "iteration": 94,
                        "remaining_time": 47.44475178,
                        "learn": [
                          0.001524449329
                        ]
                      },
                      {
                        "test": [
                          1,
                          0.001085041233
                        ],
                        "passed_time": 5.037640019,
                        "iteration": 95,
                        "remaining_time": 47.43777684,
                        "learn": [
                          0.001524449329
                        ]
                      },
                      {
                        "test": [
                          1,
                          0.001075013422
                        ],
                        "passed_time": 5.083745397,
                        "iteration": 96,
                        "remaining_time": 47.32600096,
                        "learn": [
                          0.001513064226
                        ]
                      },
                      {
                        "test": [
                          1,
                          0.001049632141
                        ],
                        "passed_time": 5.135032024,
                        "iteration": 97,
                        "remaining_time": 47.26325394,
                        "learn": [
                          0.001478730236
                        ]
                      },
                      {
                        "test": [
                          1,
                          0.001049629706
                        ],
                        "passed_time": 5.172936843,
                        "iteration": 98,
                        "remaining_time": 47.07895046,
                        "learn": [
                          0.001478726327
                        ]
                      },
                      {
                        "test": [
                          1,
                          0.001039098806
                        ],
                        "passed_time": 5.25462546,
                        "iteration": 99,
                        "remaining_time": 47.29162914,
                        "learn": [
                          0.001466174676
                        ]
                      },
                      {
                        "test": [
                          1,
                          0.00103909393
                        ],
                        "passed_time": 5.309237164,
                        "iteration": 100,
                        "remaining_time": 47.25746743,
                        "learn": [
                          0.00146616919
                        ]
                      },
                      {
                        "test": [
                          1,
                          0.001039070889
                        ],
                        "passed_time": 5.360288508,
                        "iteration": 101,
                        "remaining_time": 47.19155961,
                        "learn": [
                          0.001466124272
                        ]
                      },
                      {
                        "test": [
                          1,
                          0.001020841907
                        ],
                        "passed_time": 5.423137184,
                        "iteration": 102,
                        "remaining_time": 47.22868013,
                        "learn": [
                          0.001444030141
                        ]
                      },
                      {
                        "test": [
                          1,
                          0.001020837715
                        ],
                        "passed_time": 5.447266881,
                        "iteration": 103,
                        "remaining_time": 46.93029928,
                        "learn": [
                          0.001444023559
                        ]
                      },
                      {
                        "test": [
                          1,
                          0.001020806179
                        ],
                        "passed_time": 5.497232591,
                        "iteration": 104,
                        "remaining_time": 46.85736351,
                        "learn": [
                          0.001443965826
                        ]
                      },
                      {
                        "test": [
                          1,
                          0.001006338602
                        ],
                        "passed_time": 5.523214823,
                        "iteration": 105,
                        "remaining_time": 46.58258539,
                        "learn": [
                          0.001424448128
                        ]
                      },
                      {
                        "test": [
                          1,
                          0.001006335244
                        ],
                        "passed_time": 5.559324838,
                        "iteration": 106,
                        "remaining_time": 46.39698206,
                        "learn": [
                          0.00142444159
                        ]
                      },
                      {
                        "test": [
                          1,
                          0.001006335244
                        ],
                        "passed_time": 5.604070096,
                        "iteration": 107,
                        "remaining_time": 46.28546783,
                        "learn": [
                          0.00142444159
                        ]
                      },
                      {
                        "test": [
                          1,
                          0.001006334096
                        ],
                        "passed_time": 5.648123763,
                        "iteration": 108,
                        "remaining_time": 46.16952544,
                        "learn": [
                          0.001424439515
                        ]
                      },
                      {
                        "test": [
                          1,
                          0.001006327915
                        ],
                        "passed_time": 5.697436877,
                        "iteration": 109,
                        "remaining_time": 46.09744382,
                        "learn": [
                          0.001424425579
                        ]
                      },
                      {
                        "test": [
                          1,
                          0.0009863802583
                        ],
                        "passed_time": 5.814104724,
                        "iteration": 110,
                        "remaining_time": 46.56521711,
                        "learn": [
                          0.001397835139
                        ]
                      },
                      {
                        "test": [
                          1,
                          0.0009863722846
                        ],
                        "passed_time": 5.867019767,
                        "iteration": 111,
                        "remaining_time": 46.5170853,
                        "learn": [
                          0.001397824244
                        ]
                      },
                      {
                        "test": [
                          1,
                          0.0009863700141
                        ],
                        "passed_time": 5.914603991,
                        "iteration": 112,
                        "remaining_time": 46.42702425,
                        "learn": [
                          0.001397821533
                        ]
                      },
                      {
                        "test": [
                          1,
                          0.0009675148114
                        ],
                        "passed_time": 5.960043819,
                        "iteration": 113,
                        "remaining_time": 46.32104232,
                        "learn": [
                          0.001375783004
                        ]
                      },
                      {
                        "test": [
                          1,
                          0.0009675148114
                        ],
                        "passed_time": 5.989052188,
                        "iteration": 114,
                        "remaining_time": 46.08966249,
                        "learn": [
                          0.001375783004
                        ]
                      },
                      {
                        "test": [
                          1,
                          0.0009675141012
                        ],
                        "passed_time": 6.038294277,
                        "iteration": 115,
                        "remaining_time": 46.01596673,
                        "learn": [
                          0.00137578095
                        ]
                      },
                      {
                        "test": [
                          1,
                          0.0009450808909
                        ],
                        "passed_time": 6.08763879,
                        "iteration": 116,
                        "remaining_time": 45.94346198,
                        "learn": [
                          0.001345849334
                        ]
                      },
                      {
                        "test": [
                          1,
                          0.0009450708144
                        ],
                        "passed_time": 6.137417284,
                        "iteration": 117,
                        "remaining_time": 45.8745936,
                        "learn": [
                          0.001345832657
                        ]
                      },
                      {
                        "test": [
                          1,
                          0.0009450679398
                        ],
                        "passed_time": 6.191285002,
                        "iteration": 118,
                        "remaining_time": 45.83632006,
                        "learn": [
                          0.001345828042
                        ]
                      },
                      {
                        "test": [
                          1,
                          0.0009308883555
                        ],
                        "passed_time": 6.249064184,
                        "iteration": 119,
                        "remaining_time": 45.82647068,
                        "learn": [
                          0.001325377533
                        ]
                      },
                      {
                        "test": [
                          1,
                          0.0009139966788
                        ],
                        "passed_time": 6.301575818,
                        "iteration": 120,
                        "remaining_time": 45.77756318,
                        "learn": [
                          0.001301872044
                        ]
                      },
                      {
                        "test": [
                          1,
                          0.0009107920645
                        ],
                        "passed_time": 6.357298743,
                        "iteration": 121,
                        "remaining_time": 45.75170735,
                        "learn": [
                          0.001294991397
                        ]
                      },
                      {
                        "test": [
                          1,
                          0.000874652826
                        ],
                        "passed_time": 6.415900746,
                        "iteration": 122,
                        "remaining_time": 45.74589394,
                        "learn": [
                          0.001257321581
                        ]
                      },
                      {
                        "test": [
                          1,
                          0.0008746405849
                        ],
                        "passed_time": 6.449453843,
                        "iteration": 123,
                        "remaining_time": 45.5622707,
                        "learn": [
                          0.001257297086
                        ]
                      },
                      {
                        "test": [
                          1,
                          0.0008746376404
                        ],
                        "passed_time": 6.498221424,
                        "iteration": 124,
                        "remaining_time": 45.48754997,
                        "learn": [
                          0.001257292094
                        ]
                      },
                      {
                        "test": [
                          1,
                          0.00085113459
                        ],
                        "passed_time": 6.547973623,
                        "iteration": 125,
                        "remaining_time": 45.420071,
                        "learn": [
                          0.001223797261
                        ]
                      },
                      {
                        "test": [
                          1,
                          0.00085113459
                        ],
                        "passed_time": 6.591781165,
                        "iteration": 126,
                        "remaining_time": 45.31200754,
                        "learn": [
                          0.001223797261
                        ]
                      },
                      {
                        "test": [
                          1,
                          0.000844780819
                        ],
                        "passed_time": 6.615396374,
                        "iteration": 127,
                        "remaining_time": 45.0673878,
                        "learn": [
                          0.001212141383
                        ]
                      },
                      {
                        "test": [
                          1,
                          0.0008447794798
                        ],
                        "passed_time": 6.662653176,
                        "iteration": 128,
                        "remaining_time": 44.98582105,
                        "learn": [
                          0.001212138461
                        ]
                      },
                      {
                        "test": [
                          1,
                          0.0008447764948
                        ],
                        "passed_time": 6.700063481,
                        "iteration": 129,
                        "remaining_time": 44.83888637,
                        "learn": [
                          0.001212131681
                        ]
                      },
                      {
                        "test": [
                          1,
                          0.0008447645555
                        ],
                        "passed_time": 6.740343691,
                        "iteration": 130,
                        "remaining_time": 44.71266158,
                        "learn": [
                          0.001212103257
                        ]
                      },
                      {
                        "test": [
                          1,
                          0.0008447602336
                        ],
                        "passed_time": 6.839380265,
                        "iteration": 131,
                        "remaining_time": 44.97410659,
                        "learn": [
                          0.001212098086
                        ]
                      },
                      {
                        "test": [
                          1,
                          0.0008296574043
                        ],
                        "passed_time": 6.89873097,
                        "iteration": 132,
                        "remaining_time": 44.9714267,
                        "learn": [
                          0.00119181241
                        ]
                      },
                      {
                        "test": [
                          1,
                          0.0008296571698
                        ],
                        "passed_time": 6.954982187,
                        "iteration": 133,
                        "remaining_time": 44.94786996,
                        "learn": [
                          0.001191811187
                        ]
                      },
                      {
                        "test": [
                          1,
                          0.0008296455701
                        ],
                        "passed_time": 7.008033095,
                        "iteration": 134,
                        "remaining_time": 44.90332317,
                        "learn": [
                          0.001191798521
                        ]
                      },
                      {
                        "test": [
                          1,
                          0.0008296342539
                        ],
                        "passed_time": 7.062864914,
                        "iteration": 135,
                        "remaining_time": 44.86996534,
                        "learn": [
                          0.001191781897
                        ]
                      },
                      {
                        "test": [
                          1,
                          0.0008192760679
                        ],
                        "passed_time": 7.122648469,
                        "iteration": 136,
                        "remaining_time": 44.86748634,
                        "learn": [
                          0.001177356821
                        ]
                      },
                      {
                        "test": [
                          1,
                          0.0008192608511
                        ],
                        "passed_time": 7.170369148,
                        "iteration": 137,
                        "remaining_time": 44.78882758,
                        "learn": [
                          0.001177343064
                        ]
                      },
                      {
                        "test": [
                          1,
                          0.0008192556072
                        ],
                        "passed_time": 7.218766139,
                        "iteration": 138,
                        "remaining_time": 44.71480321,
                        "learn": [
                          0.001177334103
                        ]
                      },
                      {
                        "test": [
                          1,
                          0.0008192443926
                        ],
                        "passed_time": 7.26080925,
                        "iteration": 139,
                        "remaining_time": 44.60211397,
                        "learn": [
                          0.001177321016
                        ]
                      },
                      {
                        "test": [
                          1,
                          0.0007999785765
                        ],
                        "passed_time": 7.317050063,
                        "iteration": 140,
                        "remaining_time": 44.57692201,
                        "learn": [
                          0.001156966507
                        ]
                      },
                      {
                        "test": [
                          1,
                          0.0007982595689
                        ],
                        "passed_time": 7.377459733,
                        "iteration": 141,
                        "remaining_time": 44.57648205,
                        "learn": [
                          0.00115219787
                        ]
                      },
                      {
                        "test": [
                          1,
                          0.000785210176
                        ],
                        "passed_time": 7.433835011,
                        "iteration": 142,
                        "remaining_time": 44.5510252,
                        "learn": [
                          0.001139242732
                        ]
                      },
                      {
                        "test": [
                          1,
                          0.0007852093201
                        ],
                        "passed_time": 7.476890959,
                        "iteration": 143,
                        "remaining_time": 44.44596292,
                        "learn": [
                          0.001139236581
                        ]
                      },
                      {
                        "test": [
                          1,
                          0.0007769109316
                        ],
                        "passed_time": 7.54133069,
                        "iteration": 144,
                        "remaining_time": 44.46784648,
                        "learn": [
                          0.001125426407
                        ]
                      },
                      {
                        "test": [
                          1,
                          0.0007769090077
                        ],
                        "passed_time": 7.599686137,
                        "iteration": 145,
                        "remaining_time": 44.45295863,
                        "learn": [
                          0.00112542287
                        ]
                      },
                      {
                        "test": [
                          1,
                          0.0007769033528
                        ],
                        "passed_time": 7.637288423,
                        "iteration": 146,
                        "remaining_time": 44.31705459,
                        "learn": [
                          0.001125416158
                        ]
                      },
                      {
                        "test": [
                          1,
                          0.0007668158894
                        ],
                        "passed_time": 7.702507055,
                        "iteration": 147,
                        "remaining_time": 44.34145953,
                        "learn": [
                          0.001112232369
                        ]
                      },
                      {
                        "test": [
                          1,
                          0.0007668090202
                        ],
                        "passed_time": 7.751884629,
                        "iteration": 148,
                        "remaining_time": 44.27418671,
                        "learn": [
                          0.001112214959
                        ]
                      },
                      {
                        "test": [
                          1,
                          0.0007581403411
                        ],
                        "passed_time": 7.77291273,
                        "iteration": 149,
                        "remaining_time": 44.04650547,
                        "learn": [
                          0.001104632306
                        ]
                      },
                      {
                        "test": [
                          1,
                          0.0007581385589
                        ],
                        "passed_time": 7.863933183,
                        "iteration": 150,
                        "remaining_time": 44.21509452,
                        "learn": [
                          0.001104630009
                        ]
                      },
                      {
                        "test": [
                          1,
                          0.0007581257807
                        ],
                        "passed_time": 7.90257205,
                        "iteration": 151,
                        "remaining_time": 44.08803354,
                        "learn": [
                          0.001104614973
                        ]
                      },
                      {
                        "test": [
                          1,
                          0.0007581251636
                        ],
                        "passed_time": 7.941289048,
                        "iteration": 152,
                        "remaining_time": 43.96256094,
                        "learn": [
                          0.001104612998
                        ]
                      },
                      {
                        "test": [
                          1,
                          0.0007469631367
                        ],
                        "passed_time": 7.993681954,
                        "iteration": 153,
                        "remaining_time": 43.91334372,
                        "learn": [
                          0.00109119238
                        ]
                      },
                      {
                        "test": [
                          1,
                          0.0007320587456
                        ],
                        "passed_time": 8.056905955,
                        "iteration": 154,
                        "remaining_time": 43.92313247,
                        "learn": [
                          0.001071459498
                        ]
                      },
                      {
                        "test": [
                          1,
                          0.000717568543
                        ],
                        "passed_time": 8.114918586,
                        "iteration": 155,
                        "remaining_time": 43.9037903,
                        "learn": [
                          0.001056025024
                        ]
                      },
                      {
                        "test": [
                          1,
                          0.0006934675718
                        ],
                        "passed_time": 8.177127852,
                        "iteration": 156,
                        "remaining_time": 43.90648904,
                        "learn": [
                          0.001027276413
                        ]
                      },
                      {
                        "test": [
                          1,
                          0.0006893617196
                        ],
                        "passed_time": 8.232325149,
                        "iteration": 157,
                        "remaining_time": 43.87099858,
                        "learn": [
                          0.001022061705
                        ]
                      },
                      {
                        "test": [
                          1,
                          0.0006893617196
                        ],
                        "passed_time": 8.285585644,
                        "iteration": 158,
                        "remaining_time": 43.82501589,
                        "learn": [
                          0.001022061705
                        ]
                      },
                      {
                        "test": [
                          1,
                          0.0006825853764
                        ],
                        "passed_time": 8.347225103,
                        "iteration": 159,
                        "remaining_time": 43.82293179,
                        "learn": [
                          0.001010935089
                        ]
                      },
                      {
                        "test": [
                          1,
                          0.0006753988364
                        ],
                        "passed_time": 8.42125033,
                        "iteration": 160,
                        "remaining_time": 43.88465234,
                        "learn": [
                          0.0009992859003
                        ]
                      },
                      {
                        "test": [
                          1,
                          0.0006753988364
                        ],
                        "passed_time": 8.461991722,
                        "iteration": 161,
                        "remaining_time": 43.77252508,
                        "learn": [
                          0.0009992859003
                        ]
                      },
                      {
                        "test": [
                          1,
                          0.0006753988364
                        ],
                        "passed_time": 8.513801515,
                        "iteration": 162,
                        "remaining_time": 43.71810962,
                        "learn": [
                          0.0009992859003
                        ]
                      },
                      {
                        "test": [
                          1,
                          0.0006753979365
                        ],
                        "passed_time": 8.547295246,
                        "iteration": 163,
                        "remaining_time": 43.57035869,
                        "learn": [
                          0.0009992845174
                        ]
                      },
                      {
                        "test": [
                          1,
                          0.0006753933972
                        ],
                        "passed_time": 8.588325097,
                        "iteration": 164,
                        "remaining_time": 43.46213003,
                        "learn": [
                          0.0009992770721
                        ]
                      },
                      {
                        "test": [
                          1,
                          0.0006753859542
                        ],
                        "passed_time": 8.644483573,
                        "iteration": 165,
                        "remaining_time": 43.43071867,
                        "learn": [
                          0.0009992664637
                        ]
                      },
                      {
                        "test": [
                          1,
                          0.0006739173742
                        ],
                        "passed_time": 8.689383439,
                        "iteration": 166,
                        "remaining_time": 43.34285272,
                        "learn": [
                          0.0009960009809
                        ]
                      },
                      {
                        "test": [
                          1,
                          0.0006739106492
                        ],
                        "passed_time": 8.748611973,
                        "iteration": 167,
                        "remaining_time": 43.32645929,
                        "learn": [
                          0.0009959916827
                        ]
                      },
                      {
                        "test": [
                          1,
                          0.0006495102414
                        ],
                        "passed_time": 8.802698402,
                        "iteration": 168,
                        "remaining_time": 43.28427439,
                        "learn": [
                          0.0009717307966
                        ]
                      },
                      {
                        "test": [
                          1,
                          0.0006495086578
                        ],
                        "passed_time": 8.903554813,
                        "iteration": 169,
                        "remaining_time": 43.47029703,
                        "learn": [
                          0.0009717286985
                        ]
                      },
                      {
                        "test": [
                          1,
                          0.0006495077298
                        ],
                        "passed_time": 8.949999203,
                        "iteration": 170,
                        "remaining_time": 43.38917742,
                        "learn": [
                          0.000971726722
                        ]
                      },
                      {
                        "test": [
                          1,
                          0.000649501363
                        ],
                        "passed_time": 8.983626909,
                        "iteration": 171,
                        "remaining_time": 43.2467621,
                        "learn": [
                          0.0009717188943
                        ]
                      },
                      {
                        "test": [
                          1,
                          0.0006495002537
                        ],
                        "passed_time": 9.012322793,
                        "iteration": 172,
                        "remaining_time": 43.08202861,
                        "learn": [
                          0.0009717100326
                        ]
                      },
                      {
                        "test": [
                          1,
                          0.0006494816645
                        ],
                        "passed_time": 9.061473255,
                        "iteration": 173,
                        "remaining_time": 43.01595924,
                        "learn": [
                          0.0009716866952
                        ]
                      },
                      {
                        "test": [
                          1,
                          0.0006494809177
                        ],
                        "passed_time": 9.10919743,
                        "iteration": 174,
                        "remaining_time": 42.94335931,
                        "learn": [
                          0.0009716850994
                        ]
                      },
                      {
                        "test": [
                          1,
                          0.00064947863
                        ],
                        "passed_time": 9.175752937,
                        "iteration": 175,
                        "remaining_time": 42.95920693,
                        "learn": [
                          0.0009716817013
                        ]
                      },
                      {
                        "test": [
                          1,
                          0.0006494749698
                        ],
                        "passed_time": 9.225308124,
                        "iteration": 176,
                        "remaining_time": 42.89507676,
                        "learn": [
                          0.0009716760735
                        ]
                      },
                      {
                        "test": [
                          1,
                          0.0006494749698
                        ],
                        "passed_time": 9.272814769,
                        "iteration": 177,
                        "remaining_time": 42.82165023,
                        "learn": [
                          0.0009716760735
                        ]
                      },
                      {
                        "test": [
                          1,
                          0.0006494474878
                        ],
                        "passed_time": 9.327110069,
                        "iteration": 178,
                        "remaining_time": 42.77965009,
                        "learn": [
                          0.0009716443196
                        ]
                      },
                      {
                        "test": [
                          1,
                          0.0006494468795
                        ],
                        "passed_time": 9.382610682,
                        "iteration": 179,
                        "remaining_time": 42.74300422,
                        "learn": [
                          0.0009716429272
                        ]
                      },
                      {
                        "test": [
                          1,
                          0.0006494445194
                        ],
                        "passed_time": 9.445349699,
                        "iteration": 180,
                        "remaining_time": 42.73890278,
                        "learn": [
                          0.0009716388216
                        ]
                      },
                      {
                        "test": [
                          1,
                          0.0006494328458
                        ],
                        "passed_time": 9.501286624,
                        "iteration": 181,
                        "remaining_time": 42.70358494,
                        "learn": [
                          0.0009716220524
                        ]
                      },
                      {
                        "test": [
                          1,
                          0.0006494311292
                        ],
                        "passed_time": 9.549065023,
                        "iteration": 182,
                        "remaining_time": 42.63161816,
                        "learn": [
                          0.0009716186673
                        ]
                      },
                      {
                        "test": [
                          1,
                          0.0006494251208
                        ],
                        "passed_time": 9.590342941,
                        "iteration": 183,
                        "remaining_time": 42.53108609,
                        "learn": [
                          0.0009716081339
                        ]
                      },
                      {
                        "test": [
                          1,
                          0.0006494218858
                        ],
                        "passed_time": 9.650846153,
                        "iteration": 184,
                        "remaining_time": 42.51588981,
                        "learn": [
                          0.0009716027547
                        ]
                      },
                      {
                        "test": [
                          1,
                          0.0006494127237
                        ],
                        "passed_time": 9.701881386,
                        "iteration": 185,
                        "remaining_time": 42.45877123,
                        "learn": [
                          0.0009715895131
                        ]
                      },
                      {
                        "test": [
                          1,
                          0.0006374270274
                        ],
                        "passed_time": 9.765897489,
                        "iteration": 186,
                        "remaining_time": 42.45815325,
                        "learn": [
                          0.0009583776118
                        ]
                      },
                      {
                        "test": [
                          1,
                          0.0006374110714
                        ],
                        "passed_time": 9.817203159,
                        "iteration": 187,
                        "remaining_time": 42.40196258,
                        "learn": [
                          0.0009583636116
                        ]
                      },
                      {
                        "test": [
                          1,
                          0.000627099482
                        ],
                        "passed_time": 9.902260641,
                        "iteration": 188,
                        "remaining_time": 42.4906528,
                        "learn": [
                          0.0009432353876
                        ]
                      },
                      {
                        "test": [
                          1,
                          0.0006270953259
                        ],
                        "passed_time": 9.990685207,
                        "iteration": 189,
                        "remaining_time": 42.59186851,
                        "learn": [
                          0.000943225078
                        ]
                      },
                      {
                        "test": [
                          1,
                          0.0006270885348
                        ],
                        "passed_time": 10.03927306,
                        "iteration": 190,
                        "remaining_time": 42.52236601,
                        "learn": [
                          0.0009432181217
                        ]
                      },
                      {
                        "test": [
                          1,
                          0.0006270675102
                        ],
                        "passed_time": 10.09733632,
                        "iteration": 191,
                        "remaining_time": 42.49295702,
                        "learn": [
                          0.0009431987746
                        ]
                      },
                      {
                        "test": [
                          1,
                          0.0006270675102
                        ],
                        "passed_time": 10.16073189,
                        "iteration": 192,
                        "remaining_time": 42.48554735,
                        "learn": [
                          0.0009431987746
                        ]
                      },
                      {
                        "test": [
                          1,
                          0.0006270669683
                        ],
                        "passed_time": 10.21458706,
                        "iteration": 193,
                        "remaining_time": 42.43792355,
                        "learn": [
                          0.0009431981627
                        ]
                      },
                      {
                        "test": [
                          1,
                          0.0006270647498
                        ],
                        "passed_time": 10.26517794,
                        "iteration": 194,
                        "remaining_time": 42.37676022,
                        "learn": [
                          0.0009431946689
                        ]
                      },
                      {
                        "test": [
                          1,
                          0.0006270600061
                        ],
                        "passed_time": 10.32108593,
                        "iteration": 195,
                        "remaining_time": 42.33751577,
                        "learn": [
                          0.0009431877409
                        ]
                      },
                      {
                        "test": [
                          1,
                          0.0006160148209
                        ],
                        "passed_time": 10.38878021,
                        "iteration": 196,
                        "remaining_time": 42.34614472,
                        "learn": [
                          0.0009311445769
                        ]
                      },
                      {
                        "test": [
                          1,
                          0.0006160095557
                        ],
                        "passed_time": 10.43863421,
                        "iteration": 197,
                        "remaining_time": 42.28174058,
                        "learn": [
                          0.0009311374211
                        ]
                      },
                      {
                        "test": [
                          1,
                          0.0006160095557
                        ],
                        "passed_time": 10.50534247,
                        "iteration": 198,
                        "remaining_time": 42.28532321,
                        "learn": [
                          0.0009311374211
                        ]
                      },
                      {
                        "test": [
                          1,
                          0.0006160095557
                        ],
                        "passed_time": 10.56814898,
                        "iteration": 199,
                        "remaining_time": 42.2725959,
                        "learn": [
                          0.0009311374211
                        ]
                      },
                      {
                        "test": [
                          1,
                          0.0006160095557
                        ],
                        "passed_time": 10.63354764,
                        "iteration": 200,
                        "remaining_time": 42.26967446,
                        "learn": [
                          0.0009311374211
                        ]
                      },
                      {
                        "test": [
                          1,
                          0.0006160070297
                        ],
                        "passed_time": 10.68276682,
                        "iteration": 201,
                        "remaining_time": 42.20221746,
                        "learn": [
                          0.0009311330256
                        ]
                      },
                      {
                        "test": [
                          1,
                          0.0006160011041
                        ],
                        "passed_time": 10.74528673,
                        "iteration": 202,
                        "remaining_time": 42.18716021,
                        "learn": [
                          0.0009311211089
                        ]
                      },
                      {
                        "test": [
                          1,
                          0.0006130652217
                        ],
                        "passed_time": 10.79912806,
                        "iteration": 203,
                        "remaining_time": 42.13777418,
                        "learn": [
                          0.0009273319598
                        ]
                      },
                      {
                        "test": [
                          1,
                          0.0006130626095
                        ],
                        "passed_time": 10.86629718,
                        "iteration": 204,
                        "remaining_time": 42.14003053,
                        "learn": [
                          0.0009273272733
                        ]
                      },
                      {
                        "test": [
                          1,
                          0.0006130569816
                        ],
                        "passed_time": 10.95245448,
                        "iteration": 205,
                        "remaining_time": 42.21480028,
                        "learn": [
                          0.0009273168898
                        ]
                      },
                      {
                        "test": [
                          1,
                          0.0006022281586
                        ],
                        "passed_time": 11.02484843,
                        "iteration": 206,
                        "remaining_time": 42.23528893,
                        "learn": [
                          0.0009159376636
                        ]
                      },
                      {
                        "test": [
                          1,
                          0.0006022254207
                        ],
                        "passed_time": 11.07829369,
                        "iteration": 207,
                        "remaining_time": 42.18273367,
                        "learn": [
                          0.0009159349183
                        ]
                      },
                      {
                        "test": [
                          1,
                          0.0006022224232
                        ],
                        "passed_time": 11.12240711,
                        "iteration": 208,
                        "remaining_time": 42.09485181,
                        "learn": [
                          0.0009159184463
                        ]
                      },
                      {
                        "test": [
                          1,
                          0.000602221208
                        ],
                        "passed_time": 11.17563411,
                        "iteration": 209,
                        "remaining_time": 42.04167117,
                        "learn": [
                          0.0009159163878
                        ]
                      },
                      {
                        "test": [
                          1,
                          0.0006022100249
                        ],
                        "passed_time": 11.23481517,
                        "iteration": 210,
                        "remaining_time": 42.01075434,
                        "learn": [
                          0.0009159011637
                        ]
                      },
                      {
                        "test": [
                          1,
                          0.0006022076575
                        ],
                        "passed_time": 11.29058821,
                        "iteration": 211,
                        "remaining_time": 41.96690334,
                        "learn": [
                          0.0009158795624
                        ]
                      },
                      {
                        "test": [
                          1,
                          0.0006022006862
                        ],
                        "passed_time": 11.35190984,
                        "iteration": 212,
                        "remaining_time": 41.94344153,
                        "learn": [
                          0.0009158665134
                        ]
                      },
                      {
                        "test": [
                          1,
                          0.0006021948224
                        ],
                        "passed_time": 11.40593271,
                        "iteration": 213,
                        "remaining_time": 41.89281825,
                        "learn": [
                          0.0009158489994
                        ]
                      },
                      {
                        "test": [
                          1,
                          0.0006020150083
                        ],
                        "passed_time": 11.46351125,
                        "iteration": 214,
                        "remaining_time": 41.85514572,
                        "learn": [
                          0.000913901516
                        ]
                      },
                      {
                        "test": [
                          1,
                          0.0006020141024
                        ],
                        "passed_time": 11.50472853,
                        "iteration": 215,
                        "remaining_time": 41.75790355,
                        "learn": [
                          0.0009138995053
                        ]
                      },
                      {
                        "test": [
                          1,
                          0.0005937724389
                        ],
                        "passed_time": 11.55898163,
                        "iteration": 216,
                        "remaining_time": 41.70821482,
                        "learn": [
                          0.0009021911751
                        ]
                      },
                      {
                        "test": [
                          1,
                          0.0005937709356
                        ],
                        "passed_time": 11.60119015,
                        "iteration": 217,
                        "remaining_time": 41.61527841,
                        "learn": [
                          0.0009021889866
                        ]
                      },
                      {
                        "test": [
                          1,
                          0.000593770339
                        ],
                        "passed_time": 11.64641994,
                        "iteration": 218,
                        "remaining_time": 41.53357979,
                        "learn": [
                          0.0009021879967
                        ]
                      },
                      {
                        "test": [
                          1,
                          0.0005937693866
                        ],
                        "passed_time": 11.68793997,
                        "iteration": 219,
                        "remaining_time": 41.43905989,
                        "learn": [
                          0.0009021862232
                        ]
                      },
                      {
                        "test": [
                          1,
                          0.0005937632959
                        ],
                        "passed_time": 11.73800116,
                        "iteration": 220,
                        "remaining_time": 41.37512624,
                        "learn": [
                          0.0009021723287
                        ]
                      },
                      {
                        "test": [
                          1,
                          0.0005929114545
                        ],
                        "passed_time": 11.78470258,
                        "iteration": 221,
                        "remaining_time": 41.29954326,
                        "learn": [
                          0.0009000468382
                        ]
                      },
                      {
                        "test": [
                          1,
                          0.0005929064478
                        ],
                        "passed_time": 11.8448963,
                        "iteration": 222,
                        "remaining_time": 41.27123061,
                        "learn": [
                          0.000900037922
                        ]
                      },
                      {
                        "test": [
                          1,
                          0.0005929000893
                        ],
                        "passed_time": 11.89634985,
                        "iteration": 223,
                        "remaining_time": 41.21235482,
                        "learn": [
                          0.0009000288775
                        ]
                      },
                      {
                        "test": [
                          1,
                          0.000592897867
                        ],
                        "passed_time": 11.9439657,
                        "iteration": 224,
                        "remaining_time": 41.14032631,
                        "learn": [
                          0.000900024861
                        ]
                      },
                      {
                        "test": [
                          1,
                          0.000592897867
                        ],
                        "passed_time": 12.05998446,
                        "iteration": 225,
                        "remaining_time": 41.30277865,
                        "learn": [
                          0.000900024861
                        ]
                      },
                      {
                        "test": [
                          1,
                          0.000592897867
                        ],
                        "passed_time": 12.10969418,
                        "iteration": 226,
                        "remaining_time": 41.23697623,
                        "learn": [
                          0.000900024861
                        ]
                      },
                      {
                        "test": [
                          1,
                          0.000592897867
                        ],
                        "passed_time": 12.16190169,
                        "iteration": 227,
                        "remaining_time": 41.17977238,
                        "learn": [
                          0.000900024861
                        ]
                      },
                      {
                        "test": [
                          1,
                          0.0005928953641
                        ],
                        "passed_time": 12.22142719,
                        "iteration": 228,
                        "remaining_time": 41.14725049,
                        "learn": [
                          0.0009000204035
                        ]
                      },
                      {
                        "test": [
                          1,
                          0.0005928937403
                        ],
                        "passed_time": 12.26241955,
                        "iteration": 229,
                        "remaining_time": 41.05244805,
                        "learn": [
                          0.0009000167383
                        ]
                      },
                      {
                        "test": [
                          1,
                          0.0005928876219
                        ],
                        "passed_time": 12.32628102,
                        "iteration": 230,
                        "remaining_time": 41.03424286,
                        "learn": [
                          0.0009000070777
                        ]
                      },
                      {
                        "test": [
                          1,
                          0.0005928800755
                        ],
                        "passed_time": 12.38049251,
                        "iteration": 231,
                        "remaining_time": 40.98369935,
                        "learn": [
                          0.0008999985535
                        ]
                      },
                      {
                        "test": [
                          1,
                          0.0005928800755
                        ],
                        "passed_time": 12.43999386,
                        "iteration": 232,
                        "remaining_time": 40.95053774,
                        "learn": [
                          0.0008999985535
                        ]
                      },
                      {
                        "test": [
                          1,
                          0.0005928800755
                        ],
                        "passed_time": 12.48643248,
                        "iteration": 233,
                        "remaining_time": 40.87439009,
                        "learn": [
                          0.0008999985535
                        ]
                      },
                      {
                        "test": [
                          1,
                          0.0005928739578
                        ],
                        "passed_time": 12.5507687,
                        "iteration": 234,
                        "remaining_time": 40.85675769,
                        "learn": [
                          0.000899988894
                        ]
                      },
                      {
                        "test": [
                          1,
                          0.0005928651998
                        ],
                        "passed_time": 12.59693878,
                        "iteration": 235,
                        "remaining_time": 40.77992047,
                        "learn": [
                          0.0008999722728
                        ]
                      },
                      {
                        "test": [
                          1,
                          0.0005928631588
                        ],
                        "passed_time": 12.64901189,
                        "iteration": 236,
                        "remaining_time": 40.72234628,
                        "learn": [
                          0.0008999654898
                        ]
                      },
                      {
                        "test": [
                          1,
                          0.0005928606567
                        ],
                        "passed_time": 12.70649529,
                        "iteration": 237,
                        "remaining_time": 40.68214038,
                        "learn": [
                          0.0008999610338
                        ]
                      },
                      {
                        "test": [
                          1,
                          0.0005928478144
                        ],
                        "passed_time": 12.76575257,
                        "iteration": 238,
                        "remaining_time": 40.64743809,
                        "learn": [
                          0.000899940097
                        ]
                      },
                      {
                        "test": [
                          1,
                          0.0005928462856
                        ],
                        "passed_time": 12.82629551,
                        "iteration": 239,
                        "remaining_time": 40.61660246,
                        "learn": [
                          0.0008999376832
                        ]
                      },
                      {
                        "test": [
                          1,
                          0.000592840697
                        ],
                        "passed_time": 12.8801048,
                        "iteration": 240,
                        "remaining_time": 40.56431345,
                        "learn": [
                          0.0008999320585
                        ]
                      },
                      {
                        "test": [
                          1,
                          0.000592837123
                        ],
                        "passed_time": 12.91522874,
                        "iteration": 241,
                        "remaining_time": 40.45348507,
                        "learn": [
                          0.0008999277161
                        ]
                      },
                      {
                        "test": [
                          1,
                          0.0005928333296
                        ],
                        "passed_time": 12.96468538,
                        "iteration": 242,
                        "remaining_time": 40.38792935,
                        "learn": [
                          0.0008999224954
                        ]
                      },
                      {
                        "test": [
                          1,
                          0.0005928300809
                        ],
                        "passed_time": 13.0398556,
                        "iteration": 243,
                        "remaining_time": 40.40217556,
                        "learn": [
                          0.0008999151658
                        ]
                      },
                      {
                        "test": [
                          1,
                          0.0005928172424
                        ],
                        "passed_time": 13.15121597,
                        "iteration": 244,
                        "remaining_time": 40.52721655,
                        "learn": [
                          0.0008998942345
                        ]
                      },
                      {
                        "test": [
                          1,
                          0.0005928108486
                        ],
                        "passed_time": 13.20920202,
                        "iteration": 245,
                        "remaining_time": 40.48674117,
                        "learn": [
                          0.0008998873134
                        ]
                      },
                      {
                        "test": [
                          1,
                          0.0005928080098
                        ],
                        "passed_time": 13.26176293,
                        "iteration": 246,
                        "remaining_time": 40.42958497,
                        "learn": [
                          0.0008998789092
                        ]
                      },
                      {
                        "test": [
                          1,
                          0.0005927988203
                        ],
                        "passed_time": 13.3114214,
                        "iteration": 247,
                        "remaining_time": 40.3636649,
                        "learn": [
                          0.0008998634214
                        ]
                      },
                      {
                        "test": [
                          1,
                          0.0005927912748
                        ],
                        "passed_time": 13.37042778,
                        "iteration": 248,
                        "remaining_time": 40.32606934,
                        "learn": [
                          0.0008998552429
                        ]
                      },
                      {
                        "test": [
                          1,
                          0.0005927912748
                        ],
                        "passed_time": 13.4297705,
                        "iteration": 249,
                        "remaining_time": 40.28931149,
                        "learn": [
                          0.0008998552429
                        ]
                      },
                      {
                        "test": [
                          1,
                          0.0005927912748
                        ],
                        "passed_time": 13.49764177,
                        "iteration": 250,
                        "remaining_time": 40.27782345,
                        "learn": [
                          0.0008998552429
                        ]
                      },
                      {
                        "test": [
                          1,
                          0.000592790723
                        ],
                        "passed_time": 13.55871036,
                        "iteration": 251,
                        "remaining_time": 40.24569582,
                        "learn": [
                          0.0008998506089
                        ]
                      },
                      {
                        "test": [
                          1,
                          0.0005927901443
                        ],
                        "passed_time": 13.57673581,
                        "iteration": 252,
                        "remaining_time": 40.08625157,
                        "learn": [
                          0.0008998501202
                        ]
                      },
                      {
                        "test": [
                          1,
                          0.0005927901443
                        ],
                        "passed_time": 13.63934945,
                        "iteration": 253,
                        "remaining_time": 40.05887674,
                        "learn": [
                          0.0008998501202
                        ]
                      },
                      {
                        "test": [
                          1,
                          0.0005927896654
                        ],
                        "passed_time": 13.68934959,
                        "iteration": 254,
                        "remaining_time": 39.99437429,
                        "learn": [
                          0.0008998484263
                        ]
                      },
                      {
                        "test": [
                          1,
                          0.0005927870305
                        ],
                        "passed_time": 13.75211179,
                        "iteration": 255,
                        "remaining_time": 39.96707488,
                        "learn": [
                          0.0008998431166
                        ]
                      },
                      {
                        "test": [
                          1,
                          0.0005927837121
                        ],
                        "passed_time": 13.81219703,
                        "iteration": 256,
                        "remaining_time": 39.93176027,
                        "learn": [
                          0.0008998361865
                        ]
                      },
                      {
                        "test": [
                          1,
                          0.0005927820823
                        ],
                        "passed_time": 13.84963282,
                        "iteration": 257,
                        "remaining_time": 39.83111455,
                        "learn": [
                          0.000899832042
                        ]
                      },
                      {
                        "test": [
                          1,
                          0.0005927820823
                        ],
                        "passed_time": 13.88358726,
                        "iteration": 258,
                        "remaining_time": 39.72099676,
                        "learn": [
                          0.000899832042
                        ]
                      },
                      {
                        "test": [
                          1,
                          0.0005927762255
                        ],
                        "passed_time": 13.93210854,
                        "iteration": 259,
                        "remaining_time": 39.65292431,
                        "learn": [
                          0.0008998125552
                        ]
                      },
                      {
                        "test": [
                          1,
                          0.000592773209
                        ],
                        "passed_time": 13.98180466,
                        "iteration": 260,
                        "remaining_time": 39.58832813,
                        "learn": [
                          0.0008998056785
                        ]
                      },
                      {
                        "test": [
                          1,
                          0.0005927716807
                        ],
                        "passed_time": 14.07433052,
                        "iteration": 261,
                        "remaining_time": 39.64448826,
                        "learn": [
                          0.0008998032657
                        ]
                      },
                      {
                        "test": [
                          1,
                          0.0005927686648
                        ],
                        "passed_time": 14.14840106,
                        "iteration": 262,
                        "remaining_time": 39.64780068,
                        "learn": [
                          0.0008997963899
                        ]
                      },
                      {
                        "test": [
                          1,
                          0.0005927658277
                        ],
                        "passed_time": 14.19831982,
                        "iteration": 263,
                        "remaining_time": 39.58319464,
                        "learn": [
                          0.0008997879899
                        ]
                      },
                      {
                        "test": [
                          1,
                          0.0005927525709
                        ],
                        "passed_time": 14.24992523,
                        "iteration": 264,
                        "remaining_time": 39.52337751,
                        "learn": [
                          0.0008997717778
                        ]
                      },
                      {
                        "test": [
                          1,
                          0.0005927510427
                        ],
                        "passed_time": 14.31534933,
                        "iteration": 265,
                        "remaining_time": 39.50175342,
                        "learn": [
                          0.0008997693651
                        ]
                      },
                      {
                        "test": [
                          1,
                          0.0005927495145
                        ],
                        "passed_time": 14.38010888,
                        "iteration": 266,
                        "remaining_time": 39.47797682,
                        "learn": [
                          0.0008997669524
                        ]
                      },
                      {
                        "test": [
                          1,
                          0.0005927490363
                        ],
                        "passed_time": 14.43117575,
                        "iteration": 267,
                        "remaining_time": 39.41649496,
                        "learn": [
                          0.0008997652597
                        ]
                      },
                      {
                        "test": [
                          1,
                          0.0005927480772
                        ],
                        "passed_time": 14.48264464,
                        "iteration": 268,
                        "remaining_time": 39.35618301,
                        "learn": [
                          0.0008997618564
                        ]
                      },
                      {
                        "test": [
                          1,
                          0.0005927448315
                        ],
                        "passed_time": 14.53279465,
                        "iteration": 269,
                        "remaining_time": 39.29237073,
                        "learn": [
                          0.0008997548569
                        ]
                      },
                      {
                        "test": [
                          1,
                          0.0005927433034
                        ],
                        "passed_time": 14.59558636,
                        "iteration": 270,
                        "remaining_time": 39.2626659,
                        "learn": [
                          0.0008997524442
                        ]
                      },
                      {
                        "test": [
                          1,
                          0.0005927423448
                        ],
                        "passed_time": 14.64516225,
                        "iteration": 271,
                        "remaining_time": 39.19734602,
                        "learn": [
                          0.0008997490417
                        ]
                      },
                      {
                        "test": [
                          1,
                          0.0005927359523
                        ],
                        "passed_time": 14.69371011,
                        "iteration": 272,
                        "remaining_time": 39.12940384,
                        "learn": [
                          0.0008997425796
                        ]
                      },
                      {
                        "test": [
                          1,
                          0.0005927292055
                        ],
                        "passed_time": 14.75587846,
                        "iteration": 273,
                        "remaining_time": 39.09769255,
                        "learn": [
                          0.0008997288926
                        ]
                      },
                      {
                        "test": [
                          1,
                          0.0005927225221
                        ],
                        "passed_time": 14.81897637,
                        "iteration": 274,
                        "remaining_time": 39.06821043,
                        "learn": [
                          0.000899715371
                        ]
                      },
                      {
                        "test": [
                          1,
                          0.0005927225221
                        ],
                        "passed_time": 14.87067706,
                        "iteration": 275,
                        "remaining_time": 39.00858765,
                        "learn": [
                          0.000899715371
                        ]
                      },
                      {
                        "test": [
                          1,
                          0.0005927096924
                        ],
                        "passed_time": 14.93104858,
                        "iteration": 276,
                        "remaining_time": 38.97165386,
                        "learn": [
                          0.0008996944553
                        ]
                      },
                      {
                        "test": [
                          1,
                          0.0005927096924
                        ],
                        "passed_time": 14.99400348,
                        "iteration": 277,
                        "remaining_time": 38.94126084,
                        "learn": [
                          0.0008996944553
                        ]
                      },
                      {
                        "test": [
                          1,
                          0.0005927053219
                        ],
                        "passed_time": 15.04603734,
                        "iteration": 278,
                        "remaining_time": 38.88241191,
                        "learn": [
                          0.0008996861587
                        ]
                      },
                      {
                        "test": [
                          1,
                          0.0005926986419
                        ],
                        "passed_time": 15.14085311,
                        "iteration": 279,
                        "remaining_time": 38.93362228,
                        "learn": [
                          0.0008996726433
                        ]
                      },
                      {
                        "test": [
                          1,
                          0.0005926857496
                        ],
                        "passed_time": 15.21680208,
                        "iteration": 280,
                        "remaining_time": 38.93551849,
                        "learn": [
                          0.0008996114834
                        ]
                      },
                      {
                        "test": [
                          1,
                          0.0005926857496
                        ],
                        "passed_time": 15.27261458,
                        "iteration": 281,
                        "remaining_time": 38.88559315,
                        "learn": [
                          0.0008996114834
                        ]
                      },
                      {
                        "test": [
                          1,
                          0.0005926801201
                        ],
                        "passed_time": 15.32069293,
                        "iteration": 282,
                        "remaining_time": 38.81603119,
                        "learn": [
                          0.0008996025223
                        ]
                      },
                      {
                        "test": [
                          1,
                          0.0005926795462
                        ],
                        "passed_time": 15.36679419,
                        "iteration": 283,
                        "remaining_time": 38.74163605,
                        "learn": [
                          0.0008996015558
                        ]
                      },
                      {
                        "test": [
                          1,
                          0.0005926731338
                        ],
                        "passed_time": 15.45375235,
                        "iteration": 284,
                        "remaining_time": 38.76994011,
                        "learn": [
                          0.0008995911041
                        ]
                      },
                      {
                        "test": [
                          1,
                          0.0005926666123
                        ],
                        "passed_time": 15.4983999,
                        "iteration": 285,
                        "remaining_time": 38.69180955,
                        "learn": [
                          0.0008995745325
                        ]
                      },
                      {
                        "test": [
                          1,
                          0.0005926635584
                        ],
                        "passed_time": 15.56925578,
                        "iteration": 286,
                        "remaining_time": 38.6790222,
                        "learn": [
                          0.0008995697123
                        ]
                      },
                      {
                        "test": [
                          1,
                          0.0005926630362
                        ],
                        "passed_time": 15.62075996,
                        "iteration": 287,
                        "remaining_time": 38.61798991,
                        "learn": [
                          0.0008995679814
                        ]
                      },
                      {
                        "test": [
                          1,
                          0.0005926630362
                        ],
                        "passed_time": 15.68208384,
                        "iteration": 288,
                        "remaining_time": 38.58118203,
                        "learn": [
                          0.0008995679814
                        ]
                      },
                      {
                        "test": [
                          1,
                          0.0005926630362
                        ],
                        "passed_time": 15.74497451,
                        "iteration": 289,
                        "remaining_time": 38.54804104,
                        "learn": [
                          0.0008995679814
                        ]
                      },
                      {
                        "test": [
                          1,
                          0.0005926630362
                        ],
                        "passed_time": 15.79570565,
                        "iteration": 290,
                        "remaining_time": 38.48506977,
                        "learn": [
                          0.0008995679814
                        ]
                      },
                      {
                        "test": [
                          1,
                          0.0005926565428
                        ],
                        "passed_time": 15.83568,
                        "iteration": 291,
                        "remaining_time": 38.39610082,
                        "learn": [
                          0.0008995533393
                        ]
                      },
                      {
                        "test": [
                          1,
                          0.0005926546241
                        ],
                        "passed_time": 15.88491322,
                        "iteration": 292,
                        "remaining_time": 38.32980767,
                        "learn": [
                          0.000899546537
                        ]
                      },
                      {
                        "test": [
                          1,
                          0.0005926546241
                        ],
                        "passed_time": 15.94547032,
                        "iteration": 293,
                        "remaining_time": 38.29082329,
                        "learn": [
                          0.000899546537
                        ]
                      },
                      {
                        "test": [
                          1,
                          0.0005926515703
                        ],
                        "passed_time": 16.00640704,
                        "iteration": 294,
                        "remaining_time": 38.25259988,
                        "learn": [
                          0.0008995417168
                        ]
                      },
                      {
                        "test": [
                          1,
                          0.0005926510486
                        ],
                        "passed_time": 16.05962791,
                        "iteration": 295,
                        "remaining_time": 38.19587178,
                        "learn": [
                          0.0008995399867
                        ]
                      },
                      {
                        "test": [
                          1,
                          0.0005926500899
                        ],
                        "passed_time": 16.10871619,
                        "iteration": 296,
                        "remaining_time": 38.12938546,
                        "learn": [
                          0.0008995365866
                        ]
                      },
                      {
                        "test": [
                          1,
                          0.0005926495164
                        ],
                        "passed_time": 16.18307556,
                        "iteration": 297,
                        "remaining_time": 38.12254713,
                        "learn": [
                          0.0008995356205
                        ]
                      },
                      {
                        "test": [
                          1,
                          0.0005926495164
                        ],
                        "passed_time": 16.26705539,
                        "iteration": 298,
                        "remaining_time": 38.13781213,
                        "learn": [
                          0.0008995356205
                        ]
                      },
                      {
                        "test": [
                          1,
                          0.0005926495164
                        ],
                        "passed_time": 16.3186117,
                        "iteration": 299,
                        "remaining_time": 38.07676064,
                        "learn": [
                          0.0008995356205
                        ]
                      },
                      {
                        "test": [
                          1,
                          0.0005926485581
                        ],
                        "passed_time": 16.36810703,
                        "iteration": 300,
                        "remaining_time": 38.01098609,
                        "learn": [
                          0.0008995322209
                        ]
                      },
                      {
                        "test": [
                          1,
                          0.0005926353108
                        ],
                        "passed_time": 16.42583755,
                        "iteration": 301,
                        "remaining_time": 37.96435302,
                        "learn": [
                          0.0008995160219
                        ]
                      },
                      {
                        "test": [
                          1,
                          0.0005926345794
                        ],
                        "passed_time": 16.47837895,
                        "iteration": 302,
                        "remaining_time": 37.90571,
                        "learn": [
                          0.0008995135885
                        ]
                      },
                      {
                        "test": [
                          1,
                          0.0005926313151
                        ],
                        "passed_time": 16.5366446,
                        "iteration": 303,
                        "remaining_time": 37.86021263,
                        "learn": [
                          0.0008995100128
                        ]
                      },
                      {
                        "test": [
                          1,
                          0.0005926086857
                        ],
                        "passed_time": 16.60083056,
                        "iteration": 304,
                        "remaining_time": 37.8281221,
                        "learn": [
                          0.0008994430054
                        ]
                      },
                      {
                        "test": [
                          1,
                          0.0005926086857
                        ],
                        "passed_time": 16.6635722,
                        "iteration": 305,
                        "remaining_time": 37.7925461,
                        "learn": [
                          0.0008994430054
                        ]
                      },
                      {
                        "test": [
                          1,
                          0.000592595443
                        ],
                        "passed_time": 16.72408329,
                        "iteration": 306,
                        "remaining_time": 37.75175804,
                        "learn": [
                          0.0008994268118
                        ]
                      },
                      {
                        "test": [
                          1,
                          0.0005925943516
                        ],
                        "passed_time": 16.77487905,
                        "iteration": 307,
                        "remaining_time": 37.68901398,
                        "learn": [
                          0.0008994247419
                        ]
                      },
                      {
                        "test": [
                          1,
                          0.0005925928249
                        ],
                        "passed_time": 16.83512157,
                        "iteration": 308,
                        "remaining_time": 37.6474725,
                        "learn": [
                          0.0008994223321
                        ]
                      },
                      {
                        "test": [
                          1,
                          0.0005925899025
                        ],
                        "passed_time": 16.88506498,
                        "iteration": 309,
                        "remaining_time": 37.58288657,
                        "learn": [
                          0.0008994126062
                        ]
                      },
                      {
                        "test": [
                          1,
                          0.0005925899025
                        ],
                        "passed_time": 16.94907602,
                        "iteration": 310,
                        "remaining_time": 37.5495607,
                        "learn": [
                          0.0008994126062
                        ]
                      },
                      {
                        "test": [
                          1,
                          0.0005925878209
                        ],
                        "passed_time": 17.00421556,
                        "iteration": 311,
                        "remaining_time": 37.49647534,
                        "learn": [
                          0.0008994056942
                        ]
                      },
                      {
                        "test": [
                          1,
                          0.000592584625
                        ],
                        "passed_time": 17.05548027,
                        "iteration": 312,
                        "remaining_time": 37.43487204,
                        "learn": [
                          0.0008993903684
                        ]
                      },
                      {
                        "test": [
                          1,
                          0.0005925789622
                        ],
                        "passed_time": 17.10493268,
                        "iteration": 313,
                        "remaining_time": 37.36937523,
                        "learn": [
                          0.0008993736005
                        ]
                      },
                      {
                        "test": [
                          1,
                          0.0005925774355
                        ],
                        "passed_time": 17.16552771,
                        "iteration": 314,
                        "remaining_time": 37.32821104,
                        "learn": [
                          0.0008993711909
                        ]
                      },
                      {
                        "test": [
                          1,
                          0.0005925774355
                        ],
                        "passed_time": 17.29961999,
                        "iteration": 315,
                        "remaining_time": 37.44601288,
                        "learn": [
                          0.0008993711909
                        ]
                      },
                      {
                        "test": [
                          1,
                          0.0005925745147
                        ],
                        "passed_time": 17.34992887,
                        "iteration": 316,
                        "remaining_time": 37.38170795,
                        "learn": [
                          0.0008993614691
                        ]
                      },
                      {
                        "test": [
                          1,
                          0.0005925745147
                        ],
                        "passed_time": 17.41090969,
                        "iteration": 317,
                        "remaining_time": 37.34037865,
                        "learn": [
                          0.0008993614691
                        ]
                      },
                      {
                        "test": [
                          1,
                          0.0005925723097
                        ],
                        "passed_time": 17.46442518,
                        "iteration": 318,
                        "remaining_time": 37.28298918,
                        "learn": [
                          0.0008993430101
                        ]
                      },
                      {
                        "test": [
                          1,
                          0.0005925692564
                        ],
                        "passed_time": 17.53048958,
                        "iteration": 319,
                        "remaining_time": 37.25229036,
                        "learn": [
                          0.0008993381913
                        ]
                      },
                      {
                        "test": [
                          1,
                          0.0005925634164
                        ],
                        "passed_time": 17.59085699,
                        "iteration": 320,
                        "remaining_time": 37.20932055,
                        "learn": [
                          0.000899318753
                        ]
                      },
                      {
                        "test": [
                          1,
                          0.0005925603633
                        ],
                        "passed_time": 17.65765322,
                        "iteration": 321,
                        "remaining_time": 37.17977915,
                        "learn": [
                          0.0008993139344
                        ]
                      },
                      {
                        "test": [
                          1,
                          0.0005925538491
                        ],
                        "passed_time": 17.71311174,
                        "iteration": 322,
                        "remaining_time": 37.1262435,
                        "learn": [
                          0.0008993019045
                        ]
                      },
                      {
                        "test": [
                          1,
                          0.0005925530349
                        ],
                        "passed_time": 17.76919146,
                        "iteration": 323,
                        "remaining_time": 37.07399205,
                        "learn": [
                          0.000899300401
                        ]
                      },
                      {
                        "test": [
                          1,
                          0.0005925399835
                        ],
                        "passed_time": 17.8268419,
                        "iteration": 324,
                        "remaining_time": 37.02497933,
                        "learn": [
                          0.0008992861048
                        ]
                      },
                      {
                        "test": [
                          1,
                          0.0005925399835
                        ],
                        "passed_time": 17.88523035,
                        "iteration": 325,
                        "remaining_time": 36.97743943,
                        "learn": [
                          0.0008992861048
                        ]
                      },
                      {
                        "test": [
                          1,
                          0.0005925380837
                        ],
                        "passed_time": 17.92959471,
                        "iteration": 326,
                        "remaining_time": 36.90097015,
                        "learn": [
                          0.0008992819391
                        ]
                      },
                      {
                        "test": [
                          1,
                          0.0005925350308
                        ],
                        "passed_time": 17.99198855,
                        "iteration": 327,
                        "remaining_time": 36.86163507,
                        "learn": [
                          0.0008992771212
                        ]
                      },
                      {
                        "test": [
                          1,
                          0.0005925319781
                        ],
                        "passed_time": 18.0549915,
                        "iteration": 328,
                        "remaining_time": 36.82340213,
                        "learn": [
                          0.0008992723035
                        ]
                      },
                      {
                        "test": [
                          1,
                          0.0005925254656
                        ],
                        "passed_time": 18.10850452,
                        "iteration": 329,
                        "remaining_time": 36.76575159,
                        "learn": [
                          0.0008992602763
                        ]
                      },
                      {
                        "test": [
                          1,
                          0.0005925224132
                        ],
                        "passed_time": 18.17140117,
                        "iteration": 330,
                        "remaining_time": 36.7270918,
                        "learn": [
                          0.0008992554592
                        ]
                      },
                      {
                        "test": [
                          1,
                          0.0005925169192
                        ],
                        "passed_time": 18.22178296,
                        "iteration": 331,
                        "remaining_time": 36.66310548,
                        "learn": [
                          0.0008992094736
                        ]
                      },
                      {
                        "test": [
                          1,
                          0.0005925131456
                        ],
                        "passed_time": 18.31337238,
                        "iteration": 332,
                        "remaining_time": 36.68173987,
                        "learn": [
                          0.0008992053854
                        ]
                      },
                      {
                        "test": [
                          1,
                          0.0005925065788
                        ],
                        "passed_time": 18.38711317,
                        "iteration": 333,
                        "remaining_time": 36.66412387,
                        "learn": [
                          0.0008991503713
                        ]
                      },
                      {
                        "test": [
                          1,
                          0.0005925065788
                        ],
                        "passed_time": 18.44116874,
                        "iteration": 334,
                        "remaining_time": 36.60709616,
                        "learn": [
                          0.0008991503713
                        ]
                      },
                      {
                        "test": [
                          1,
                          0.0005925035264
                        ],
                        "passed_time": 18.50268762,
                        "iteration": 335,
                        "remaining_time": 36.56483506,
                        "learn": [
                          0.0008991455558
                        ]
                      },
                      {
                        "test": [
                          1,
                          0.0005925016274
                        ],
                        "passed_time": 18.54678402,
                        "iteration": 336,
                        "remaining_time": 36.4881834,
                        "learn": [
                          0.0008991413971
                        ]
                      },
                      {
                        "test": [
                          1,
                          0.0005924994279
                        ],
                        "passed_time": 18.60646834,
                        "iteration": 337,
                        "remaining_time": 36.44225456,
                        "learn": [
                          0.0008991230157
                        ]
                      },
                      {
                        "test": [
                          1,
                          0.0005924963756
                        ],
                        "passed_time": 18.67943719,
                        "iteration": 338,
                        "remaining_time": 36.42214743,
                        "learn": [
                          0.0008991182009
                        ]
                      },
                      {
                        "test": [
                          1,
                          0.0005924963756
                        ],
                        "passed_time": 18.73351783,
                        "iteration": 339,
                        "remaining_time": 36.36506402,
                        "learn": [
                          0.0008991182009
                        ]
                      },
                      {
                        "test": [
                          1,
                          0.0005924931716
                        ],
                        "passed_time": 18.79630496,
                        "iteration": 340,
                        "remaining_time": 36.32482395,
                        "learn": [
                          0.0008991129815
                        ]
                      },
                      {
                        "test": [
                          1,
                          0.0005921576331
                        ],
                        "passed_time": 18.84764309,
                        "iteration": 341,
                        "remaining_time": 36.26242443,
                        "learn": [
                          0.0008979214257
                        ]
                      },
                      {
                        "test": [
                          1,
                          0.0005921446296
                        ],
                        "passed_time": 18.90259047,
                        "iteration": 342,
                        "remaining_time": 36.20700274,
                        "learn": [
                          0.0008978975387
                        ]
                      },
                      {
                        "test": [
                          1,
                          0.0005921367573
                        ],
                        "passed_time": 18.95796436,
                        "iteration": 343,
                        "remaining_time": 36.15239715,
                        "learn": [
                          0.0008978899576
                        ]
                      },
                      {
                        "test": [
                          1,
                          0.0005921335073
                        ],
                        "passed_time": 19.01575034,
                        "iteration": 344,
                        "remaining_time": 36.10236659,
                        "learn": [
                          0.0008978839872
                        ]
                      },
                      {
                        "test": [
                          1,
                          0.0005921256357
                        ],
                        "passed_time": 19.0773958,
                        "iteration": 345,
                        "remaining_time": 36.05958629,
                        "learn": [
                          0.0008978769957
                        ]
                      },
                      {
                        "test": [
                          1,
                          0.0005921177648
                        ],
                        "passed_time": 19.13341727,
                        "iteration": 346,
                        "remaining_time": 36.00611377,
                        "learn": [
                          0.0008978700049
                        ]
                      },
                      {
                        "test": [
                          1,
                          0.0005921098946
                        ],
                        "passed_time": 19.18857674,
                        "iteration": 347,
                        "remaining_time": 35.95101159,
                        "learn": [
                          0.0008978624258
                        ]
                      },
                      {
                        "test": [
                          1,
                          0.0005921098946
                        ],
                        "passed_time": 19.24509933,
                        "iteration": 348,
                        "remaining_time": 35.89845176,
                        "learn": [
                          0.0008978624258
                        ]
                      },
                      {
                        "test": [
                          1,
                          0.0005921098946
                        ],
                        "passed_time": 19.30044463,
                        "iteration": 349,
                        "remaining_time": 35.84368288,
                        "learn": [
                          0.0008978624258
                        ]
                      },
                      {
                        "test": [
                          1,
                          0.0005921090822
                        ],
                        "passed_time": 19.42738732,
                        "iteration": 350,
                        "remaining_time": 35.92129451,
                        "learn": [
                          0.0008978609332
                        ]
                      },
                      {
                        "test": [
                          1,
                          0.0005920960847
                        ],
                        "passed_time": 19.4843838,
                        "iteration": 351,
                        "remaining_time": 35.86897927,
                        "learn": [
                          0.0008978370539
                        ]
                      },
                      {
                        "test": [
                          1,
                          0.0005920960847
                        ],
                        "passed_time": 19.54436824,
                        "iteration": 352,
                        "remaining_time": 35.82211402,
                        "learn": [
                          0.0008978370539
                        ]
                      },
                      {
                        "test": [
                          1,
                          0.0005920945621
                        ],
                        "passed_time": 19.60738198,
                        "iteration": 353,
                        "remaining_time": 35.78070272,
                        "learn": [
                          0.0008978346562
                        ]
                      },
                      {
                        "test": [
                          1,
                          0.0005920930396
                        ],
                        "passed_time": 19.6798345,
                        "iteration": 354,
                        "remaining_time": 35.75631901,
                        "learn": [
                          0.0008978322586
                        ]
                      },
                      {
                        "test": [
                          1,
                          0.0005920930396
                        ],
                        "passed_time": 19.74024226,
                        "iteration": 355,
                        "remaining_time": 35.70987645,
                        "learn": [
                          0.0008978322586
                        ]
                      },
                      {
                        "test": [
                          1,
                          0.0005920851698
                        ],
                        "passed_time": 19.79791407,
                        "iteration": 356,
                        "remaining_time": 35.65842785,
                        "learn": [
                          0.0008978252688
                        ]
                      },
                      {
                        "test": [
                          1,
                          0.0005920721769
                        ],
                        "passed_time": 19.85161557,
                        "iteration": 357,
                        "remaining_time": 35.59982458,
                        "learn": [
                          0.0008978013963
                        ]
                      },
                      {
                        "test": [
                          1,
                          0.0005920643073
                        ],
                        "passed_time": 19.90633946,
                        "iteration": 358,
                        "remaining_time": 35.54307408,
                        "learn": [
                          0.000897794407
                        ]
                      },
                      {
                        "test": [
                          1,
                          0.0005920643073
                        ],
                        "passed_time": 19.97163352,
                        "iteration": 359,
                        "remaining_time": 35.50512625,
                        "learn": [
                          0.000897794407
                        ]
                      },
                      {
                        "test": [
                          1,
                          0.0005920643073
                        ],
                        "passed_time": 20.03191109,
                        "iteration": 360,
                        "remaining_time": 35.45814733,
                        "learn": [
                          0.000897794407
                        ]
                      },
                      {
                        "test": [
                          1,
                          0.0005920643073
                        ],
                        "passed_time": 20.09397781,
                        "iteration": 361,
                        "remaining_time": 35.41424818,
                        "learn": [
                          0.000897794407
                        ]
                      },
                      {
                        "test": [
                          1,
                          0.00059206106
                        ],
                        "passed_time": 20.14955884,
                        "iteration": 362,
                        "remaining_time": 35.35886771,
                        "learn": [
                          0.0008977884401
                        ]
                      },
                      {
                        "test": [
                          1,
                          0.0005920531911
                        ],
                        "passed_time": 20.20623368,
                        "iteration": 363,
                        "remaining_time": 35.30539731,
                        "learn": [
                          0.0008977808626
                        ]
                      },
                      {
                        "test": [
                          1,
                          0.0005920453229
                        ],
                        "passed_time": 20.2615534,
                        "iteration": 364,
                        "remaining_time": 35.24955181,
                        "learn": [
                          0.0008977732858
                        ]
                      },
                      {
                        "test": [
                          1,
                          0.0005920438007
                        ],
                        "passed_time": 20.32679583,
                        "iteration": 365,
                        "remaining_time": 35.2108977,
                        "learn": [
                          0.0008977708885
                        ]
                      },
                      {
                        "test": [
                          1,
                          0.0005920405537
                        ],
                        "passed_time": 20.3841774,
                        "iteration": 366,
                        "remaining_time": 35.15854031,
                        "learn": [
                          0.000897764922
                        ]
                      },
                      {
                        "test": [
                          1,
                          0.0005920405537
                        ],
                        "passed_time": 20.62494425,
                        "iteration": 367,
                        "remaining_time": 35.42109991,
                        "learn": [
                          0.000897764922
                        ]
                      },
                      {
                        "test": [
                          1,
                          0.0005920405537
                        ],
                        "passed_time": 20.69795427,
                        "iteration": 368,
                        "remaining_time": 35.39406273,
                        "learn": [
                          0.000897764922
                        ]
                      },
                      {
                        "test": [
                          1,
                          0.0005920405537
                        ],
                        "passed_time": 20.76916321,
                        "iteration": 369,
                        "remaining_time": 35.36371033,
                        "learn": [
                          0.000897764922
                        ]
                      },
                      {
                        "test": [
                          1,
                          0.0005920405537
                        ],
                        "passed_time": 20.83677482,
                        "iteration": 370,
                        "remaining_time": 35.32703871,
                        "learn": [
                          0.000897764922
                        ]
                      },
                      {
                        "test": [
                          1,
                          0.0005920326862
                        ],
                        "passed_time": 20.89203352,
                        "iteration": 371,
                        "remaining_time": 35.2693469,
                        "learn": [
                          0.0008977579346
                        ]
                      },
                      {
                        "test": [
                          1,
                          0.0005920248195
                        ],
                        "passed_time": 20.94658888,
                        "iteration": 372,
                        "remaining_time": 35.21048587,
                        "learn": [
                          0.0008977509479
                        ]
                      },
                      {
                        "test": [
                          1,
                          0.0005920248195
                        ],
                        "passed_time": 21.00841346,
                        "iteration": 373,
                        "remaining_time": 35.16381504,
                        "learn": [
                          0.0008977509479
                        ]
                      },
                      {
                        "test": [
                          1,
                          0.0005920248195
                        ],
                        "passed_time": 21.06378818,
                        "iteration": 374,
                        "remaining_time": 35.10631363,
                        "learn": [
                          0.0008977509479
                        ]
                      },
                      {
                        "test": [
                          1,
                          0.0005920248195
                        ],
                        "passed_time": 21.12197329,
                        "iteration": 375,
                        "remaining_time": 35.05348759,
                        "learn": [
                          0.0008977509479
                        ]
                      },
                      {
                        "test": [
                          1,
                          0.0005920215728
                        ],
                        "passed_time": 21.18237024,
                        "iteration": 376,
                        "remaining_time": 35.00428822,
                        "learn": [
                          0.0008977449817
                        ]
                      },
                      {
                        "test": [
                          1,
                          0.0005920183263
                        ],
                        "passed_time": 21.23787097,
                        "iteration": 377,
                        "remaining_time": 34.94697287,
                        "learn": [
                          0.0008977390159
                        ]
                      },
                      {
                        "test": [
                          1,
                          0.0005920150802
                        ],
                        "passed_time": 21.29463112,
                        "iteration": 378,
                        "remaining_time": 34.89173068,
                        "learn": [
                          0.0008977330505
                        ]
                      },
                      {
                        "test": [
                          1,
                          0.0005920118343
                        ],
                        "passed_time": 21.3500202,
                        "iteration": 379,
                        "remaining_time": 34.83424348,
                        "learn": [
                          0.0008977270855
                        ]
                      },
                      {
                        "test": [
                          1,
                          0.0005920103122
                        ],
                        "passed_time": 21.41134834,
                        "iteration": 380,
                        "remaining_time": 34.78641632,
                        "learn": [
                          0.0008977246885
                        ]
                      },
                      {
                        "test": [
                          1,
                          0.0005920095008
                        ],
                        "passed_time": 21.46977808,
                        "iteration": 381,
                        "remaining_time": 34.73382945,
                        "learn": [
                          0.0008977231974
                        ]
                      },
                      {
                        "test": [
                          1,
                          0.0005919937682
                        ],
                        "passed_time": 21.52366683,
                        "iteration": 382,
                        "remaining_time": 34.67389669,
                        "learn": [
                          0.0008977080477
                        ]
                      },
                      {
                        "test": [
                          1,
                          0.0005919905227
                        ],
                        "passed_time": 21.63433075,
                        "iteration": 383,
                        "remaining_time": 34.70507224,
                        "learn": [
                          0.0008977020832
                        ]
                      },
                      {
                        "test": [
                          1,
                          0.0005919826577
                        ],
                        "passed_time": 21.71369217,
                        "iteration": 384,
                        "remaining_time": 34.68550826,
                        "learn": [
                          0.0008976950982
                        ]
                      },
                      {
                        "test": [
                          1,
                          0.0005919747935
                        ],
                        "passed_time": 21.76908967,
                        "iteration": 385,
                        "remaining_time": 34.62751569,
                        "learn": [
                          0.0008976881138
                        ]
                      },
                      {
                        "test": [
                          1,
                          0.0005919747935
                        ],
                        "passed_time": 21.83184224,
                        "iteration": 386,
                        "remaining_time": 34.5811868,
                        "learn": [
                          0.0008976881138
                        ]
                      },
                      {
                        "test": [
                          1,
                          0.0005919715483
                        ],
                        "passed_time": 21.88839039,
                        "iteration": 387,
                        "remaining_time": 34.52498691,
                        "learn": [
                          0.0008976821496
                        ]
                      },
                      {
                        "test": [
                          1,
                          0.0005919700263
                        ],
                        "passed_time": 21.94888838,
                        "iteration": 388,
                        "remaining_time": 34.47498921,
                        "learn": [
                          0.0008976797529
                        ]
                      },
                      {
                        "test": [
                          1,
                          0.0005919700263
                        ],
                        "passed_time": 22.01197153,
                        "iteration": 389,
                        "remaining_time": 34.42898112,
                        "learn": [
                          0.0008976797529
                        ]
                      },
                      {
                        "test": [
                          1,
                          0.0005919667814
                        ],
                        "passed_time": 22.07129394,
                        "iteration": 390,
                        "remaining_time": 34.37702816,
                        "learn": [
                          0.0008976737891
                        ]
                      },
                      {
                        "test": [
                          1,
                          0.0005919635368
                        ],
                        "passed_time": 22.13143523,
                        "iteration": 391,
                        "remaining_time": 34.32630771,
                        "learn": [
                          0.0008976678257
                        ]
                      },
                      {
                        "test": [
                          1,
                          0.0005919635368
                        ],
                        "passed_time": 22.19289296,
                        "iteration": 392,
                        "remaining_time": 34.27757259,
                        "learn": [
                          0.0008976678257
                        ]
                      },
                      {
                        "test": [
                          1,
                          0.0005919602924
                        ],
                        "passed_time": 22.24732637,
                        "iteration": 393,
                        "remaining_time": 34.21796898,
                        "learn": [
                          0.0008976618627
                        ]
                      },
                      {
                        "test": [
                          1,
                          0.0005919587706
                        ],
                        "passed_time": 22.30855489,
                        "iteration": 394,
                        "remaining_time": 34.16879926,
                        "learn": [
                          0.0008976594662
                        ]
                      },
                      {
                        "test": [
                          1,
                          0.0005919555266
                        ],
                        "passed_time": 22.36324616,
                        "iteration": 395,
                        "remaining_time": 34.10959768,
                        "learn": [
                          0.0008976535037
                        ]
                      },
                      {
                        "test": [
                          1,
                          0.0005919522828
                        ],
                        "passed_time": 22.41864691,
                        "iteration": 396,
                        "remaining_time": 34.05149644,
                        "learn": [
                          0.0008976475416
                        ]
                      },
                      {
                        "test": [
                          1,
                          0.0005919444186
                        ],
                        "passed_time": 22.4749205,
                        "iteration": 397,
                        "remaining_time": 33.994729,
                        "learn": [
                          0.0008976405576
                        ]
                      },
                      {
                        "test": [
                          1,
                          0.0005919365552
                        ],
                        "passed_time": 22.52798918,
                        "iteration": 398,
                        "remaining_time": 33.93313658,
                        "learn": [
                          0.0008976329857
                        ]
                      },
                      {
                        "test": [
                          1,
                          0.0005919333117
                        ],
                        "passed_time": 22.58311054,
                        "iteration": 399,
                        "remaining_time": 33.87466582,
                        "learn": [
                          0.0008976270239
                        ]
                      },
                      {
                        "test": [
                          1,
                          0.0005919333117
                        ],
                        "passed_time": 22.71343362,
                        "iteration": 400,
                        "remaining_time": 33.92854548,
                        "learn": [
                          0.0008976270239
                        ]
                      },
                      {
                        "test": [
                          1,
                          0.0005919317901
                        ],
                        "passed_time": 22.78213626,
                        "iteration": 401,
                        "remaining_time": 33.88984449,
                        "learn": [
                          0.0008976246276
                        ]
                      },
                      {
                        "test": [
                          1,
                          0.0005919285469
                        ],
                        "passed_time": 22.8386825,
                        "iteration": 402,
                        "remaining_time": 33.83298623,
                        "learn": [
                          0.0008976186663
                        ]
                      },
                      {
                        "test": [
                          1,
                          0.0005919285469
                        ],
                        "passed_time": 22.90169823,
                        "iteration": 403,
                        "remaining_time": 33.78567362,
                        "learn": [
                          0.0008976186663
                        ]
                      },
                      {
                        "test": [
                          1,
                          0.000591920684
                        ],
                        "passed_time": 22.96405783,
                        "iteration": 404,
                        "remaining_time": 33.73731953,
                        "learn": [
                          0.000897611095
                        ]
                      },
                      {
                        "test": [
                          1,
                          0.0005919128219
                        ],
                        "passed_time": 23.02711868,
                        "iteration": 405,
                        "remaining_time": 33.68992241,
                        "learn": [
                          0.0008976041128
                        ]
                      },
                      {
                        "test": [
                          1,
                          0.0005919049606
                        ],
                        "passed_time": 23.08226111,
                        "iteration": 406,
                        "remaining_time": 33.63091115,
                        "learn": [
                          0.0008975971314
                        ]
                      },
                      {
                        "test": [
                          1,
                          0.0005919049606
                        ],
                        "passed_time": 23.13635145,
                        "iteration": 407,
                        "remaining_time": 33.5703923,
                        "learn": [
                          0.0008975971314
                        ]
                      },
                      {
                        "test": [
                          1,
                          0.0005919049606
                        ],
                        "passed_time": 23.20378758,
                        "iteration": 408,
                        "remaining_time": 33.52918939,
                        "learn": [
                          0.0008975971314
                        ]
                      },
                      {
                        "test": [
                          1,
                          0.0005919049606
                        ],
                        "passed_time": 23.27042622,
                        "iteration": 409,
                        "remaining_time": 33.48671091,
                        "learn": [
                          0.0008975971314
                        ]
                      },
                      {
                        "test": [
                          1,
                          0.0005919049606
                        ],
                        "passed_time": 23.33409164,
                        "iteration": 410,
                        "remaining_time": 33.43985396,
                        "learn": [
                          0.0008975971314
                        ]
                      },
                      {
                        "test": [
                          1,
                          0.0005919049606
                        ],
                        "passed_time": 23.38805263,
                        "iteration": 411,
                        "remaining_time": 33.37906541,
                        "learn": [
                          0.0008975971314
                        ]
                      },
                      {
                        "test": [
                          1,
                          0.0005919049606
                        ],
                        "passed_time": 23.4443576,
                        "iteration": 412,
                        "remaining_time": 33.32164144,
                        "learn": [
                          0.0008975971314
                        ]
                      },
                      {
                        "test": [
                          1,
                          0.0005919049606
                        ],
                        "passed_time": 23.50593727,
                        "iteration": 413,
                        "remaining_time": 33.27168899,
                        "learn": [
                          0.0008975971314
                        ]
                      },
                      {
                        "test": [
                          1,
                          0.0005919049606
                        ],
                        "passed_time": 23.56290816,
                        "iteration": 414,
                        "remaining_time": 33.21518379,
                        "learn": [
                          0.0008975971314
                        ]
                      },
                      {
                        "test": [
                          1,
                          0.0005919049606
                        ],
                        "passed_time": 23.62667978,
                        "iteration": 415,
                        "remaining_time": 33.16822354,
                        "learn": [
                          0.0008975971314
                        ]
                      }
                    ]
                  },
                  "total_iterations": 1000,
                  "passed_iterations": 415
                },
                "path": "catboost_info/model-final",
                "name": "model-final"
              },
              "catboost_info/model-0": {
                "content": {
                  "data": {
                    "meta": {
                      "name": "experiment",
                      "parameters": "",
                      "test_metrics": [
                        {
                          "best_value": "Max",
                          "name": "AUC"
                        },
                        {
                          "best_value": "Min",
                          "name": "Logloss"
                        }
                      ],
                      "learn_sets": [
                        "learn"
                      ],
                      "launch_mode": "Train",
                      "learn_metrics": [
                        {
                          "best_value": "Min",
                          "name": "Logloss"
                        }
                      ],
                      "iteration_count": 1000,
                      "test_sets": [
                        "test"
                      ]
                    },
                    "iterations": [
                      {
                        "test": [
                          0.9834196891,
                          0.5795337067
                        ],
                        "passed_time": 0.03520321067,
                        "iteration": 0,
                        "remaining_time": 35.16800746,
                        "learn": [
                          0.5787050363
                        ]
                      },
                      {
                        "test": [
                          0.9903479182,
                          0.4728017004
                        ],
                        "passed_time": 0.09630169389,
                        "iteration": 1,
                        "remaining_time": 48.05454525,
                        "learn": [
                          0.4711181177
                        ]
                      },
                      {
                        "test": [
                          0.9950300868,
                          0.3776961409
                        ],
                        "passed_time": 0.2023386363,
                        "iteration": 2,
                        "remaining_time": 67.24387347,
                        "learn": [
                          0.3755776776
                        ]
                      },
                      {
                        "test": [
                          0.9950300868,
                          0.3248928493
                        ],
                        "passed_time": 0.2268039752,
                        "iteration": 3,
                        "remaining_time": 56.47418982,
                        "learn": [
                          0.3225132307
                        ]
                      },
                      {
                        "test": [
                          0.9954792017,
                          0.2626168848
                        ],
                        "passed_time": 0.2767053507,
                        "iteration": 4,
                        "remaining_time": 55.06436479,
                        "learn": [
                          0.2599184122
                        ]
                      },
                      {
                        "test": [
                          0.9954792017,
                          0.2252152672
                        ],
                        "passed_time": 0.3276847721,
                        "iteration": 5,
                        "remaining_time": 54.28644391,
                        "learn": [
                          0.2224397811
                        ]
                      },
                      {
                        "test": [
                          0.9962943161,
                          0.195823883
                        ],
                        "passed_time": 0.3587796764,
                        "iteration": 6,
                        "remaining_time": 50.89545981,
                        "learn": [
                          0.1928179868
                        ]
                      },
                      {
                        "test": [
                          0.9998104385,
                          0.1552589039
                        ],
                        "passed_time": 0.4156492625,
                        "iteration": 7,
                        "remaining_time": 51.54050855,
                        "learn": [
                          0.153407226
                        ]
                      },
                      {
                        "test": [
                          1,
                          0.1237602377
                        ],
                        "passed_time": 0.5340780678,
                        "iteration": 8,
                        "remaining_time": 58.80792947,
                        "learn": [
                          0.1222706558
                        ]
                      },
                      {
                        "test": [
                          1,
                          0.09980017014
                        ],
                        "passed_time": 0.6404419437,
                        "iteration": 9,
                        "remaining_time": 63.40375243,
                        "learn": [
                          0.09889226086
                        ]
                      },
                      {
                        "test": [
                          1,
                          0.08086419234
                        ],
                        "passed_time": 0.7854222603,
                        "iteration": 10,
                        "remaining_time": 70.61660141,
                        "learn": [
                          0.08024678072
                        ]
                      },
                      {
                        "test": [
                          1,
                          0.06549569715
                        ],
                        "passed_time": 0.8854123381,
                        "iteration": 11,
                        "remaining_time": 72.89894917,
                        "learn": [
                          0.06525499031
                        ]
                      },
                      {
                        "test": [
                          1,
                          0.05388769732
                        ],
                        "passed_time": 1.021093608,
                        "iteration": 12,
                        "remaining_time": 77.52456857,
                        "learn": [
                          0.05386855532
                        ]
                      },
                      {
                        "test": [
                          1,
                          0.04664681815
                        ],
                        "passed_time": 1.080635371,
                        "iteration": 13,
                        "remaining_time": 76.10760544,
                        "learn": [
                          0.04696831569
                        ]
                      },
                      {
                        "test": [
                          1,
                          0.03838006442
                        ],
                        "passed_time": 1.196575324,
                        "iteration": 14,
                        "remaining_time": 78.57511297,
                        "learn": [
                          0.03893007826
                        ]
                      },
                      {
                        "test": [
                          1,
                          0.03289379352
                        ],
                        "passed_time": 1.306710372,
                        "iteration": 15,
                        "remaining_time": 80.36268788,
                        "learn": [
                          0.03379830117
                        ]
                      },
                      {
                        "test": [
                          1,
                          0.02808315456
                        ],
                        "passed_time": 1.422267912,
                        "iteration": 16,
                        "remaining_time": 82.24055046,
                        "learn": [
                          0.02916697985
                        ]
                      },
                      {
                        "test": [
                          1,
                          0.02417325063
                        ],
                        "passed_time": 1.546407296,
                        "iteration": 17,
                        "remaining_time": 84.36510914,
                        "learn": [
                          0.02528669646
                        ]
                      },
                      {
                        "test": [
                          1,
                          0.02120594512
                        ],
                        "passed_time": 1.648859338,
                        "iteration": 18,
                        "remaining_time": 85.13321109,
                        "learn": [
                          0.02229229509
                        ]
                      },
                      {
                        "test": [
                          1,
                          0.01826471633
                        ],
                        "passed_time": 1.768712597,
                        "iteration": 19,
                        "remaining_time": 86.66691723,
                        "learn": [
                          0.01943689825
                        ]
                      },
                      {
                        "test": [
                          1,
                          0.01567043487
                        ],
                        "passed_time": 1.880128973,
                        "iteration": 20,
                        "remaining_time": 87.64982211,
                        "learn": [
                          0.01683162949
                        ]
                      },
                      {
                        "test": [
                          1,
                          0.01406496387
                        ],
                        "passed_time": 1.950339908,
                        "iteration": 21,
                        "remaining_time": 86.70147411,
                        "learn": [
                          0.01518314913
                        ]
                      },
                      {
                        "test": [
                          1,
                          0.01212727914
                        ],
                        "passed_time": 2.081993192,
                        "iteration": 22,
                        "remaining_time": 88.43944993,
                        "learn": [
                          0.01329541968
                        ]
                      },
                      {
                        "test": [
                          1,
                          0.01066462049
                        ],
                        "passed_time": 2.213821124,
                        "iteration": 23,
                        "remaining_time": 90.02872572,
                        "learn": [
                          0.01189078808
                        ]
                      },
                      {
                        "test": [
                          1,
                          0.009526936457
                        ],
                        "passed_time": 2.322585945,
                        "iteration": 24,
                        "remaining_time": 90.58085185,
                        "learn": [
                          0.01075406089
                        ]
                      },
                      {
                        "test": [
                          1,
                          0.008563712035
                        ],
                        "passed_time": 2.438790512,
                        "iteration": 25,
                        "remaining_time": 91.36084458,
                        "learn": [
                          0.009804341233
                        ]
                      },
                      {
                        "test": [
                          1,
                          0.007745890099
                        ],
                        "passed_time": 2.554369587,
                        "iteration": 26,
                        "remaining_time": 92.05191141,
                        "learn": [
                          0.009004039999
                        ]
                      },
                      {
                        "test": [
                          1,
                          0.007169084488
                        ],
                        "passed_time": 2.66239983,
                        "iteration": 27,
                        "remaining_time": 92.42330839,
                        "learn": [
                          0.008460306655
                        ]
                      },
                      {
                        "test": [
                          1,
                          0.006629809309
                        ],
                        "passed_time": 2.757010828,
                        "iteration": 28,
                        "remaining_time": 92.31232808,
                        "learn": [
                          0.007946797718
                        ]
                      },
                      {
                        "test": [
                          1,
                          0.006304125981
                        ],
                        "passed_time": 2.88222557,
                        "iteration": 29,
                        "remaining_time": 93.1919601,
                        "learn": [
                          0.007581944046
                        ]
                      },
                      {
                        "test": [
                          1,
                          0.00592538706
                        ],
                        "passed_time": 2.959551738,
                        "iteration": 30,
                        "remaining_time": 92.50985917,
                        "learn": [
                          0.007167102823
                        ]
                      },
                      {
                        "test": [
                          1,
                          0.005480326569
                        ],
                        "passed_time": 3.059055769,
                        "iteration": 31,
                        "remaining_time": 92.53643702,
                        "learn": [
                          0.006659565821
                        ]
                      },
                      {
                        "test": [
                          1,
                          0.005229054818
                        ],
                        "passed_time": 3.139516569,
                        "iteration": 32,
                        "remaining_time": 91.99734916,
                        "learn": [
                          0.006407893043
                        ]
                      },
                      {
                        "test": [
                          1,
                          0.004914960576
                        ],
                        "passed_time": 3.255498429,
                        "iteration": 33,
                        "remaining_time": 92.49445536,
                        "learn": [
                          0.006051854683
                        ]
                      },
                      {
                        "test": [
                          1,
                          0.004597699227
                        ],
                        "passed_time": 3.389507807,
                        "iteration": 34,
                        "remaining_time": 93.45357239,
                        "learn": [
                          0.005658234782
                        ]
                      },
                      {
                        "test": [
                          1,
                          0.004452572603
                        ],
                        "passed_time": 3.49751178,
                        "iteration": 35,
                        "remaining_time": 93.65559323,
                        "learn": [
                          0.00546531205
                        ]
                      },
                      {
                        "test": [
                          1,
                          0.004229501215
                        ],
                        "passed_time": 3.588763695,
                        "iteration": 36,
                        "remaining_time": 93.40484968,
                        "learn": [
                          0.005203027253
                        ]
                      },
                      {
                        "test": [
                          1,
                          0.00393855053
                        ],
                        "passed_time": 3.692138446,
                        "iteration": 37,
                        "remaining_time": 93.4693996,
                        "learn": [
                          0.004873329941
                        ]
                      },
                      {
                        "test": [
                          1,
                          0.003681337244
                        ],
                        "passed_time": 3.758381917,
                        "iteration": 38,
                        "remaining_time": 92.61038519,
                        "learn": [
                          0.004576565726
                        ]
                      },
                      {
                        "test": [
                          1,
                          0.003531708818
                        ],
                        "passed_time": 3.808191668,
                        "iteration": 39,
                        "remaining_time": 91.39660004,
                        "learn": [
                          0.004411959887
                        ]
                      },
                      {
                        "test": [
                          1,
                          0.003502451985
                        ],
                        "passed_time": 3.863626698,
                        "iteration": 40,
                        "remaining_time": 90.37117082,
                        "learn": [
                          0.004387180322
                        ]
                      },
                      {
                        "test": [
                          1,
                          0.003313950655
                        ],
                        "passed_time": 3.913444693,
                        "iteration": 41,
                        "remaining_time": 89.2638099,
                        "learn": [
                          0.004195377708
                        ]
                      },
                      {
                        "test": [
                          1,
                          0.003257569313
                        ],
                        "passed_time": 3.960159828,
                        "iteration": 42,
                        "remaining_time": 88.13658036,
                        "learn": [
                          0.004131494953
                        ]
                      },
                      {
                        "test": [
                          1,
                          0.003242022066
                        ],
                        "passed_time": 4.022630795,
                        "iteration": 43,
                        "remaining_time": 87.40079635,
                        "learn": [
                          0.004111817261
                        ]
                      },
                      {
                        "test": [
                          1,
                          0.003230156285
                        ],
                        "passed_time": 4.049832972,
                        "iteration": 44,
                        "remaining_time": 85.94645529,
                        "learn": [
                          0.004091323689
                        ]
                      },
                      {
                        "test": [
                          1,
                          0.003001549729
                        ],
                        "passed_time": 4.094970052,
                        "iteration": 45,
                        "remaining_time": 84.92611803,
                        "learn": [
                          0.003845982419
                        ]
                      },
                      {
                        "test": [
                          1,
                          0.002738669805
                        ],
                        "passed_time": 4.159821772,
                        "iteration": 46,
                        "remaining_time": 84.34702445,
                        "learn": [
                          0.003558476399
                        ]
                      },
                      {
                        "test": [
                          1,
                          0.002724122091
                        ],
                        "passed_time": 4.202321605,
                        "iteration": 47,
                        "remaining_time": 83.34604516,
                        "learn": [
                          0.003540812337
                        ]
                      },
                      {
                        "test": [
                          1,
                          0.00264014347
                        ],
                        "passed_time": 4.253003512,
                        "iteration": 48,
                        "remaining_time": 82.54298654,
                        "learn": [
                          0.003445854352
                        ]
                      },
                      {
                        "test": [
                          1,
                          0.002576728717
                        ],
                        "passed_time": 4.300924499,
                        "iteration": 49,
                        "remaining_time": 81.71756549,
                        "learn": [
                          0.003370157497
                        ]
                      },
                      {
                        "test": [
                          1,
                          0.002428556358
                        ],
                        "passed_time": 4.348123065,
                        "iteration": 50,
                        "remaining_time": 80.90919194,
                        "learn": [
                          0.00318257064
                        ]
                      },
                      {
                        "test": [
                          1,
                          0.002344918072
                        ],
                        "passed_time": 4.418703505,
                        "iteration": 51,
                        "remaining_time": 80.55636389,
                        "learn": [
                          0.003078829434
                        ]
                      },
                      {
                        "test": [
                          1,
                          0.002223063688
                        ],
                        "passed_time": 4.480883895,
                        "iteration": 52,
                        "remaining_time": 80.06409526,
                        "learn": [
                          0.002924734716
                        ]
                      },
                      {
                        "test": [
                          1,
                          0.002188821448
                        ],
                        "passed_time": 4.541548804,
                        "iteration": 53,
                        "remaining_time": 79.56120683,
                        "learn": [
                          0.00286440967
                        ]
                      },
                      {
                        "test": [
                          1,
                          0.002028716416
                        ],
                        "passed_time": 4.606248647,
                        "iteration": 54,
                        "remaining_time": 79.14372675,
                        "learn": [
                          0.002671087188
                        ]
                      },
                      {
                        "test": [
                          1,
                          0.00196553796
                        ],
                        "passed_time": 4.646011392,
                        "iteration": 55,
                        "remaining_time": 78.31847776,
                        "learn": [
                          0.002611639577
                        ]
                      },
                      {
                        "test": [
                          1,
                          0.001934504578
                        ],
                        "passed_time": 4.705764399,
                        "iteration": 56,
                        "remaining_time": 77.85150576,
                        "learn": [
                          0.002545138104
                        ]
                      },
                      {
                        "test": [
                          1,
                          0.001866008411
                        ],
                        "passed_time": 4.775608972,
                        "iteration": 57,
                        "remaining_time": 77.56247675,
                        "learn": [
                          0.002461036584
                        ]
                      },
                      {
                        "test": [
                          1,
                          0.001843820709
                        ],
                        "passed_time": 4.834755766,
                        "iteration": 58,
                        "remaining_time": 77.11025722,
                        "learn": [
                          0.002425375672
                        ]
                      },
                      {
                        "test": [
                          1,
                          0.001843820709
                        ],
                        "passed_time": 4.861565395,
                        "iteration": 59,
                        "remaining_time": 76.16452453,
                        "learn": [
                          0.002425375672
                        ]
                      },
                      {
                        "test": [
                          1,
                          0.001810351625
                        ],
                        "passed_time": 4.915629304,
                        "iteration": 60,
                        "remaining_time": 75.66845764,
                        "learn": [
                          0.002375985889
                        ]
                      },
                      {
                        "test": [
                          1,
                          0.001797218533
                        ],
                        "passed_time": 4.968644389,
                        "iteration": 61,
                        "remaining_time": 75.17078124,
                        "learn": [
                          0.002347122281
                        ]
                      },
                      {
                        "test": [
                          1,
                          0.001776843546
                        ],
                        "passed_time": 5.036418655,
                        "iteration": 62,
                        "remaining_time": 74.9067346,
                        "learn": [
                          0.002319690802
                        ]
                      },
                      {
                        "test": [
                          1,
                          0.001719389739
                        ],
                        "passed_time": 5.081785564,
                        "iteration": 63,
                        "remaining_time": 74.32111387,
                        "learn": [
                          0.002253267985
                        ]
                      },
                      {
                        "test": [
                          1,
                          0.001678193006
                        ],
                        "passed_time": 5.13183242,
                        "iteration": 64,
                        "remaining_time": 73.81943557,
                        "learn": [
                          0.002212750667
                        ]
                      },
                      {
                        "test": [
                          1,
                          0.00162931601
                        ],
                        "passed_time": 5.196768671,
                        "iteration": 65,
                        "remaining_time": 73.54215058,
                        "learn": [
                          0.002151116251
                        ]
                      },
                      {
                        "test": [
                          1,
                          0.001570402042
                        ],
                        "passed_time": 5.269045962,
                        "iteration": 66,
                        "remaining_time": 73.37343108,
                        "learn": [
                          0.002068923502
                        ]
                      },
                      {
                        "test": [
                          1,
                          0.00156656781
                        ],
                        "passed_time": 5.298596825,
                        "iteration": 67,
                        "remaining_time": 72.62194471,
                        "learn": [
                          0.00206280937
                        ]
                      },
                      {
                        "test": [
                          1,
                          0.00156656781
                        ],
                        "passed_time": 5.342027344,
                        "iteration": 68,
                        "remaining_time": 72.0786588,
                        "learn": [
                          0.00206280937
                        ]
                      },
                      {
                        "test": [
                          1,
                          0.001553994927
                        ],
                        "passed_time": 5.403457712,
                        "iteration": 69,
                        "remaining_time": 71.78879531,
                        "learn": [
                          0.002035577464
                        ]
                      },
                      {
                        "test": [
                          1,
                          0.001553995002
                        ],
                        "passed_time": 5.428754624,
                        "iteration": 70,
                        "remaining_time": 71.03257811,
                        "learn": [
                          0.002035572117
                        ]
                      },
                      {
                        "test": [
                          1,
                          0.001460147719
                        ],
                        "passed_time": 5.4881897,
                        "iteration": 71,
                        "remaining_time": 70.73666724,
                        "learn": [
                          0.001929067365
                        ]
                      },
                      {
                        "test": [
                          1,
                          0.001433450895
                        ],
                        "passed_time": 5.542766937,
                        "iteration": 72,
                        "remaining_time": 70.38554727,
                        "learn": [
                          0.00189782161
                        ]
                      },
                      {
                        "test": [
                          1,
                          0.001398675434
                        ],
                        "passed_time": 5.598454515,
                        "iteration": 73,
                        "remaining_time": 70.05633622,
                        "learn": [
                          0.001854646814
                        ]
                      },
                      {
                        "test": [
                          1,
                          0.001374184798
                        ],
                        "passed_time": 5.653092058,
                        "iteration": 74,
                        "remaining_time": 69.72146872,
                        "learn": [
                          0.001828205426
                        ]
                      },
                      {
                        "test": [
                          1,
                          0.001340861878
                        ],
                        "passed_time": 5.709205714,
                        "iteration": 75,
                        "remaining_time": 69.4119221,
                        "learn": [
                          0.001788801259
                        ]
                      },
                      {
                        "test": [
                          1,
                          0.001321478992
                        ],
                        "passed_time": 5.751868427,
                        "iteration": 76,
                        "remaining_time": 68.94772154,
                        "learn": [
                          0.001757015099
                        ]
                      },
                      {
                        "test": [
                          1,
                          0.001317754334
                        ],
                        "passed_time": 5.814322525,
                        "iteration": 77,
                        "remaining_time": 68.72827395,
                        "learn": [
                          0.001752021521
                        ]
                      },
                      {
                        "test": [
                          1,
                          0.001281666284
                        ],
                        "passed_time": 5.879883302,
                        "iteration": 78,
                        "remaining_time": 68.54901925,
                        "learn": [
                          0.001706399452
                        ]
                      },
                      {
                        "test": [
                          1,
                          0.001281653086
                        ],
                        "passed_time": 5.931749477,
                        "iteration": 79,
                        "remaining_time": 68.21511899,
                        "learn": [
                          0.001706389134
                        ]
                      },
                      {
                        "test": [
                          1,
                          0.001268530387
                        ],
                        "passed_time": 5.992547551,
                        "iteration": 80,
                        "remaining_time": 67.98952098,
                        "learn": [
                          0.001677085806
                        ]
                      },
                      {
                        "test": [
                          1,
                          0.00123745788
                        ],
                        "passed_time": 6.063896216,
                        "iteration": 81,
                        "remaining_time": 67.88605763,
                        "learn": [
                          0.001636487609
                        ]
                      },
                      {
                        "test": [
                          1,
                          0.001203661897
                        ],
                        "passed_time": 6.116844413,
                        "iteration": 82,
                        "remaining_time": 67.58007622,
                        "learn": [
                          0.001592171024
                        ]
                      },
                      {
                        "test": [
                          1,
                          0.001176758002
                        ],
                        "passed_time": 6.171573397,
                        "iteration": 83,
                        "remaining_time": 67.29953847,
                        "learn": [
                          0.001558324666
                        ]
                      },
                      {
                        "test": [
                          1,
                          0.001176755511
                        ],
                        "passed_time": 6.223001607,
                        "iteration": 84,
                        "remaining_time": 66.988782,
                        "learn": [
                          0.001558319454
                        ]
                      },
                      {
                        "test": [
                          1,
                          0.001162776794
                        ],
                        "passed_time": 6.283217748,
                        "iteration": 85,
                        "remaining_time": 66.77745374,
                        "learn": [
                          0.001538533111
                        ]
                      },
                      {
                        "test": [
                          1,
                          0.001123190837
                        ],
                        "passed_time": 6.345310207,
                        "iteration": 86,
                        "remaining_time": 66.58928987,
                        "learn": [
                          0.001493611707
                        ]
                      },
                      {
                        "test": [
                          1,
                          0.001109792826
                        ],
                        "passed_time": 6.402508617,
                        "iteration": 87,
                        "remaining_time": 66.35327112,
                        "learn": [
                          0.001474360684
                        ]
                      },
                      {
                        "test": [
                          1,
                          0.001109792826
                        ],
                        "passed_time": 6.455090459,
                        "iteration": 88,
                        "remaining_time": 66.07401582,
                        "learn": [
                          0.001474360684
                        ]
                      },
                      {
                        "test": [
                          1,
                          0.001058378972
                        ],
                        "passed_time": 6.519689888,
                        "iteration": 89,
                        "remaining_time": 65.92130887,
                        "learn": [
                          0.001411104501
                        ]
                      },
                      {
                        "test": [
                          1,
                          0.001024963363
                        ],
                        "passed_time": 6.575767235,
                        "iteration": 90,
                        "remaining_time": 65.68541117,
                        "learn": [
                          0.001373662072
                        ]
                      },
                      {
                        "test": [
                          1,
                          0.001024956772
                        ],
                        "passed_time": 6.62693471,
                        "iteration": 91,
                        "remaining_time": 65.40496431,
                        "learn": [
                          0.001373656347
                        ]
                      },
                      {
                        "test": [
                          1,
                          0.001024955645
                        ],
                        "passed_time": 6.667540733,
                        "iteration": 92,
                        "remaining_time": 65.02644564,
                        "learn": [
                          0.001373653937
                        ]
                      },
                      {
                        "test": [
                          1,
                          0.000985130564
                        ],
                        "passed_time": 6.72994417,
                        "iteration": 93,
                        "remaining_time": 64.86520657,
                        "learn": [
                          0.001329446646
                        ]
                      },
                      {
                        "test": [
                          1,
                          0.0009851258333
                        ],
                        "passed_time": 6.78123952,
                        "iteration": 94,
                        "remaining_time": 64.60022911,
                        "learn": [
                          0.001329437812
                        ]
                      },
                      {
                        "test": [
                          1,
                          0.0009601918332
                        ],
                        "passed_time": 6.84841334,
                        "iteration": 95,
                        "remaining_time": 64.48922562,
                        "learn": [
                          0.001295265776
                        ]
                      },
                      {
                        "test": [
                          1,
                          0.0009601655652
                        ],
                        "passed_time": 6.901742791,
                        "iteration": 96,
                        "remaining_time": 64.25024474,
                        "learn": [
                          0.001295235966
                        ]
                      },
                      {
                        "test": [
                          1,
                          0.0009601655652
                        ],
                        "passed_time": 6.947395402,
                        "iteration": 97,
                        "remaining_time": 63.94439442,
                        "learn": [
                          0.001295235966
                        ]
                      },
                      {
                        "test": [
                          1,
                          0.0009601650971
                        ],
                        "passed_time": 6.982777779,
                        "iteration": 98,
                        "remaining_time": 63.5503311,
                        "learn": [
                          0.001295234974
                        ]
                      },
                      {
                        "test": [
                          1,
                          0.0009524810075
                        ],
                        "passed_time": 7.039147482,
                        "iteration": 99,
                        "remaining_time": 63.35232734,
                        "learn": [
                          0.001282758183
                        ]
                      },
                      {
                        "test": [
                          1,
                          0.000942547235
                        ],
                        "passed_time": 7.102542767,
                        "iteration": 100,
                        "remaining_time": 63.21966285,
                        "learn": [
                          0.001266643561
                        ]
                      },
                      {
                        "test": [
                          1,
                          0.0009425358578
                        ],
                        "passed_time": 7.148128419,
                        "iteration": 101,
                        "remaining_time": 62.93156196,
                        "learn": [
                          0.001266622182
                        ]
                      },
                      {
                        "test": [
                          1,
                          0.0009425358578
                        ],
                        "passed_time": 7.194591524,
                        "iteration": 102,
                        "remaining_time": 62.65581162,
                        "learn": [
                          0.001266622182
                        ]
                      },
                      {
                        "test": [
                          1,
                          0.0009425358578
                        ],
                        "passed_time": 7.2514862,
                        "iteration": 103,
                        "remaining_time": 62.47434264,
                        "learn": [
                          0.001266622182
                        ]
                      },
                      {
                        "test": [
                          1,
                          0.0009425302536
                        ],
                        "passed_time": 7.306412645,
                        "iteration": 104,
                        "remaining_time": 62.27846969,
                        "learn": [
                          0.001266612745
                        ]
                      },
                      {
                        "test": [
                          1,
                          0.0009174216647
                        ],
                        "passed_time": 7.372320569,
                        "iteration": 105,
                        "remaining_time": 62.17787348,
                        "learn": [
                          0.001236643138
                        ]
                      },
                      {
                        "test": [
                          1,
                          0.0009174205613
                        ],
                        "passed_time": 7.422541642,
                        "iteration": 106,
                        "remaining_time": 61.94700641,
                        "learn": [
                          0.001236640628
                        ]
                      },
                      {
                        "test": [
                          1,
                          0.0009174177038
                        ],
                        "passed_time": 7.444874983,
                        "iteration": 107,
                        "remaining_time": 61.48915264,
                        "learn": [
                          0.001236635324
                        ]
                      },
                      {
                        "test": [
                          1,
                          0.0008992244713
                        ],
                        "passed_time": 7.512921898,
                        "iteration": 108,
                        "remaining_time": 61.41296708,
                        "learn": [
                          0.001216341045
                        ]
                      },
                      {
                        "test": [
                          1,
                          0.0008934179431
                        ],
                        "passed_time": 7.572644083,
                        "iteration": 109,
                        "remaining_time": 61.26957485,
                        "learn": [
                          0.00120642737
                        ]
                      },
                      {
                        "test": [
                          1,
                          0.0008934105765
                        ],
                        "passed_time": 7.591952072,
                        "iteration": 110,
                        "remaining_time": 60.80401254,
                        "learn": [
                          0.001206411351
                        ]
                      },
                      {
                        "test": [
                          1,
                          0.0008693816562
                        ],
                        "passed_time": 7.645695064,
                        "iteration": 111,
                        "remaining_time": 60.61943944,
                        "learn": [
                          0.00118358436
                        ]
                      },
                      {
                        "test": [
                          1,
                          0.00085224434
                        ],
                        "passed_time": 7.682758408,
                        "iteration": 112,
                        "remaining_time": 60.30625405,
                        "learn": [
                          0.001167506183
                        ]
                      },
                      {
                        "test": [
                          1,
                          0.0008522375767
                        ],
                        "passed_time": 7.737886733,
                        "iteration": 113,
                        "remaining_time": 60.13831268,
                        "learn": [
                          0.001167488638
                        ]
                      },
                      {
                        "test": [
                          1,
                          0.0008522327674
                        ],
                        "passed_time": 7.779317224,
                        "iteration": 114,
                        "remaining_time": 59.8669195,
                        "learn": [
                          0.00116748276
                        ]
                      },
                      {
                        "test": [
                          1,
                          0.0008522327674
                        ],
                        "passed_time": 7.840003958,
                        "iteration": 115,
                        "remaining_time": 59.74623706,
                        "learn": [
                          0.00116748276
                        ]
                      },
                      {
                        "test": [
                          1,
                          0.0008522311759
                        ],
                        "passed_time": 7.858759782,
                        "iteration": 116,
                        "remaining_time": 59.31012725,
                        "learn": [
                          0.001167479961
                        ]
                      },
                      {
                        "test": [
                          1,
                          0.0008522301153
                        ],
                        "passed_time": 7.900585587,
                        "iteration": 117,
                        "remaining_time": 59.05352956,
                        "learn": [
                          0.001167477337
                        ]
                      },
                      {
                        "test": [
                          1,
                          0.0008298539962
                        ],
                        "passed_time": 7.961119651,
                        "iteration": 118,
                        "remaining_time": 58.93904548,
                        "learn": [
                          0.001141417255
                        ]
                      },
                      {
                        "test": [
                          1,
                          0.0008193792675
                        ],
                        "passed_time": 8.02121728,
                        "iteration": 119,
                        "remaining_time": 58.82226005,
                        "learn": [
                          0.001126289058
                        ]
                      },
                      {
                        "test": [
                          1,
                          0.0008193745131
                        ],
                        "passed_time": 8.051095884,
                        "iteration": 120,
                        "remaining_time": 58.48688663,
                        "learn": [
                          0.001126284857
                        ]
                      },
                      {
                        "test": [
                          1,
                          0.0008193689162
                        ],
                        "passed_time": 8.106394338,
                        "iteration": 121,
                        "remaining_time": 58.33946089,
                        "learn": [
                          0.001126279569
                        ]
                      },
                      {
                        "test": [
                          1,
                          0.0008193638428
                        ],
                        "passed_time": 8.148749342,
                        "iteration": 122,
                        "remaining_time": 58.10124531,
                        "learn": [
                          0.001126274155
                        ]
                      },
                      {
                        "test": [
                          1,
                          0.0008151605918
                        ],
                        "passed_time": 8.171729469,
                        "iteration": 123,
                        "remaining_time": 57.72931464,
                        "learn": [
                          0.001119116051
                        ]
                      },
                      {
                        "test": [
                          1,
                          0.0008061004479
                        ],
                        "passed_time": 8.225637691,
                        "iteration": 124,
                        "remaining_time": 57.57946384,
                        "learn": [
                          0.001105137473
                        ]
                      },
                      {
                        "test": [
                          1,
                          0.0008060975032
                        ],
                        "passed_time": 8.263335694,
                        "iteration": 125,
                        "remaining_time": 57.31869362,
                        "learn": [
                          0.001105131548
                        ]
                      },
                      {
                        "test": [
                          1,
                          0.0008060874266
                        ],
                        "passed_time": 8.317997531,
                        "iteration": 126,
                        "remaining_time": 57.17804602,
                        "learn": [
                          0.001105117303
                        ]
                      },
                      {
                        "test": [
                          1,
                          0.0008060820195
                        ],
                        "passed_time": 8.364866029,
                        "iteration": 127,
                        "remaining_time": 56.98564982,
                        "learn": [
                          0.001105111038
                        ]
                      },
                      {
                        "test": [
                          1,
                          0.0008060789198
                        ],
                        "passed_time": 8.419452587,
                        "iteration": 128,
                        "remaining_time": 56.84762173,
                        "learn": [
                          0.001105108229
                        ]
                      },
                      {
                        "test": [
                          1,
                          0.0008060760626
                        ],
                        "passed_time": 8.471910549,
                        "iteration": 129,
                        "remaining_time": 56.69663214,
                        "learn": [
                          0.001105104093
                        ]
                      },
                      {
                        "test": [
                          1,
                          0.0008060738083
                        ],
                        "passed_time": 8.513034398,
                        "iteration": 130,
                        "remaining_time": 56.47196101,
                        "learn": [
                          0.001105102324
                        ]
                      },
                      {
                        "test": [
                          1,
                          0.0007923003826
                        ],
                        "passed_time": 8.566401036,
                        "iteration": 131,
                        "remaining_time": 56.33057651,
                        "learn": [
                          0.001091105865
                        ]
                      },
                      {
                        "test": [
                          1,
                          0.000784241768
                        ],
                        "passed_time": 8.624518247,
                        "iteration": 132,
                        "remaining_time": 56.22148361,
                        "learn": [
                          0.001077947279
                        ]
                      },
                      {
                        "test": [
                          1,
                          0.000784241768
                        ],
                        "passed_time": 8.649711995,
                        "iteration": 133,
                        "remaining_time": 55.90037752,
                        "learn": [
                          0.001077947279
                        ]
                      },
                      {
                        "test": [
                          1,
                          0.0007842399708
                        ],
                        "passed_time": 8.703937136,
                        "iteration": 134,
                        "remaining_time": 55.76967128,
                        "learn": [
                          0.001077943582
                        ]
                      },
                      {
                        "test": [
                          1,
                          0.0007722359179
                        ],
                        "passed_time": 8.759325755,
                        "iteration": 135,
                        "remaining_time": 55.64748127,
                        "learn": [
                          0.001064657106
                        ]
                      },
                      {
                        "test": [
                          1,
                          0.0007722348519
                        ],
                        "passed_time": 8.800715518,
                        "iteration": 136,
                        "remaining_time": 55.43808389,
                        "learn": [
                          0.001064654839
                        ]
                      },
                      {
                        "test": [
                          1,
                          0.0007722327136
                        ],
                        "passed_time": 8.877022365,
                        "iteration": 137,
                        "remaining_time": 55.44922666,
                        "learn": [
                          0.001064652573
                        ]
                      },
                      {
                        "test": [
                          1,
                          0.0007660324052
                        ],
                        "passed_time": 8.93560447,
                        "iteration": 138,
                        "remaining_time": 55.34931978,
                        "learn": [
                          0.001055149343
                        ]
                      },
                      {
                        "test": [
                          1,
                          0.0007553173484
                        ],
                        "passed_time": 8.989470459,
                        "iteration": 139,
                        "remaining_time": 55.22103282,
                        "learn": [
                          0.001042170034
                        ]
                      },
                      {
                        "test": [
                          1,
                          0.0007543103891
                        ],
                        "passed_time": 9.047958464,
                        "iteration": 140,
                        "remaining_time": 55.12195972,
                        "learn": [
                          0.001038429434
                        ]
                      },
                      {
                        "test": [
                          1,
                          0.0007404668952
                        ],
                        "passed_time": 9.130612067,
                        "iteration": 141,
                        "remaining_time": 55.16947291,
                        "learn": [
                          0.001021393042
                        ]
                      },
                      {
                        "test": [
                          1,
                          0.0007309823422
                        ],
                        "passed_time": 9.184909713,
                        "iteration": 142,
                        "remaining_time": 55.04522814,
                        "learn": [
                          0.001009028168
                        ]
                      },
                      {
                        "test": [
                          1,
                          0.0007309823422
                        ],
                        "passed_time": 9.23946218,
                        "iteration": 143,
                        "remaining_time": 54.92346963,
                        "learn": [
                          0.001009028168
                        ]
                      },
                      {
                        "test": [
                          1,
                          0.0007309812602
                        ],
                        "passed_time": 9.281204662,
                        "iteration": 144,
                        "remaining_time": 54.72710335,
                        "learn": [
                          0.001009026903
                        ]
                      },
                      {
                        "test": [
                          1,
                          0.000730979667
                        ],
                        "passed_time": 9.312475089,
                        "iteration": 145,
                        "remaining_time": 54.47160086,
                        "learn": [
                          0.001009023168
                        ]
                      },
                      {
                        "test": [
                          1,
                          0.0007309784019
                        ],
                        "passed_time": 9.358369429,
                        "iteration": 146,
                        "remaining_time": 54.30400764,
                        "learn": [
                          0.001009019754
                        ]
                      },
                      {
                        "test": [
                          1,
                          0.0007309735939
                        ],
                        "passed_time": 9.402665205,
                        "iteration": 147,
                        "remaining_time": 54.12885645,
                        "learn": [
                          0.001009013986
                        ]
                      },
                      {
                        "test": [
                          1,
                          0.0007309686957
                        ],
                        "passed_time": 9.444340581,
                        "iteration": 148,
                        "remaining_time": 53.94049554,
                        "learn": [
                          0.001009008833
                        ]
                      },
                      {
                        "test": [
                          1,
                          0.0007195502511
                        ],
                        "passed_time": 9.499654409,
                        "iteration": 149,
                        "remaining_time": 53.83137498,
                        "learn": [
                          0.0009914314599
                        ]
                      },
                      {
                        "test": [
                          1,
                          0.0007195403724
                        ],
                        "passed_time": 9.547650209,
                        "iteration": 150,
                        "remaining_time": 53.68182137,
                        "learn": [
                          0.0009914193544
                        ]
                      },
                      {
                        "test": [
                          1,
                          0.0007195393271
                        ],
                        "passed_time": 9.588462311,
                        "iteration": 151,
                        "remaining_time": 53.49352658,
                        "learn": [
                          0.0009914163019
                        ]
                      },
                      {
                        "test": [
                          1,
                          0.0007195363116
                        ],
                        "passed_time": 9.647071115,
                        "iteration": 152,
                        "remaining_time": 53.40568127,
                        "learn": [
                          0.0009914105303
                        ]
                      },
                      {
                        "test": [
                          1,
                          0.000693992837
                        ],
                        "passed_time": 9.707696712,
                        "iteration": 153,
                        "remaining_time": 53.32929493,
                        "learn": [
                          0.0009621024543
                        ]
                      },
                      {
                        "test": [
                          1,
                          0.0006740041279
                        ],
                        "passed_time": 9.767774667,
                        "iteration": 154,
                        "remaining_time": 53.25012641,
                        "learn": [
                          0.0009374725284
                        ]
                      },
                      {
                        "test": [
                          1,
                          0.0006739915333
                        ],
                        "passed_time": 9.824410323,
                        "iteration": 155,
                        "remaining_time": 53.15257893,
                        "learn": [
                          0.0009374588192
                        ]
                      },
                      {
                        "test": [
                          1,
                          0.0006739904636
                        ],
                        "passed_time": 9.860776097,
                        "iteration": 156,
                        "remaining_time": 52.94671497,
                        "learn": [
                          0.0009374570639
                        ]
                      },
                      {
                        "test": [
                          1,
                          0.0006739752266
                        ],
                        "passed_time": 9.916028123,
                        "iteration": 157,
                        "remaining_time": 52.84364354,
                        "learn": [
                          0.0009374373241
                        ]
                      },
                      {
                        "test": [
                          1,
                          0.0006739739814
                        ],
                        "passed_time": 9.973594228,
                        "iteration": 158,
                        "remaining_time": 52.75341349,
                        "learn": [
                          0.0009374354481
                        ]
                      },
                      {
                        "test": [
                          1,
                          0.0006739731151
                        ],
                        "passed_time": 10.02949534,
                        "iteration": 159,
                        "remaining_time": 52.65485056,
                        "learn": [
                          0.0009374339469
                        ]
                      },
                      {
                        "test": [
                          1,
                          0.0006504667942
                        ],
                        "passed_time": 10.10495603,
                        "iteration": 160,
                        "remaining_time": 52.65874602,
                        "learn": [
                          0.0009113396614
                        ]
                      },
                      {
                        "test": [
                          1,
                          0.0006431577896
                        ],
                        "passed_time": 10.1519402,
                        "iteration": 161,
                        "remaining_time": 52.51435733,
                        "learn": [
                          0.000904246006
                        ]
                      },
                      {
                        "test": [
                          1,
                          0.0006431570424
                        ],
                        "passed_time": 10.19190393,
                        "iteration": 162,
                        "remaining_time": 52.33511405,
                        "learn": [
                          0.0009042443846
                        ]
                      },
                      {
                        "test": [
                          1,
                          0.0006431520178
                        ],
                        "passed_time": 10.23923997,
                        "iteration": 163,
                        "remaining_time": 52.19515008,
                        "learn": [
                          0.0009042390901
                        ]
                      },
                      {
                        "test": [
                          1,
                          0.0006431510453
                        ],
                        "passed_time": 10.28520429,
                        "iteration": 164,
                        "remaining_time": 52.04936715,
                        "learn": [
                          0.000904237999
                        ]
                      },
                      {
                        "test": [
                          1,
                          0.0006431432919
                        ],
                        "passed_time": 10.34154433,
                        "iteration": 165,
                        "remaining_time": 51.9569155,
                        "learn": [
                          0.0009042159807
                        ]
                      },
                      {
                        "test": [
                          1,
                          0.0006431326835
                        ],
                        "passed_time": 10.39728203,
                        "iteration": 166,
                        "remaining_time": 51.86189178,
                        "learn": [
                          0.0009042060058
                        ]
                      },
                      {
                        "test": [
                          1,
                          0.0006431297279
                        ],
                        "passed_time": 10.4465892,
                        "iteration": 167,
                        "remaining_time": 51.73548939,
                        "learn": [
                          0.0009042031966
                        ]
                      },
                      {
                        "test": [
                          1,
                          0.0006310347631
                        ],
                        "passed_time": 10.50288321,
                        "iteration": 168,
                        "remaining_time": 51.64435474,
                        "learn": [
                          0.000887706426
                        ]
                      },
                      {
                        "test": [
                          1,
                          0.0006310327612
                        ],
                        "passed_time": 10.52976737,
                        "iteration": 169,
                        "remaining_time": 51.4100407,
                        "learn": [
                          0.0008877045955
                        ]
                      },
                      {
                        "test": [
                          1,
                          0.0006310325154
                        ],
                        "passed_time": 10.56934458,
                        "iteration": 170,
                        "remaining_time": 51.23968805,
                        "learn": [
                          0.00088770345
                        ]
                      },
                      {
                        "test": [
                          1,
                          0.0006310296343
                        ],
                        "passed_time": 10.62766693,
                        "iteration": 171,
                        "remaining_time": 51.1610943,
                        "learn": [
                          0.0008876985416
                        ]
                      },
                      {
                        "test": [
                          1,
                          0.0006310267189
                        ],
                        "passed_time": 10.67556673,
                        "iteration": 172,
                        "remaining_time": 51.03291146,
                        "learn": [
                          0.0008876964229
                        ]
                      },
                      {
                        "test": [
                          1,
                          0.0006310250234
                        ],
                        "passed_time": 10.73428311,
                        "iteration": 173,
                        "remaining_time": 50.95699915,
                        "learn": [
                          0.0008876935944
                        ]
                      },
                      {
                        "test": [
                          1,
                          0.0006310241084
                        ],
                        "passed_time": 10.79460856,
                        "iteration": 174,
                        "remaining_time": 50.88886891,
                        "learn": [
                          0.000887691623
                        ]
                      },
                      {
                        "test": [
                          1,
                          0.0006217376147
                        ],
                        "passed_time": 10.83813044,
                        "iteration": 175,
                        "remaining_time": 50.74215616,
                        "learn": [
                          0.0008763699046
                        ]
                      },
                      {
                        "test": [
                          1,
                          0.0006130308828
                        ],
                        "passed_time": 10.91435616,
                        "iteration": 176,
                        "remaining_time": 50.74867299,
                        "learn": [
                          0.0008664875687
                        ]
                      },
                      {
                        "test": [
                          1,
                          0.0006130220866
                        ],
                        "passed_time": 10.96875953,
                        "iteration": 177,
                        "remaining_time": 50.65348504,
                        "learn": [
                          0.0008664768566
                        ]
                      },
                      {
                        "test": [
                          1,
                          0.0006130182379
                        ],
                        "passed_time": 11.02630463,
                        "iteration": 178,
                        "remaining_time": 50.57316257,
                        "learn": [
                          0.00086647208
                        ]
                      },
                      {
                        "test": [
                          1,
                          0.0006112602014
                        ],
                        "passed_time": 11.07159689,
                        "iteration": 179,
                        "remaining_time": 50.43727471,
                        "learn": [
                          0.0008622926817
                        ]
                      },
                      {
                        "test": [
                          1,
                          0.000611257722
                        ],
                        "passed_time": 11.14756198,
                        "iteration": 180,
                        "remaining_time": 50.44117825,
                        "learn": [
                          0.0008622902535
                        ]
                      },
                      {
                        "test": [
                          1,
                          0.0006112544147
                        ],
                        "passed_time": 11.19757926,
                        "iteration": 181,
                        "remaining_time": 50.32758149,
                        "learn": [
                          0.000862281264
                        ]
                      },
                      {
                        "test": [
                          1,
                          0.000611248701
                        ],
                        "passed_time": 11.256358,
                        "iteration": 182,
                        "remaining_time": 50.25379501,
                        "learn": [
                          0.0008622632777
                        ]
                      },
                      {
                        "test": [
                          1,
                          0.000611239814
                        ],
                        "passed_time": 11.3227035,
                        "iteration": 183,
                        "remaining_time": 50.21372858,
                        "learn": [
                          0.0008622519195
                        ]
                      },
                      {
                        "test": [
                          1,
                          0.0006112379418
                        ],
                        "passed_time": 11.37469805,
                        "iteration": 184,
                        "remaining_time": 50.11015625,
                        "learn": [
                          0.0008622492525
                        ]
                      },
                      {
                        "test": [
                          1,
                          0.0006112325807
                        ],
                        "passed_time": 11.42338078,
                        "iteration": 185,
                        "remaining_time": 49.99264491,
                        "learn": [
                          0.0008622423348
                        ]
                      },
                      {
                        "test": [
                          1,
                          0.0006112272953
                        ],
                        "passed_time": 11.47783023,
                        "iteration": 186,
                        "remaining_time": 49.90094105,
                        "learn": [
                          0.000862236597
                        ]
                      },
                      {
                        "test": [
                          1,
                          0.0006112246351
                        ],
                        "passed_time": 11.53381442,
                        "iteration": 187,
                        "remaining_time": 49.81626227,
                        "learn": [
                          0.0008622336842
                        ]
                      },
                      {
                        "test": [
                          1,
                          0.0006112177198
                        ],
                        "passed_time": 11.5666807,
                        "iteration": 188,
                        "remaining_time": 49.6326881,
                        "learn": [
                          0.0008622234718
                        ]
                      },
                      {
                        "test": [
                          1,
                          0.000611216178
                        ],
                        "passed_time": 11.62287026,
                        "iteration": 189,
                        "remaining_time": 49.5501311,
                        "learn": [
                          0.000862222052
                        ]
                      },
                      {
                        "test": [
                          1,
                          0.0006112144733
                        ],
                        "passed_time": 11.68007418,
                        "iteration": 190,
                        "remaining_time": 49.47214665,
                        "learn": [
                          0.0008622190021
                        ]
                      },
                      {
                        "test": [
                          1,
                          0.0006112093515
                        ],
                        "passed_time": 11.73771291,
                        "iteration": 191,
                        "remaining_time": 49.39620852,
                        "learn": [
                          0.0008622119525
                        ]
                      },
                      {
                        "test": [
                          1,
                          0.0006112042201
                        ],
                        "passed_time": 11.78687512,
                        "iteration": 192,
                        "remaining_time": 49.28501669,
                        "learn": [
                          0.000862204793
                        ]
                      },
                      {
                        "test": [
                          1,
                          0.0005998998729
                        ],
                        "passed_time": 11.84913109,
                        "iteration": 193,
                        "remaining_time": 49.2288642,
                        "learn": [
                          0.0008480338724
                        ]
                      },
                      {
                        "test": [
                          1,
                          0.0005998981669
                        ],
                        "passed_time": 11.90556466,
                        "iteration": 194,
                        "remaining_time": 49.14861307,
                        "learn": [
                          0.0008480313365
                        ]
                      },
                      {
                        "test": [
                          1,
                          0.0005998981669
                        ],
                        "passed_time": 11.97379699,
                        "iteration": 195,
                        "remaining_time": 49.117004,
                        "learn": [
                          0.0008480313365
                        ]
                      },
                      {
                        "test": [
                          1,
                          0.0005998981669
                        ],
                        "passed_time": 12.03160778,
                        "iteration": 196,
                        "remaining_time": 49.04254339,
                        "learn": [
                          0.0008480313365
                        ]
                      },
                      {
                        "test": [
                          1,
                          0.0005998953924
                        ],
                        "passed_time": 12.08929858,
                        "iteration": 197,
                        "remaining_time": 48.96776495,
                        "learn": [
                          0.0008480252961
                        ]
                      },
                      {
                        "test": [
                          1,
                          0.0005998950302
                        ],
                        "passed_time": 12.1554554,
                        "iteration": 198,
                        "remaining_time": 48.92723504,
                        "learn": [
                          0.0008480235526
                        ]
                      },
                      {
                        "test": [
                          1,
                          0.000599890101
                        ],
                        "passed_time": 12.21976851,
                        "iteration": 199,
                        "remaining_time": 48.87907402,
                        "learn": [
                          0.0008480156296
                        ]
                      },
                      {
                        "test": [
                          1,
                          0.0005998898852
                        ],
                        "passed_time": 12.26974365,
                        "iteration": 200,
                        "remaining_time": 48.77375709,
                        "learn": [
                          0.0008480148436
                        ]
                      },
                      {
                        "test": [
                          1,
                          0.0005998887582
                        ],
                        "passed_time": 12.32783386,
                        "iteration": 201,
                        "remaining_time": 48.70104663,
                        "learn": [
                          0.0008480129337
                        ]
                      },
                      {
                        "test": [
                          1,
                          0.0005998859492
                        ],
                        "passed_time": 12.38403167,
                        "iteration": 202,
                        "remaining_time": 48.62105044,
                        "learn": [
                          0.0008480063666
                        ]
                      },
                      {
                        "test": [
                          1,
                          0.0005998835755
                        ],
                        "passed_time": 12.43377171,
                        "iteration": 203,
                        "remaining_time": 48.51608962,
                        "learn": [
                          0.0008480044121
                        ]
                      },
                      {
                        "test": [
                          1,
                          0.0005998802726
                        ],
                        "passed_time": 12.49422383,
                        "iteration": 204,
                        "remaining_time": 48.45320949,
                        "learn": [
                          0.0008479982135
                        ]
                      },
                      {
                        "test": [
                          1,
                          0.0005998784297
                        ],
                        "passed_time": 12.54616663,
                        "iteration": 205,
                        "remaining_time": 48.35755488,
                        "learn": [
                          0.0008479877467
                        ]
                      },
                      {
                        "test": [
                          1,
                          0.0005998770894
                        ],
                        "passed_time": 12.60280474,
                        "iteration": 206,
                        "remaining_time": 48.28030996,
                        "learn": [
                          0.0008479855268
                        ]
                      },
                      {
                        "test": [
                          1,
                          0.0005998766006
                        ],
                        "passed_time": 12.63611037,
                        "iteration": 207,
                        "remaining_time": 48.11442027,
                        "learn": [
                          0.0008479846725
                        ]
                      },
                      {
                        "test": [
                          1,
                          0.0005998727439
                        ],
                        "passed_time": 12.6841876,
                        "iteration": 208,
                        "remaining_time": 48.00570524,
                        "learn": [
                          0.0008479810522
                        ]
                      },
                      {
                        "test": [
                          1,
                          0.000599870892
                        ],
                        "passed_time": 12.73655491,
                        "iteration": 209,
                        "remaining_time": 47.91370656,
                        "learn": [
                          0.0008479704721
                        ]
                      },
                      {
                        "test": [
                          1,
                          0.000599870892
                        ],
                        "passed_time": 12.79146663,
                        "iteration": 210,
                        "remaining_time": 47.83159795,
                        "learn": [
                          0.0008479704721
                        ]
                      },
                      {
                        "test": [
                          1,
                          0.0005998516388
                        ],
                        "passed_time": 12.84642342,
                        "iteration": 211,
                        "remaining_time": 47.74991347,
                        "learn": [
                          0.0008479445506
                        ]
                      },
                      {
                        "test": [
                          1,
                          0.0005998469133
                        ],
                        "passed_time": 12.90141254,
                        "iteration": 212,
                        "remaining_time": 47.66859938,
                        "learn": [
                          0.0008479363865
                        ]
                      },
                      {
                        "test": [
                          1,
                          0.0005998460907
                        ],
                        "passed_time": 12.94961371,
                        "iteration": 213,
                        "remaining_time": 47.5625999,
                        "learn": [
                          0.0008479354665
                        ]
                      },
                      {
                        "test": [
                          1,
                          0.0005998405933
                        ],
                        "passed_time": 13.00609637,
                        "iteration": 214,
                        "remaining_time": 47.48737514,
                        "learn": [
                          0.000847930012
                        ]
                      },
                      {
                        "test": [
                          1,
                          0.0005998352888
                        ],
                        "passed_time": 13.07019594,
                        "iteration": 215,
                        "remaining_time": 47.43997045,
                        "learn": [
                          0.0008479241888
                        ]
                      },
                      {
                        "test": [
                          1,
                          0.0005998257576
                        ],
                        "passed_time": 13.09312898,
                        "iteration": 216,
                        "remaining_time": 47.24387092,
                        "learn": [
                          0.0008479168357
                        ]
                      },
                      {
                        "test": [
                          1,
                          0.0005998180531
                        ],
                        "passed_time": 13.13768014,
                        "iteration": 217,
                        "remaining_time": 47.12690765,
                        "learn": [
                          0.0008479096027
                        ]
                      },
                      {
                        "test": [
                          1,
                          0.0005998180531
                        ],
                        "passed_time": 13.22178851,
                        "iteration": 218,
                        "remaining_time": 47.15167502,
                        "learn": [
                          0.0008479096027
                        ]
                      },
                      {
                        "test": [
                          1,
                          0.0005998069538
                        ],
                        "passed_time": 13.27627587,
                        "iteration": 219,
                        "remaining_time": 47.07043262,
                        "learn": [
                          0.0008478991067
                        ]
                      },
                      {
                        "test": [
                          1,
                          0.0005997837835
                        ],
                        "passed_time": 13.3406481,
                        "iteration": 220,
                        "remaining_time": 47.02427541,
                        "learn": [
                          0.0008478726353
                        ]
                      },
                      {
                        "test": [
                          1,
                          0.0005997707004
                        ],
                        "passed_time": 13.37602651,
                        "iteration": 221,
                        "remaining_time": 46.87634517,
                        "learn": [
                          0.0008478594037
                        ]
                      },
                      {
                        "test": [
                          1,
                          0.000599768371
                        ],
                        "passed_time": 13.43243902,
                        "iteration": 222,
                        "remaining_time": 46.80271354,
                        "learn": [
                          0.000847853398
                        ]
                      },
                      {
                        "test": [
                          1,
                          0.0005997608333
                        ],
                        "passed_time": 13.48654184,
                        "iteration": 223,
                        "remaining_time": 46.72123423,
                        "learn": [
                          0.0008478449361
                        ]
                      },
                      {
                        "test": [
                          1,
                          0.000599758505
                        ],
                        "passed_time": 13.54761649,
                        "iteration": 224,
                        "remaining_time": 46.66401237,
                        "learn": [
                          0.0008478389314
                        ]
                      },
                      {
                        "test": [
                          1,
                          0.0005997557183
                        ],
                        "passed_time": 13.60416252,
                        "iteration": 225,
                        "remaining_time": 46.59124685,
                        "learn": [
                          0.0008478331346
                        ]
                      },
                      {
                        "test": [
                          1,
                          0.0005997545287
                        ],
                        "passed_time": 13.62631973,
                        "iteration": 226,
                        "remaining_time": 46.40152049,
                        "learn": [
                          0.0008478322162
                        ]
                      },
                      {
                        "test": [
                          1,
                          0.0005997516121
                        ],
                        "passed_time": 13.64083708,
                        "iteration": 227,
                        "remaining_time": 46.18739573,
                        "learn": [
                          0.0008478305349
                        ]
                      },
                      {
                        "test": [
                          1,
                          0.0005997492852
                        ],
                        "passed_time": 13.69410974,
                        "iteration": 228,
                        "remaining_time": 46.10549612,
                        "learn": [
                          0.0008478245314
                        ]
                      },
                      {
                        "test": [
                          1,
                          0.0005997481055
                        ],
                        "passed_time": 13.74965153,
                        "iteration": 229,
                        "remaining_time": 46.03144208,
                        "learn": [
                          0.0008478224917
                        ]
                      },
                      {
                        "test": [
                          1,
                          0.0005997475157
                        ],
                        "passed_time": 13.80566664,
                        "iteration": 230,
                        "remaining_time": 45.959124,
                        "learn": [
                          0.0008478214719
                        ]
                      },
                      {
                        "test": [
                          1,
                          0.0005997447517
                        ],
                        "passed_time": 13.86255156,
                        "iteration": 231,
                        "remaining_time": 45.88982585,
                        "learn": [
                          0.0008478154409
                        ]
                      },
                      {
                        "test": [
                          1,
                          0.0005997426533
                        ],
                        "passed_time": 13.87996608,
                        "iteration": 232,
                        "remaining_time": 45.6907038,
                        "learn": [
                          0.0008478134906
                        ]
                      },
                      {
                        "test": [
                          1,
                          0.0005997417663
                        ],
                        "passed_time": 13.92828187,
                        "iteration": 233,
                        "remaining_time": 45.59429022,
                        "learn": [
                          0.0008478085127
                        ]
                      },
                      {
                        "test": [
                          1,
                          0.0005997390032
                        ],
                        "passed_time": 13.99959121,
                        "iteration": 234,
                        "remaining_time": 45.57313734,
                        "learn": [
                          0.0008478024824
                        ]
                      },
                      {
                        "test": [
                          1,
                          0.0005997366784
                        ],
                        "passed_time": 14.05540359,
                        "iteration": 235,
                        "remaining_time": 45.5013913,
                        "learn": [
                          0.0008477964811
                        ]
                      },
                      {
                        "test": [
                          1,
                          0.0005997359878
                        ],
                        "passed_time": 14.11043525,
                        "iteration": 236,
                        "remaining_time": 45.42726622,
                        "learn": [
                          0.0008477949738
                        ]
                      },
                      {
                        "test": [
                          1,
                          0.0005997359878
                        ],
                        "passed_time": 14.16741881,
                        "iteration": 237,
                        "remaining_time": 45.35955097,
                        "learn": [
                          0.0008477949738
                        ]
                      },
                      {
                        "test": [
                          1,
                          0.0005997351391
                        ],
                        "passed_time": 14.23069494,
                        "iteration": 238,
                        "remaining_time": 45.3119617,
                        "learn": [
                          0.000847794012
                        ]
                      },
                      {
                        "test": [
                          1,
                          0.0005997348486
                        ],
                        "passed_time": 14.28850875,
                        "iteration": 239,
                        "remaining_time": 45.24694437,
                        "learn": [
                          0.0008477932619
                        ]
                      },
                      {
                        "test": [
                          1,
                          0.0005997334678
                        ],
                        "passed_time": 14.34622083,
                        "iteration": 240,
                        "remaining_time": 45.18166644,
                        "learn": [
                          0.0008477902475
                        ]
                      },
                      {
                        "test": [
                          1,
                          0.0005997276717
                        ],
                        "passed_time": 14.40971394,
                        "iteration": 241,
                        "remaining_time": 45.13455855,
                        "learn": [
                          0.0008477835423
                        ]
                      },
                      {
                        "test": [
                          1,
                          0.0005997256231
                        ],
                        "passed_time": 14.46904728,
                        "iteration": 242,
                        "remaining_time": 45.07435717,
                        "learn": [
                          0.0008477790749
                        ]
                      },
                      {
                        "test": [
                          1,
                          0.0005997247555
                        ],
                        "passed_time": 14.51713595,
                        "iteration": 243,
                        "remaining_time": 44.97932285,
                        "learn": [
                          0.0008477777797
                        ]
                      },
                      {
                        "test": [
                          1,
                          0.0005997240653
                        ],
                        "passed_time": 14.57238346,
                        "iteration": 244,
                        "remaining_time": 44.90673271,
                        "learn": [
                          0.0008477762727
                        ]
                      },
                      {
                        "test": [
                          1,
                          0.0005997226742
                        ],
                        "passed_time": 14.63126974,
                        "iteration": 245,
                        "remaining_time": 44.84543653,
                        "learn": [
                          0.0008477733764
                        ]
                      },
                      {
                        "test": [
                          1,
                          0.000599721984
                        ],
                        "passed_time": 14.68796386,
                        "iteration": 246,
                        "remaining_time": 44.77747686,
                        "learn": [
                          0.0008477718694
                        ]
                      },
                      {
                        "test": [
                          1,
                          0.0005997164633
                        ],
                        "passed_time": 14.74510623,
                        "iteration": 247,
                        "remaining_time": 44.71096727,
                        "learn": [
                          0.0008477598146
                        ]
                      },
                      {
                        "test": [
                          1,
                          0.0005997125985
                        ],
                        "passed_time": 14.80114334,
                        "iteration": 248,
                        "remaining_time": 44.6411994,
                        "learn": [
                          0.0008477531487
                        ]
                      },
                      {
                        "test": [
                          1,
                          0.0005997102771
                        ],
                        "passed_time": 14.85737835,
                        "iteration": 249,
                        "remaining_time": 44.57213504,
                        "learn": [
                          0.000847747151
                        ]
                      },
                      {
                        "test": [
                          1,
                          0.0005996945599
                        ],
                        "passed_time": 14.91406215,
                        "iteration": 250,
                        "remaining_time": 44.50451216,
                        "learn": [
                          0.0008477197789
                        ]
                      },
                      {
                        "test": [
                          1,
                          0.0005996806838
                        ],
                        "passed_time": 14.95953334,
                        "iteration": 251,
                        "remaining_time": 44.4036942,
                        "learn": [
                          0.0008476990649
                        ]
                      },
                      {
                        "test": [
                          1,
                          0.0005996783649
                        ],
                        "passed_time": 15.02977966,
                        "iteration": 252,
                        "remaining_time": 44.37646405,
                        "learn": [
                          0.0008476930701
                        ]
                      },
                      {
                        "test": [
                          1,
                          0.0005996737284
                        ],
                        "passed_time": 15.08549907,
                        "iteration": 253,
                        "remaining_time": 44.30622955,
                        "learn": [
                          0.000847681082
                        ]
                      },
                      {
                        "test": [
                          1,
                          0.0005996681761
                        ],
                        "passed_time": 15.14219556,
                        "iteration": 254,
                        "remaining_time": 44.2389635,
                        "learn": [
                          0.0008476695094
                        ]
                      },
                      {
                        "test": [
                          1,
                          0.0005996681761
                        ],
                        "passed_time": 15.19892573,
                        "iteration": 255,
                        "remaining_time": 44.17187791,
                        "learn": [
                          0.0008476695094
                        ]
                      },
                      {
                        "test": [
                          1,
                          0.0005996681761
                        ],
                        "passed_time": 15.28078712,
                        "iteration": 256,
                        "remaining_time": 44.17752851,
                        "learn": [
                          0.0008476695094
                        ]
                      },
                      {
                        "test": [
                          1,
                          0.000599666998
                        ],
                        "passed_time": 15.33576884,
                        "iteration": 257,
                        "remaining_time": 44.10519566,
                        "learn": [
                          0.0008476674721
                        ]
                      },
                      {
                        "test": [
                          1,
                          0.0005996637145
                        ],
                        "passed_time": 15.37799846,
                        "iteration": 258,
                        "remaining_time": 43.99651298,
                        "learn": [
                          0.0008476637986
                        ]
                      },
                      {
                        "test": [
                          1,
                          0.0005996582072
                        ],
                        "passed_time": 15.43697791,
                        "iteration": 259,
                        "remaining_time": 43.93601404,
                        "learn": [
                          0.0008476517579
                        ]
                      },
                      {
                        "test": [
                          1,
                          0.0005996549243
                        ],
                        "passed_time": 15.47781702,
                        "iteration": 260,
                        "remaining_time": 43.82416391,
                        "learn": [
                          0.0008476480849
                        ]
                      },
                      {
                        "test": [
                          1,
                          0.0005996535375
                        ],
                        "passed_time": 15.53860057,
                        "iteration": 261,
                        "remaining_time": 43.76903519,
                        "learn": [
                          0.0008476451929
                        ]
                      },
                      {
                        "test": [
                          1,
                          0.0005996458165
                        ],
                        "passed_time": 15.59729755,
                        "iteration": 262,
                        "remaining_time": 43.70801631,
                        "learn": [
                          0.000847631873
                        ]
                      },
                      {
                        "test": [
                          1,
                          0.0005996392525
                        ],
                        "passed_time": 15.63785668,
                        "iteration": 263,
                        "remaining_time": 43.59644892,
                        "learn": [
                          0.0008476245285
                        ]
                      },
                      {
                        "test": [
                          1,
                          0.0005996385646
                        ],
                        "passed_time": 15.69304773,
                        "iteration": 264,
                        "remaining_time": 43.5260003,
                        "learn": [
                          0.0008476230239
                        ]
                      },
                      {
                        "test": [
                          1,
                          0.0005996375419
                        ],
                        "passed_time": 15.7485649,
                        "iteration": 265,
                        "remaining_time": 43.45656631,
                        "learn": [
                          0.0008476207925
                        ]
                      },
                      {
                        "test": [
                          1,
                          0.0005996352287
                        ],
                        "passed_time": 15.80335526,
                        "iteration": 266,
                        "remaining_time": 43.38524122,
                        "learn": [
                          0.0008476148035
                        ]
                      },
                      {
                        "test": [
                          1,
                          0.0005996335829
                        ],
                        "passed_time": 15.85265971,
                        "iteration": 267,
                        "remaining_time": 43.29905562,
                        "learn": [
                          0.0008476098508
                        ]
                      },
                      {
                        "test": [
                          1,
                          0.0005996335829
                        ],
                        "passed_time": 15.90805784,
                        "iteration": 268,
                        "remaining_time": 43.22970364,
                        "learn": [
                          0.0008476098508
                        ]
                      },
                      {
                        "test": [
                          1,
                          0.0005996329941
                        ],
                        "passed_time": 15.96375048,
                        "iteration": 269,
                        "remaining_time": 43.16125129,
                        "learn": [
                          0.0008476088326
                        ]
                      },
                      {
                        "test": [
                          1,
                          0.0005996312996
                        ],
                        "passed_time": 16.01329318,
                        "iteration": 270,
                        "remaining_time": 43.07634955,
                        "learn": [
                          0.0008476069365
                        ]
                      },
                      {
                        "test": [
                          1,
                          0.0005996235816
                        ],
                        "passed_time": 16.07549414,
                        "iteration": 271,
                        "remaining_time": 43.02558725,
                        "learn": [
                          0.0008475936205
                        ]
                      },
                      {
                        "test": [
                          1,
                          0.0005996212697
                        ],
                        "passed_time": 16.13187089,
                        "iteration": 272,
                        "remaining_time": 42.95923126,
                        "learn": [
                          0.0008475876329
                        ]
                      },
                      {
                        "test": [
                          1,
                          0.0005996205824
                        ],
                        "passed_time": 16.18793563,
                        "iteration": 273,
                        "remaining_time": 42.89212142,
                        "learn": [
                          0.0008475861289
                        ]
                      },
                      {
                        "test": [
                          1,
                          0.0005996140217
                        ],
                        "passed_time": 16.22359054,
                        "iteration": 274,
                        "remaining_time": 42.77128414,
                        "learn": [
                          0.0008475787873
                        ]
                      },
                      {
                        "test": [
                          1,
                          0.0005996132018
                        ],
                        "passed_time": 16.29613675,
                        "iteration": 275,
                        "remaining_time": 42.74783698,
                        "learn": [
                          0.0008475778698
                        ]
                      },
                      {
                        "test": [
                          1,
                          0.0005996054863
                        ],
                        "passed_time": 16.35233175,
                        "iteration": 276,
                        "remaining_time": 42.68135688,
                        "learn": [
                          0.0008475645572
                        ]
                      },
                      {
                        "test": [
                          1,
                          0.000599604794
                        ],
                        "passed_time": 16.4073377,
                        "iteration": 277,
                        "remaining_time": 42.61186265,
                        "learn": [
                          0.0008475631121
                        ]
                      },
                      {
                        "test": [
                          1,
                          0.0005995969496
                        ],
                        "passed_time": 16.46349946,
                        "iteration": 278,
                        "remaining_time": 42.54545917,
                        "learn": [
                          0.0008475494455
                        ]
                      },
                      {
                        "test": [
                          1,
                          0.0005995892374
                        ],
                        "passed_time": 16.52095726,
                        "iteration": 279,
                        "remaining_time": 42.48246152,
                        "learn": [
                          0.0008475361375
                        ]
                      },
                      {
                        "test": [
                          1,
                          0.0005995824949
                        ],
                        "passed_time": 16.57311249,
                        "iteration": 280,
                        "remaining_time": 42.40593551,
                        "learn": [
                          0.000847524687
                        ]
                      },
                      {
                        "test": [
                          1,
                          0.0005995757559
                        ],
                        "passed_time": 16.6223336,
                        "iteration": 281,
                        "remaining_time": 42.32211179,
                        "learn": [
                          0.0008475132403
                        ]
                      },
                      {
                        "test": [
                          1,
                          0.0005995690204
                        ],
                        "passed_time": 16.66829409,
                        "iteration": 282,
                        "remaining_time": 42.23027161,
                        "learn": [
                          0.0008475017974
                        ]
                      },
                      {
                        "test": [
                          1,
                          0.0005995673373
                        ],
                        "passed_time": 16.71639115,
                        "iteration": 283,
                        "remaining_time": 42.14414107,
                        "learn": [
                          0.0008474989374
                        ]
                      },
                      {
                        "test": [
                          1,
                          0.0005995618457
                        ],
                        "passed_time": 16.77343414,
                        "iteration": 284,
                        "remaining_time": 42.08072074,
                        "learn": [
                          0.0008474869119
                        ]
                      },
                      {
                        "test": [
                          1,
                          0.0005995552938
                        ],
                        "passed_time": 16.81526141,
                        "iteration": 285,
                        "remaining_time": 41.9793589,
                        "learn": [
                          0.0008474795784
                        ]
                      },
                      {
                        "test": [
                          1,
                          0.0005995550054
                        ],
                        "passed_time": 16.87245031,
                        "iteration": 286,
                        "remaining_time": 41.91657517,
                        "learn": [
                          0.0008474788307
                        ]
                      },
                      {
                        "test": [
                          1,
                          0.0005995510867
                        ],
                        "passed_time": 16.93029443,
                        "iteration": 287,
                        "remaining_time": 41.85545013,
                        "learn": [
                          0.0008474720016
                        ]
                      },
                      {
                        "test": [
                          1,
                          0.0005995503953
                        ],
                        "passed_time": 16.98650548,
                        "iteration": 288,
                        "remaining_time": 41.79033009,
                        "learn": [
                          0.0008474705575
                        ]
                      },
                      {
                        "test": [
                          1,
                          0.0005995448653
                        ],
                        "passed_time": 17.05485209,
                        "iteration": 289,
                        "remaining_time": 41.7549827,
                        "learn": [
                          0.0008474590055
                        ]
                      },
                      {
                        "test": [
                          1,
                          0.0005995445224
                        ],
                        "passed_time": 17.111392,
                        "iteration": 290,
                        "remaining_time": 41.69064237,
                        "learn": [
                          0.0008474582543
                        ]
                      },
                      {
                        "test": [
                          1,
                          0.0005995379732
                        ],
                        "passed_time": 17.15299639,
                        "iteration": 291,
                        "remaining_time": 41.59014193,
                        "learn": [
                          0.000847450923
                        ]
                      },
                      {
                        "test": [
                          1,
                          0.0005995324462
                        ],
                        "passed_time": 17.20825108,
                        "iteration": 292,
                        "remaining_time": 41.52298127,
                        "learn": [
                          0.0008474393737
                        ]
                      },
                      {
                        "test": [
                          1,
                          0.0005995258992
                        ],
                        "passed_time": 17.26364238,
                        "iteration": 293,
                        "remaining_time": 41.45622967,
                        "learn": [
                          0.0008474320443
                        ]
                      },
                      {
                        "test": [
                          1,
                          0.0005995220473
                        ],
                        "passed_time": 17.33757142,
                        "iteration": 294,
                        "remaining_time": 41.43385713,
                        "learn": [
                          0.0008474253952
                        ]
                      },
                      {
                        "test": [
                          1,
                          0.0005995165662
                        ],
                        "passed_time": 17.39475693,
                        "iteration": 295,
                        "remaining_time": 41.37131378,
                        "learn": [
                          0.0008474133794
                        ]
                      },
                      {
                        "test": [
                          1,
                          0.0005995100217
                        ],
                        "passed_time": 17.4359729,
                        "iteration": 296,
                        "remaining_time": 41.27100656,
                        "learn": [
                          0.000847406052
                        ]
                      },
                      {
                        "test": [
                          1,
                          0.0005995045436
                        ],
                        "passed_time": 17.49144359,
                        "iteration": 297,
                        "remaining_time": 41.20467584,
                        "learn": [
                          0.000847394039
                        ]
                      },
                      {
                        "test": [
                          1,
                          0.0005995028631
                        ],
                        "passed_time": 17.54002601,
                        "iteration": 298,
                        "remaining_time": 41.12226835,
                        "learn": [
                          0.0008473911817
                        ]
                      },
                      {
                        "test": [
                          1,
                          0.0005995028631
                        ],
                        "passed_time": 17.60868005,
                        "iteration": 299,
                        "remaining_time": 41.08692012,
                        "learn": [
                          0.0008473911817
                        ]
                      },
                      {
                        "test": [
                          1,
                          0.0005995011829
                        ],
                        "passed_time": 17.65658946,
                        "iteration": 300,
                        "remaining_time": 41.0031762,
                        "learn": [
                          0.0008473883247
                        ]
                      },
                      {
                        "test": [
                          1,
                          0.0005994946413
                        ],
                        "passed_time": 17.69773446,
                        "iteration": 301,
                        "remaining_time": 40.90403526,
                        "learn": [
                          0.0008473809999
                        ]
                      },
                      {
                        "test": [
                          1,
                          0.0005994836074
                        ],
                        "passed_time": 17.75281853,
                        "iteration": 302,
                        "remaining_time": 40.83734164,
                        "learn": [
                          0.0008473579198
                        ]
                      },
                      {
                        "test": [
                          1,
                          0.0005994780948
                        ],
                        "passed_time": 17.80705116,
                        "iteration": 303,
                        "remaining_time": 40.76877503,
                        "learn": [
                          0.0008473463837
                        ]
                      },
                      {
                        "test": [
                          1,
                          0.0005994742457
                        ],
                        "passed_time": 17.86287606,
                        "iteration": 304,
                        "remaining_time": 40.7039307,
                        "learn": [
                          0.0008473397383
                        ]
                      },
                      {
                        "test": [
                          1,
                          0.0005994734061
                        ],
                        "passed_time": 17.90919245,
                        "iteration": 305,
                        "remaining_time": 40.61758026,
                        "learn": [
                          0.0008473383103
                        ]
                      },
                      {
                        "test": [
                          1,
                          0.0005994679388
                        ],
                        "passed_time": 17.96389076,
                        "iteration": 306,
                        "remaining_time": 40.55041139,
                        "learn": [
                          0.0008473263075
                        ]
                      },
                      {
                        "test": [
                          1,
                          0.0005994640904
                        ],
                        "passed_time": 18.01923446,
                        "iteration": 307,
                        "remaining_time": 40.48477353,
                        "learn": [
                          0.0008473196633
                        ]
                      },
                      {
                        "test": [
                          1,
                          0.0005994486996
                        ],
                        "passed_time": 18.0839471,
                        "iteration": 308,
                        "remaining_time": 40.44015356,
                        "learn": [
                          0.00084729309
                        ]
                      },
                      {
                        "test": [
                          1,
                          0.0005994478603
                        ],
                        "passed_time": 18.1317951,
                        "iteration": 309,
                        "remaining_time": 40.35786651,
                        "learn": [
                          0.0008472916624
                        ]
                      },
                      {
                        "test": [
                          1,
                          0.0005994451079
                        ],
                        "passed_time": 18.18740044,
                        "iteration": 310,
                        "remaining_time": 40.29298683,
                        "learn": [
                          0.000847285898
                        ]
                      },
                      {
                        "test": [
                          1,
                          0.0005994442688
                        ],
                        "passed_time": 18.23316864,
                        "iteration": 311,
                        "remaining_time": 40.20647444,
                        "learn": [
                          0.0008472844705
                        ]
                      },
                      {
                        "test": [
                          1,
                          0.0005994404226
                        ],
                        "passed_time": 18.30484011,
                        "iteration": 312,
                        "remaining_time": 40.17707718,
                        "learn": [
                          0.0008472778293
                        ]
                      },
                      {
                        "test": [
                          1,
                          0.0005994376711
                        ],
                        "passed_time": 18.37197357,
                        "iteration": 313,
                        "remaining_time": 40.13749639,
                        "learn": [
                          0.0008472720657
                        ]
                      },
                      {
                        "test": [
                          1,
                          0.0005994349202
                        ],
                        "passed_time": 18.42726183,
                        "iteration": 314,
                        "remaining_time": 40.07198208,
                        "learn": [
                          0.0008472663026
                        ]
                      },
                      {
                        "test": [
                          1,
                          0.0005994310097
                        ],
                        "passed_time": 18.48189821,
                        "iteration": 315,
                        "remaining_time": 40.00512144,
                        "learn": [
                          0.0008472594847
                        ]
                      },
                      {
                        "test": [
                          1,
                          0.0005994301928
                        ],
                        "passed_time": 18.52876282,
                        "iteration": 316,
                        "remaining_time": 39.92159309,
                        "learn": [
                          0.0008472585698
                        ]
                      },
                      {
                        "test": [
                          1,
                          0.0005994263478
                        ],
                        "passed_time": 18.5859383,
                        "iteration": 317,
                        "remaining_time": 39.86040856,
                        "learn": [
                          0.0008472519303
                        ]
                      },
                      {
                        "test": [
                          1,
                          0.0005994236192
                        ],
                        "passed_time": 18.64254574,
                        "iteration": 318,
                        "remaining_time": 39.79803651,
                        "learn": [
                          0.0008472459337
                        ]
                      },
                      {
                        "test": [
                          1,
                          0.0005994197748
                        ],
                        "passed_time": 18.69890283,
                        "iteration": 319,
                        "remaining_time": 39.73516852,
                        "learn": [
                          0.000847239295
                        ]
                      },
                      {
                        "test": [
                          1,
                          0.0005994159308
                        ],
                        "passed_time": 18.75478452,
                        "iteration": 320,
                        "remaining_time": 39.67133547,
                        "learn": [
                          0.0008472326567
                        ]
                      },
                      {
                        "test": [
                          1,
                          0.0005994120871
                        ],
                        "passed_time": 18.81153728,
                        "iteration": 321,
                        "remaining_time": 39.60938594,
                        "learn": [
                          0.0008472260191
                        ]
                      },
                      {
                        "test": [
                          1,
                          0.0005994112704
                        ],
                        "passed_time": 18.85383129,
                        "iteration": 322,
                        "remaining_time": 39.51716342,
                        "learn": [
                          0.0008472251043
                        ]
                      },
                      {
                        "test": [
                          1,
                          0.0005994085433
                        ],
                        "passed_time": 18.91205504,
                        "iteration": 323,
                        "remaining_time": 39.45848521,
                        "learn": [
                          0.0008472191092
                        ]
                      },
                      {
                        "test": [
                          1,
                          0.0005994052767
                        ],
                        "passed_time": 18.95348664,
                        "iteration": 324,
                        "remaining_time": 39.36493378,
                        "learn": [
                          0.0008472154504
                        ]
                      },
                      {
                        "test": [
                          1,
                          0.0005994025291
                        ],
                        "passed_time": 19.00955059,
                        "iteration": 325,
                        "remaining_time": 39.30195429,
                        "learn": [
                          0.0008472096904
                        ]
                      },
                      {
                        "test": [
                          1,
                          0.000599399782
                        ],
                        "passed_time": 19.10585907,
                        "iteration": 326,
                        "remaining_time": 39.32184451,
                        "learn": [
                          0.0008472039309
                        ]
                      },
                      {
                        "test": [
                          1,
                          0.0005993970568
                        ],
                        "passed_time": 19.16113875,
                        "iteration": 327,
                        "remaining_time": 39.25696721,
                        "learn": [
                          0.0008471979376
                        ]
                      },
                      {
                        "test": [
                          1,
                          0.0005993943109
                        ],
                        "passed_time": 19.21664076,
                        "iteration": 328,
                        "remaining_time": 39.19260167,
                        "learn": [
                          0.0008471921792
                        ]
                      },
                      {
                        "test": [
                          1,
                          0.0005993915868
                        ],
                        "passed_time": 19.27207001,
                        "iteration": 329,
                        "remaining_time": 39.12814214,
                        "learn": [
                          0.0008471861869
                        ]
                      },
                      {
                        "test": [
                          1,
                          0.0005993915868
                        ],
                        "passed_time": 19.36412314,
                        "iteration": 330,
                        "remaining_time": 39.13775945,
                        "learn": [
                          0.0008471861869
                        ]
                      },
                      {
                        "test": [
                          1,
                          0.0005993915868
                        ],
                        "passed_time": 19.42081739,
                        "iteration": 331,
                        "remaining_time": 39.07562053,
                        "learn": [
                          0.0008471861869
                        ]
                      },
                      {
                        "test": [
                          1,
                          0.0005993912463
                        ],
                        "passed_time": 19.47979822,
                        "iteration": 332,
                        "remaining_time": 39.01809434,
                        "learn": [
                          0.000847185438
                        ]
                      },
                      {
                        "test": [
                          1,
                          0.0005993898846
                        ],
                        "passed_time": 19.54107817,
                        "iteration": 333,
                        "remaining_time": 38.96514389,
                        "learn": [
                          0.0008471824421
                        ]
                      },
                      {
                        "test": [
                          1,
                          0.000599388523
                        ],
                        "passed_time": 19.60194273,
                        "iteration": 334,
                        "remaining_time": 38.91131914,
                        "learn": [
                          0.0008471794464
                        ]
                      },
                      {
                        "test": [
                          1,
                          0.0005993881826
                        ],
                        "passed_time": 19.66747523,
                        "iteration": 335,
                        "remaining_time": 38.86667724,
                        "learn": [
                          0.0008471786975
                        ]
                      },
                      {
                        "test": [
                          1,
                          0.0005993881826
                        ],
                        "passed_time": 19.72601905,
                        "iteration": 336,
                        "remaining_time": 38.80816212,
                        "learn": [
                          0.0008471786975
                        ]
                      },
                      {
                        "test": [
                          1,
                          0.000599384829
                        ],
                        "passed_time": 19.77418924,
                        "iteration": 337,
                        "remaining_time": 38.72932923,
                        "learn": [
                          0.0008471729912
                        ]
                      },
                      {
                        "test": [
                          1,
                          0.0005993840127
                        ],
                        "passed_time": 19.81790698,
                        "iteration": 338,
                        "remaining_time": 38.64199562,
                        "learn": [
                          0.0008471720768
                        ]
                      },
                      {
                        "test": [
                          1,
                          0.000599383036
                        ],
                        "passed_time": 19.88297409,
                        "iteration": 339,
                        "remaining_time": 38.59636148,
                        "learn": [
                          0.0008471703737
                        ]
                      },
                      {
                        "test": [
                          1,
                          0.0005993816747
                        ],
                        "passed_time": 19.93924725,
                        "iteration": 340,
                        "remaining_time": 38.53361859,
                        "learn": [
                          0.0008471673783
                        ]
                      },
                      {
                        "test": [
                          1,
                          0.0005993784099
                        ],
                        "passed_time": 19.98176275,
                        "iteration": 341,
                        "remaining_time": 38.44444412,
                        "learn": [
                          0.0008471637211
                        ]
                      },
                      {
                        "test": [
                          1,
                          0.0005993770488
                        ],
                        "passed_time": 20.04054517,
                        "iteration": 342,
                        "remaining_time": 38.38670021,
                        "learn": [
                          0.0008471607259
                        ]
                      },
                      {
                        "test": [
                          1,
                          0.0005993756879
                        ],
                        "passed_time": 20.11113393,
                        "iteration": 343,
                        "remaining_time": 38.35146471,
                        "learn": [
                          0.0008471577308
                        ]
                      },
                      {
                        "test": [
                          1,
                          0.0005993748718
                        ],
                        "passed_time": 20.15345956,
                        "iteration": 344,
                        "remaining_time": 38.26236525,
                        "learn": [
                          0.0008471568166
                        ]
                      },
                      {
                        "test": [
                          1,
                          0.000599361816
                        ],
                        "passed_time": 20.19513286,
                        "iteration": 345,
                        "remaining_time": 38.17230314,
                        "learn": [
                          0.0008471421911
                        ]
                      },
                      {
                        "test": [
                          1,
                          0.0005993509334
                        ],
                        "passed_time": 20.25170328,
                        "iteration": 346,
                        "remaining_time": 38.11055402,
                        "learn": [
                          0.0008471182356
                        ]
                      },
                      {
                        "test": [
                          1,
                          0.0005993400599
                        ],
                        "passed_time": 20.30973916,
                        "iteration": 347,
                        "remaining_time": 38.05158026,
                        "learn": [
                          0.0008470942892
                        ]
                      },
                      {
                        "test": [
                          1,
                          0.0005993367983
                        ],
                        "passed_time": 20.38529922,
                        "iteration": 348,
                        "remaining_time": 38.02530026,
                        "learn": [
                          0.0008470906349
                        ]
                      },
                      {
                        "test": [
                          1,
                          0.0005993367983
                        ],
                        "passed_time": 20.44129086,
                        "iteration": 349,
                        "remaining_time": 37.96239731,
                        "learn": [
                          0.0008470906349
                        ]
                      },
                      {
                        "test": [
                          1,
                          0.0005993313662
                        ],
                        "passed_time": 20.50117718,
                        "iteration": 350,
                        "remaining_time": 37.906735,
                        "learn": [
                          0.0008470786659
                        ]
                      },
                      {
                        "test": [
                          1,
                          0.0005993259363
                        ],
                        "passed_time": 20.55765303,
                        "iteration": 351,
                        "remaining_time": 37.84477035,
                        "learn": [
                          0.0008470666992
                        ]
                      },
                      {
                        "test": [
                          1,
                          0.0005993205087
                        ],
                        "passed_time": 20.61993897,
                        "iteration": 352,
                        "remaining_time": 37.79348587,
                        "learn": [
                          0.0008470547347
                        ]
                      },
                      {
                        "test": [
                          1,
                          0.0005993205087
                        ],
                        "passed_time": 20.68111399,
                        "iteration": 353,
                        "remaining_time": 37.74011196,
                        "learn": [
                          0.0008470547347
                        ]
                      },
                      {
                        "test": [
                          1,
                          0.0005993205087
                        ],
                        "passed_time": 20.73711941,
                        "iteration": 354,
                        "remaining_time": 37.67730147,
                        "learn": [
                          0.0008470547347
                        ]
                      },
                      {
                        "test": [
                          1,
                          0.0005993191417
                        ],
                        "passed_time": 20.79241136,
                        "iteration": 355,
                        "remaining_time": 37.61323852,
                        "learn": [
                          0.0008470518611
                        ]
                      },
                      {
                        "test": [
                          1,
                          0.0005993191417
                        ],
                        "passed_time": 20.85147189,
                        "iteration": 356,
                        "remaining_time": 37.5560124,
                        "learn": [
                          0.0008470518611
                        ]
                      },
                      {
                        "test": [
                          1,
                          0.0005993191417
                        ],
                        "passed_time": 20.90958167,
                        "iteration": 357,
                        "remaining_time": 37.49707104,
                        "learn": [
                          0.0008470518611
                        ]
                      },
                      {
                        "test": [
                          1,
                          0.0005993177855
                        ],
                        "passed_time": 20.96697283,
                        "iteration": 358,
                        "remaining_time": 37.4368512,
                        "learn": [
                          0.0008470488706
                        ]
                      },
                      {
                        "test": [
                          1,
                          0.0005993164294
                        ],
                        "passed_time": 21.02809497,
                        "iteration": 359,
                        "remaining_time": 37.38327994,
                        "learn": [
                          0.0008470458802
                        ]
                      },
                      {
                        "test": [
                          1,
                          0.0005993150734
                        ],
                        "passed_time": 21.08677398,
                        "iteration": 360,
                        "remaining_time": 37.3253423,
                        "learn": [
                          0.00084704289
                        ]
                      },
                      {
                        "test": [
                          1,
                          0.000599313707
                        ],
                        "passed_time": 21.15941677,
                        "iteration": 361,
                        "remaining_time": 37.29201077,
                        "learn": [
                          0.0008470400169
                        ]
                      },
                      {
                        "test": [
                          1,
                          0.000599313707
                        ],
                        "passed_time": 21.21730974,
                        "iteration": 362,
                        "remaining_time": 37.23257935,
                        "learn": [
                          0.0008470400169
                        ]
                      },
                      {
                        "test": [
                          1,
                          0.0005993123407
                        ],
                        "passed_time": 21.27360207,
                        "iteration": 363,
                        "remaining_time": 37.17035966,
                        "learn": [
                          0.000847037144
                        ]
                      },
                      {
                        "test": [
                          1,
                          0.0005993123407
                        ],
                        "passed_time": 21.33166182,
                        "iteration": 364,
                        "remaining_time": 37.11124728,
                        "learn": [
                          0.000847037144
                        ]
                      },
                      {
                        "test": [
                          1,
                          0.0005993109852
                        ],
                        "passed_time": 21.4290461,
                        "iteration": 365,
                        "remaining_time": 37.12026019,
                        "learn": [
                          0.0008470341542
                        ]
                      },
                      {
                        "test": [
                          1,
                          0.0005993109852
                        ],
                        "passed_time": 21.48897884,
                        "iteration": 366,
                        "remaining_time": 37.06409702,
                        "learn": [
                          0.0008470341542
                        ]
                      },
                      {
                        "test": [
                          1,
                          0.0005993077252
                        ],
                        "passed_time": 21.53022504,
                        "iteration": 367,
                        "remaining_time": 36.97582127,
                        "learn": [
                          0.0008470305011
                        ]
                      },
                      {
                        "test": [
                          1,
                          0.0005993063699
                        ],
                        "passed_time": 21.59305947,
                        "iteration": 368,
                        "remaining_time": 36.92471687,
                        "learn": [
                          0.0008470275115
                        ]
                      },
                      {
                        "test": [
                          1,
                          0.0005993063699
                        ],
                        "passed_time": 21.65454826,
                        "iteration": 369,
                        "remaining_time": 36.87125785,
                        "learn": [
                          0.0008470275115
                        ]
                      },
                      {
                        "test": [
                          1,
                          0.0005993050147
                        ],
                        "passed_time": 21.71281183,
                        "iteration": 370,
                        "remaining_time": 36.81228745,
                        "learn": [
                          0.0008470245221
                        ]
                      },
                      {
                        "test": [
                          1,
                          0.0005992896664
                        ],
                        "passed_time": 21.76901469,
                        "iteration": 371,
                        "remaining_time": 36.749842,
                        "learn": [
                          0.0008469980077
                        ]
                      },
                      {
                        "test": [
                          1,
                          0.0005992883119
                        ],
                        "passed_time": 21.82463486,
                        "iteration": 372,
                        "remaining_time": 36.68645055,
                        "learn": [
                          0.0008469950189
                        ]
                      },
                      {
                        "test": [
                          1,
                          0.000599277478
                        ],
                        "passed_time": 21.88040272,
                        "iteration": 373,
                        "remaining_time": 36.62334786,
                        "learn": [
                          0.0008469711115
                        ]
                      },
                      {
                        "test": [
                          1,
                          0.0005992698082
                        ],
                        "passed_time": 21.93869247,
                        "iteration": 374,
                        "remaining_time": 36.56448746,
                        "learn": [
                          0.0008469578604
                        ]
                      },
                      {
                        "test": [
                          1,
                          0.0005992688334
                        ],
                        "passed_time": 21.99622923,
                        "iteration": 375,
                        "remaining_time": 36.50438042,
                        "learn": [
                          0.0008469561599
                        ]
                      },
                      {
                        "test": [
                          1,
                          0.0005992674804
                        ],
                        "passed_time": 22.05657059,
                        "iteration": 376,
                        "remaining_time": 36.4489217,
                        "learn": [
                          0.0008469531727
                        ]
                      },
                      {
                        "test": [
                          1,
                          0.0005992674804
                        ],
                        "passed_time": 22.11463065,
                        "iteration": 377,
                        "remaining_time": 36.38968324,
                        "learn": [
                          0.0008469531727
                        ]
                      },
                      {
                        "test": [
                          1,
                          0.0005992661171
                        ],
                        "passed_time": 22.18481997,
                        "iteration": 378,
                        "remaining_time": 36.35032506,
                        "learn": [
                          0.0008469503025
                        ]
                      },
                      {
                        "test": [
                          1,
                          0.0005992661171
                        ],
                        "passed_time": 22.24461993,
                        "iteration": 379,
                        "remaining_time": 36.29385357,
                        "learn": [
                          0.0008469503025
                        ]
                      },
                      {
                        "test": [
                          1,
                          0.0005992634118
                        ],
                        "passed_time": 22.3033114,
                        "iteration": 380,
                        "remaining_time": 36.23556367,
                        "learn": [
                          0.0008469443286
                        ]
                      },
                      {
                        "test": [
                          1,
                          0.0005992557444
                        ],
                        "passed_time": 22.35991736,
                        "iteration": 381,
                        "remaining_time": 36.17389772,
                        "learn": [
                          0.000846931081
                        ]
                      },
                      {
                        "test": [
                          1,
                          0.0005992427144
                        ],
                        "passed_time": 22.44631557,
                        "iteration": 382,
                        "remaining_time": 36.1602525,
                        "learn": [
                          0.000846916478
                        ]
                      },
                      {
                        "test": [
                          1,
                          0.0005992427144
                        ],
                        "passed_time": 22.50694989,
                        "iteration": 383,
                        "remaining_time": 36.10489878,
                        "learn": [
                          0.000846916478
                        ]
                      },
                      {
                        "test": [
                          1,
                          0.0005992394584
                        ],
                        "passed_time": 22.54876721,
                        "iteration": 384,
                        "remaining_time": 36.0194593,
                        "learn": [
                          0.0008469128284
                        ]
                      },
                      {
                        "test": [
                          1,
                          0.0005992362029
                        ],
                        "passed_time": 22.590595,
                        "iteration": 385,
                        "remaining_time": 35.93426252,
                        "learn": [
                          0.0008469091792
                        ]
                      },
                      {
                        "test": [
                          1,
                          0.0005992285385
                        ],
                        "passed_time": 22.65014375,
                        "iteration": 386,
                        "remaining_time": 35.87735947,
                        "learn": [
                          0.0008468959351
                        ]
                      },
                      {
                        "test": [
                          1,
                          0.0005992252836
                        ],
                        "passed_time": 22.69207873,
                        "iteration": 387,
                        "remaining_time": 35.79266027,
                        "learn": [
                          0.0008468922864
                        ]
                      },
                      {
                        "test": [
                          1,
                          0.0005992220292
                        ],
                        "passed_time": 22.7354704,
                        "iteration": 388,
                        "remaining_time": 35.71046894,
                        "learn": [
                          0.0008468886381
                        ]
                      },
                      {
                        "test": [
                          1,
                          0.0005992216888
                        ],
                        "passed_time": 22.79188092,
                        "iteration": 389,
                        "remaining_time": 35.64883939,
                        "learn": [
                          0.0008468879209
                        ]
                      },
                      {
                        "test": [
                          1,
                          0.0005992184348
                        ],
                        "passed_time": 22.83397748,
                        "iteration": 390,
                        "remaining_time": 35.5649419,
                        "learn": [
                          0.000846884273
                        ]
                      },
                      {
                        "test": [
                          1,
                          0.0005992107728
                        ],
                        "passed_time": 22.88983096,
                        "iteration": 391,
                        "remaining_time": 35.50259496,
                        "learn": [
                          0.0008468710317
                        ]
                      },
                      {
                        "test": [
                          1,
                          0.0005992031123
                        ],
                        "passed_time": 22.9480328,
                        "iteration": 392,
                        "remaining_time": 35.44390816,
                        "learn": [
                          0.0008468577926
                        ]
                      },
                      {
                        "test": [
                          1,
                          0.0005991998593
                        ],
                        "passed_time": 22.98969294,
                        "iteration": 393,
                        "remaining_time": 35.35978153,
                        "learn": [
                          0.0008468541455
                        ]
                      },
                      {
                        "test": [
                          1,
                          0.0005991966067
                        ],
                        "passed_time": 23.03312264,
                        "iteration": 394,
                        "remaining_time": 35.27858024,
                        "learn": [
                          0.0008468504987
                        ]
                      },
                      {
                        "test": [
                          1,
                          0.0005991889483
                        ],
                        "passed_time": 23.08891287,
                        "iteration": 395,
                        "remaining_time": 35.21642265,
                        "learn": [
                          0.0008468372622
                        ]
                      },
                      {
                        "test": [
                          1,
                          0.0005991856964
                        ],
                        "passed_time": 23.13031953,
                        "iteration": 396,
                        "remaining_time": 35.13245007,
                        "learn": [
                          0.000846833616
                        ]
                      },
                      {
                        "test": [
                          1,
                          0.0005991780398
                        ],
                        "passed_time": 23.19657105,
                        "iteration": 397,
                        "remaining_time": 35.08627078,
                        "learn": [
                          0.0008468203819
                        ]
                      },
                      {
                        "test": [
                          1,
                          0.0005991747886
                        ],
                        "passed_time": 23.23861735,
                        "iteration": 398,
                        "remaining_time": 35.0035314,
                        "learn": [
                          0.0008468167362
                        ]
                      },
                      {
                        "test": [
                          1,
                          0.0005991670042
                        ],
                        "passed_time": 23.29468857,
                        "iteration": 399,
                        "remaining_time": 34.94203286,
                        "learn": [
                          0.0008468031502
                        ]
                      },
                      {
                        "test": [
                          1,
                          0.0005991637537
                        ],
                        "passed_time": 23.33655301,
                        "iteration": 400,
                        "remaining_time": 34.85933979,
                        "learn": [
                          0.0008467995051
                        ]
                      },
                      {
                        "test": [
                          1,
                          0.0005991561008
                        ],
                        "passed_time": 23.39198144,
                        "iteration": 401,
                        "remaining_time": 34.79702711,
                        "learn": [
                          0.0008467862758
                        ]
                      },
                      {
                        "test": [
                          1,
                          0.0005991534026
                        ],
                        "passed_time": 23.48795869,
                        "iteration": 402,
                        "remaining_time": 34.79481722,
                        "learn": [
                          0.0008467803081
                        ]
                      },
                      {
                        "test": [
                          1,
                          0.0005991501529
                        ],
                        "passed_time": 23.53026076,
                        "iteration": 403,
                        "remaining_time": 34.71295895,
                        "learn": [
                          0.0008467766637
                        ]
                      },
                      {
                        "test": [
                          1,
                          0.0005991501529
                        ],
                        "passed_time": 23.59621458,
                        "iteration": 404,
                        "remaining_time": 34.66604365,
                        "learn": [
                          0.0008467766637
                        ]
                      },
                      {
                        "test": [
                          1,
                          0.0005991501529
                        ],
                        "passed_time": 23.65168044,
                        "iteration": 405,
                        "remaining_time": 34.60369011,
                        "learn": [
                          0.0008467766637
                        ]
                      },
                      {
                        "test": [
                          1,
                          0.0005991469037
                        ],
                        "passed_time": 23.69270638,
                        "iteration": 406,
                        "remaining_time": 34.5203314,
                        "learn": [
                          0.0008467730197
                        ]
                      },
                      {
                        "test": [
                          1,
                          0.0005991414669
                        ],
                        "passed_time": 23.74836264,
                        "iteration": 407,
                        "remaining_time": 34.45840854,
                        "learn": [
                          0.0008467615532
                        ]
                      },
                      {
                        "test": [
                          1,
                          0.0005991414669
                        ],
                        "passed_time": 23.80605573,
                        "iteration": 408,
                        "remaining_time": 34.3994595,
                        "learn": [
                          0.0008467615532
                        ]
                      }
                    ]
                  },
                  "total_iterations": 1000,
                  "passed_iterations": 408
                },
                "path": "catboost_info/model-0",
                "name": "model-0"
              }
            },
            "_view_module": "catboost-widget",
            "_model_module_version": "^1.0.0",
            "_view_count": null,
            "_view_module_version": "^1.0.0",
            "layout": "IPY_MODEL_73c9409c62044658a4debf671ef4630e",
            "_model_module": "catboost-widget"
          }
        }
      }
    }
  },
  "cells": [
    {
      "cell_type": "code",
      "source": [
        "!pip install catboost"
      ],
      "metadata": {
        "colab": {
          "base_uri": "https://localhost:8080/"
        },
        "id": "9R59DjKUWsZk",
        "outputId": "4b0e0524-f138-435e-cb25-fa54ee0ecd4d"
      },
      "execution_count": 1,
      "outputs": [
        {
          "output_type": "stream",
          "name": "stdout",
          "text": [
            "Collecting catboost\n",
            "  Downloading catboost-1.0.4-cp37-none-manylinux1_x86_64.whl (76.1 MB)\n",
            "\u001b[K     |████████████████████████████████| 76.1 MB 54 kB/s \n",
            "\u001b[?25hRequirement already satisfied: six in /usr/local/lib/python3.7/dist-packages (from catboost) (1.15.0)\n",
            "Requirement already satisfied: matplotlib in /usr/local/lib/python3.7/dist-packages (from catboost) (3.2.2)\n",
            "Requirement already satisfied: numpy>=1.16.0 in /usr/local/lib/python3.7/dist-packages (from catboost) (1.19.5)\n",
            "Requirement already satisfied: pandas>=0.24.0 in /usr/local/lib/python3.7/dist-packages (from catboost) (1.1.5)\n",
            "Requirement already satisfied: plotly in /usr/local/lib/python3.7/dist-packages (from catboost) (5.5.0)\n",
            "Requirement already satisfied: scipy in /usr/local/lib/python3.7/dist-packages (from catboost) (1.4.1)\n",
            "Requirement already satisfied: graphviz in /usr/local/lib/python3.7/dist-packages (from catboost) (0.10.1)\n",
            "Requirement already satisfied: pytz>=2017.2 in /usr/local/lib/python3.7/dist-packages (from pandas>=0.24.0->catboost) (2018.9)\n",
            "Requirement already satisfied: python-dateutil>=2.7.3 in /usr/local/lib/python3.7/dist-packages (from pandas>=0.24.0->catboost) (2.8.2)\n",
            "Requirement already satisfied: pyparsing!=2.0.4,!=2.1.2,!=2.1.6,>=2.0.1 in /usr/local/lib/python3.7/dist-packages (from matplotlib->catboost) (3.0.7)\n",
            "Requirement already satisfied: kiwisolver>=1.0.1 in /usr/local/lib/python3.7/dist-packages (from matplotlib->catboost) (1.3.2)\n",
            "Requirement already satisfied: cycler>=0.10 in /usr/local/lib/python3.7/dist-packages (from matplotlib->catboost) (0.11.0)\n",
            "Requirement already satisfied: tenacity>=6.2.0 in /usr/local/lib/python3.7/dist-packages (from plotly->catboost) (8.0.1)\n",
            "Installing collected packages: catboost\n",
            "Successfully installed catboost-1.0.4\n"
          ]
        }
      ]
    },
    {
      "cell_type": "code",
      "execution_count": 2,
      "metadata": {
        "id": "ef1YjNxjImfK"
      },
      "outputs": [],
      "source": [
        "# Author: Frank Gao, NETID: QXG190000\n",
        "# Two External Resources\n",
        "# [1] https://catboost.ai/en/docs/concepts/parameter-tuning\n",
        "# [2] https://www.kaggle.com/mitribunskiy/tutorial-catboost-overview\n",
        "\n",
        "\n",
        "import numpy as np # Math Functions\n",
        "import pandas as pd # data processing\n",
        "from catboost import CatBoostClassifier # An algorithmn for gradient boosting on decision trees, you could see it as a Optimtized Version of XGBoost. \n",
        "from sklearn.model_selection import train_test_split # Classic Train_test_split function, it will split arrays or matrices into different train and test subsets. Default ratio: 25 percents of all data will be assigned to test instance\n",
        "\n"
      ]
    },
    {
      "cell_type": "code",
      "source": [
        "Train_Instance = pd.read_csv(\"mushrooms.csv\") # You read the \n",
        "\n",
        "X = Train_Instance.iloc[: , 1:] # Train\n",
        "Y = Train_Instance.iloc[:, 0] # Label\n",
        "X_train, X_valid, y_train, y_valid = train_test_split(X, Y) # Split Train_Instance to 75/25 ratio\n"
      ],
      "metadata": {
        "id": "wBfk9OA3Vhw1"
      },
      "execution_count": 4,
      "outputs": []
    },
    {
      "cell_type": "code",
      "source": [
        "cat_features_names = X.columns\n",
        "cat_features = [X.columns.get_loc(col) for col in cat_features_names]\n",
        "print(cat_features)"
      ],
      "metadata": {
        "colab": {
          "base_uri": "https://localhost:8080/"
        },
        "id": "z7aQDoEvYMwk",
        "outputId": "56aea144-d753-4b45-ed93-57541b62d02c"
      },
      "execution_count": 5,
      "outputs": [
        {
          "output_type": "stream",
          "name": "stdout",
          "text": [
            "[0, 1, 2, 3, 4, 5, 6, 7, 8, 9, 10, 11, 12, 13, 14, 15, 16, 17, 18, 19, 20, 21]\n"
          ]
        }
      ]
    },
    {
      "cell_type": "code",
      "source": [
        "SEED = 42\n",
        "import sys\n",
        "from catboost import Pool\n",
        "\n",
        "pool = Pool(X_valid, y_valid, cat_features=cat_features)\n",
        "\n",
        "params = {'loss_function':'Logloss',\n",
        "          'eval_metric':'AUC',\n",
        "          'verbose': 200,\n",
        "          'random_seed': SEED,\n",
        "          'max_depth': 8,\n",
        "          'early_stopping_rounds': 400,\n",
        "          'cat_features':cat_features\n",
        "         }\n",
        "\n",
        "cbc_1 = CatBoostClassifier(**params)\n",
        "\n",
        "all_features = list(range(X.shape[1]))\n",
        "\n",
        "cbc_2 = cbc_1.select_features(\n",
        "                X_train,\n",
        "                y=y_train,\n",
        "                eval_set=pool,\n",
        "                features_for_select=all_features,\n",
        "                num_features_to_select=20,\n",
        "                algorithm=\"RecursiveByShapValues\",\n",
        "                steps=1,\n",
        "                shap_calc_type=\"Approximate\",\n",
        "                train_final_model=True,\n",
        "                logging_level=\"Verbose\",\n",
        "                plot=True,\n",
        "                log_cout=sys.stdout,\n",
        "                log_cerr=sys.stderr)"
      ],
      "metadata": {
        "colab": {
          "base_uri": "https://localhost:8080/",
          "height": 941,
          "referenced_widgets": [
            "845149deeedd4b40be335325ac20b68a"
          ]
        },
        "id": "jjK1h3CuXD82",
        "outputId": "086ee28f-0a94-4e86-fe6c-329826d0967a"
      },
      "execution_count": 9,
      "outputs": [
        {
          "output_type": "display_data",
          "data": {
            "application/vnd.jupyter.widget-view+json": {
              "model_id": "845149deeedd4b40be335325ac20b68a",
              "version_minor": 0,
              "version_major": 2
            },
            "text/plain": [
              "MetricVisualizer(layout=Layout(align_self='stretch', height='500px'))"
            ]
          },
          "metadata": {}
        },
        {
          "output_type": "stream",
          "name": "stdout",
          "text": [
            "Learning rate set to 0.049518\n",
            "Step #1 out of 1\n",
            "0:\ttest: 0.9834197\tbest: 0.9834197 (0)\ttotal: 35.2ms\tremaining: 35.2s\n",
            "200:\ttest: 1.0000000\tbest: 1.0000000 (8)\ttotal: 12.3s\tremaining: 48.8s\n",
            "400:\ttest: 1.0000000\tbest: 1.0000000 (8)\ttotal: 23.3s\tremaining: 34.9s\n",
            "Stopped by overfitting detector  (400 iterations wait)\n",
            "\n",
            "bestTest = 1\n",
            "bestIteration = 8\n",
            "\n",
            "Shrink model to first 9 iterations.\n",
            "Feature #3 eliminated\n",
            "Feature #5 eliminated\n",
            "Train final model\n",
            "0:\ttest: 0.9875434\tbest: 0.9875434 (0)\ttotal: 30.3ms\tremaining: 30.3s\n",
            "200:\ttest: 1.0000000\tbest: 1.0000000 (15)\ttotal: 10.6s\tremaining: 42.3s\n",
            "400:\ttest: 1.0000000\tbest: 1.0000000 (15)\ttotal: 22.7s\tremaining: 33.9s\n",
            "Stopped by overfitting detector  (400 iterations wait)\n",
            "\n",
            "bestTest = 1\n",
            "bestIteration = 15\n",
            "\n",
            "Shrink model to first 16 iterations.\n"
          ]
        },
        {
          "output_type": "display_data",
          "data": {
            "text/html": [
              "<html>\n",
              "<head><meta charset=\"utf-8\" /></head>\n",
              "<body>\n",
              "    <div>            <script src=\"https://cdnjs.cloudflare.com/ajax/libs/mathjax/2.7.5/MathJax.js?config=TeX-AMS-MML_SVG\"></script><script type=\"text/javascript\">if (window.MathJax) {MathJax.Hub.Config({SVG: {font: \"STIX-Web\"}});}</script>                <script type=\"text/javascript\">window.PlotlyConfig = {MathJaxConfig: 'local'};</script>\n",
              "        <script src=\"https://cdn.plot.ly/plotly-2.8.3.min.js\"></script>                <div id=\"ba17c723-6aaf-47e0-bc68-875ca4446d5b\" class=\"plotly-graph-div\" style=\"height:525px; width:100%;\"></div>            <script type=\"text/javascript\">                                    window.PLOTLYENV=window.PLOTLYENV || {};                                    if (document.getElementById(\"ba17c723-6aaf-47e0-bc68-875ca4446d5b\")) {                    Plotly.newPlot(                        \"ba17c723-6aaf-47e0-bc68-875ca4446d5b\",                        [{\"line\":{\"color\":\"rgb(51,160,44)\"},\"mode\":\"lines+markers\",\"name\":\"\",\"text\":[\"\",\"bruises\",\"gill-attachment\"],\"x\":[0,1,2],\"y\":[0.12376023774987092,0.04728622796099498,0.027860536422421756],\"type\":\"scatter\"},{\"marker\":{\"size\":10,\"symbol\":\"square\"},\"mode\":\"markers\",\"name\":\"\",\"text\":[\"\",\"gill-attachment\"],\"x\":[0,2],\"y\":[0.12376023774987092,0.027860536422421756],\"type\":\"scatter\"},{\"mode\":\"text\",\"name\":\"\",\"text\":[\"\",\"3\",\"5\"],\"textfont\":{\"color\":\"rgb(51,160,44)\",\"family\":\"sans serif\",\"size\":18},\"textposition\":\"bottom center\",\"visible\":false,\"x\":[0,1,2],\"y\":[0.12376023774987092,0.04728622796099498,0.027860536422421756],\"type\":\"scatter\"},{\"mode\":\"text\",\"name\":\"\",\"text\":[\"\",\"bruises\",\"gill-attachment\"],\"textfont\":{\"color\":\"rgb(51,160,44)\",\"family\":\"sans serif\",\"size\":18},\"textposition\":\"bottom center\",\"visible\":false,\"x\":[0,1,2],\"y\":[0.12376023774987092,0.04728622796099498,0.027860536422421756],\"type\":\"scatter\"}],                        {\"template\":{\"data\":{\"bar\":[{\"error_x\":{\"color\":\"#2a3f5f\"},\"error_y\":{\"color\":\"#2a3f5f\"},\"marker\":{\"line\":{\"color\":\"#E5ECF6\",\"width\":0.5},\"pattern\":{\"fillmode\":\"overlay\",\"size\":10,\"solidity\":0.2}},\"type\":\"bar\"}],\"barpolar\":[{\"marker\":{\"line\":{\"color\":\"#E5ECF6\",\"width\":0.5},\"pattern\":{\"fillmode\":\"overlay\",\"size\":10,\"solidity\":0.2}},\"type\":\"barpolar\"}],\"carpet\":[{\"aaxis\":{\"endlinecolor\":\"#2a3f5f\",\"gridcolor\":\"white\",\"linecolor\":\"white\",\"minorgridcolor\":\"white\",\"startlinecolor\":\"#2a3f5f\"},\"baxis\":{\"endlinecolor\":\"#2a3f5f\",\"gridcolor\":\"white\",\"linecolor\":\"white\",\"minorgridcolor\":\"white\",\"startlinecolor\":\"#2a3f5f\"},\"type\":\"carpet\"}],\"choropleth\":[{\"colorbar\":{\"outlinewidth\":0,\"ticks\":\"\"},\"type\":\"choropleth\"}],\"contour\":[{\"colorbar\":{\"outlinewidth\":0,\"ticks\":\"\"},\"colorscale\":[[0.0,\"#0d0887\"],[0.1111111111111111,\"#46039f\"],[0.2222222222222222,\"#7201a8\"],[0.3333333333333333,\"#9c179e\"],[0.4444444444444444,\"#bd3786\"],[0.5555555555555556,\"#d8576b\"],[0.6666666666666666,\"#ed7953\"],[0.7777777777777778,\"#fb9f3a\"],[0.8888888888888888,\"#fdca26\"],[1.0,\"#f0f921\"]],\"type\":\"contour\"}],\"contourcarpet\":[{\"colorbar\":{\"outlinewidth\":0,\"ticks\":\"\"},\"type\":\"contourcarpet\"}],\"heatmap\":[{\"colorbar\":{\"outlinewidth\":0,\"ticks\":\"\"},\"colorscale\":[[0.0,\"#0d0887\"],[0.1111111111111111,\"#46039f\"],[0.2222222222222222,\"#7201a8\"],[0.3333333333333333,\"#9c179e\"],[0.4444444444444444,\"#bd3786\"],[0.5555555555555556,\"#d8576b\"],[0.6666666666666666,\"#ed7953\"],[0.7777777777777778,\"#fb9f3a\"],[0.8888888888888888,\"#fdca26\"],[1.0,\"#f0f921\"]],\"type\":\"heatmap\"}],\"heatmapgl\":[{\"colorbar\":{\"outlinewidth\":0,\"ticks\":\"\"},\"colorscale\":[[0.0,\"#0d0887\"],[0.1111111111111111,\"#46039f\"],[0.2222222222222222,\"#7201a8\"],[0.3333333333333333,\"#9c179e\"],[0.4444444444444444,\"#bd3786\"],[0.5555555555555556,\"#d8576b\"],[0.6666666666666666,\"#ed7953\"],[0.7777777777777778,\"#fb9f3a\"],[0.8888888888888888,\"#fdca26\"],[1.0,\"#f0f921\"]],\"type\":\"heatmapgl\"}],\"histogram\":[{\"marker\":{\"pattern\":{\"fillmode\":\"overlay\",\"size\":10,\"solidity\":0.2}},\"type\":\"histogram\"}],\"histogram2d\":[{\"colorbar\":{\"outlinewidth\":0,\"ticks\":\"\"},\"colorscale\":[[0.0,\"#0d0887\"],[0.1111111111111111,\"#46039f\"],[0.2222222222222222,\"#7201a8\"],[0.3333333333333333,\"#9c179e\"],[0.4444444444444444,\"#bd3786\"],[0.5555555555555556,\"#d8576b\"],[0.6666666666666666,\"#ed7953\"],[0.7777777777777778,\"#fb9f3a\"],[0.8888888888888888,\"#fdca26\"],[1.0,\"#f0f921\"]],\"type\":\"histogram2d\"}],\"histogram2dcontour\":[{\"colorbar\":{\"outlinewidth\":0,\"ticks\":\"\"},\"colorscale\":[[0.0,\"#0d0887\"],[0.1111111111111111,\"#46039f\"],[0.2222222222222222,\"#7201a8\"],[0.3333333333333333,\"#9c179e\"],[0.4444444444444444,\"#bd3786\"],[0.5555555555555556,\"#d8576b\"],[0.6666666666666666,\"#ed7953\"],[0.7777777777777778,\"#fb9f3a\"],[0.8888888888888888,\"#fdca26\"],[1.0,\"#f0f921\"]],\"type\":\"histogram2dcontour\"}],\"mesh3d\":[{\"colorbar\":{\"outlinewidth\":0,\"ticks\":\"\"},\"type\":\"mesh3d\"}],\"parcoords\":[{\"line\":{\"colorbar\":{\"outlinewidth\":0,\"ticks\":\"\"}},\"type\":\"parcoords\"}],\"pie\":[{\"automargin\":true,\"type\":\"pie\"}],\"scatter\":[{\"marker\":{\"colorbar\":{\"outlinewidth\":0,\"ticks\":\"\"}},\"type\":\"scatter\"}],\"scatter3d\":[{\"line\":{\"colorbar\":{\"outlinewidth\":0,\"ticks\":\"\"}},\"marker\":{\"colorbar\":{\"outlinewidth\":0,\"ticks\":\"\"}},\"type\":\"scatter3d\"}],\"scattercarpet\":[{\"marker\":{\"colorbar\":{\"outlinewidth\":0,\"ticks\":\"\"}},\"type\":\"scattercarpet\"}],\"scattergeo\":[{\"marker\":{\"colorbar\":{\"outlinewidth\":0,\"ticks\":\"\"}},\"type\":\"scattergeo\"}],\"scattergl\":[{\"marker\":{\"colorbar\":{\"outlinewidth\":0,\"ticks\":\"\"}},\"type\":\"scattergl\"}],\"scattermapbox\":[{\"marker\":{\"colorbar\":{\"outlinewidth\":0,\"ticks\":\"\"}},\"type\":\"scattermapbox\"}],\"scatterpolar\":[{\"marker\":{\"colorbar\":{\"outlinewidth\":0,\"ticks\":\"\"}},\"type\":\"scatterpolar\"}],\"scatterpolargl\":[{\"marker\":{\"colorbar\":{\"outlinewidth\":0,\"ticks\":\"\"}},\"type\":\"scatterpolargl\"}],\"scatterternary\":[{\"marker\":{\"colorbar\":{\"outlinewidth\":0,\"ticks\":\"\"}},\"type\":\"scatterternary\"}],\"surface\":[{\"colorbar\":{\"outlinewidth\":0,\"ticks\":\"\"},\"colorscale\":[[0.0,\"#0d0887\"],[0.1111111111111111,\"#46039f\"],[0.2222222222222222,\"#7201a8\"],[0.3333333333333333,\"#9c179e\"],[0.4444444444444444,\"#bd3786\"],[0.5555555555555556,\"#d8576b\"],[0.6666666666666666,\"#ed7953\"],[0.7777777777777778,\"#fb9f3a\"],[0.8888888888888888,\"#fdca26\"],[1.0,\"#f0f921\"]],\"type\":\"surface\"}],\"table\":[{\"cells\":{\"fill\":{\"color\":\"#EBF0F8\"},\"line\":{\"color\":\"white\"}},\"header\":{\"fill\":{\"color\":\"#C8D4E3\"},\"line\":{\"color\":\"white\"}},\"type\":\"table\"}]},\"layout\":{\"annotationdefaults\":{\"arrowcolor\":\"#2a3f5f\",\"arrowhead\":0,\"arrowwidth\":1},\"autotypenumbers\":\"strict\",\"coloraxis\":{\"colorbar\":{\"outlinewidth\":0,\"ticks\":\"\"}},\"colorscale\":{\"diverging\":[[0,\"#8e0152\"],[0.1,\"#c51b7d\"],[0.2,\"#de77ae\"],[0.3,\"#f1b6da\"],[0.4,\"#fde0ef\"],[0.5,\"#f7f7f7\"],[0.6,\"#e6f5d0\"],[0.7,\"#b8e186\"],[0.8,\"#7fbc41\"],[0.9,\"#4d9221\"],[1,\"#276419\"]],\"sequential\":[[0.0,\"#0d0887\"],[0.1111111111111111,\"#46039f\"],[0.2222222222222222,\"#7201a8\"],[0.3333333333333333,\"#9c179e\"],[0.4444444444444444,\"#bd3786\"],[0.5555555555555556,\"#d8576b\"],[0.6666666666666666,\"#ed7953\"],[0.7777777777777778,\"#fb9f3a\"],[0.8888888888888888,\"#fdca26\"],[1.0,\"#f0f921\"]],\"sequentialminus\":[[0.0,\"#0d0887\"],[0.1111111111111111,\"#46039f\"],[0.2222222222222222,\"#7201a8\"],[0.3333333333333333,\"#9c179e\"],[0.4444444444444444,\"#bd3786\"],[0.5555555555555556,\"#d8576b\"],[0.6666666666666666,\"#ed7953\"],[0.7777777777777778,\"#fb9f3a\"],[0.8888888888888888,\"#fdca26\"],[1.0,\"#f0f921\"]]},\"colorway\":[\"#636efa\",\"#EF553B\",\"#00cc96\",\"#ab63fa\",\"#FFA15A\",\"#19d3f3\",\"#FF6692\",\"#B6E880\",\"#FF97FF\",\"#FECB52\"],\"font\":{\"color\":\"#2a3f5f\"},\"geo\":{\"bgcolor\":\"white\",\"lakecolor\":\"white\",\"landcolor\":\"#E5ECF6\",\"showlakes\":true,\"showland\":true,\"subunitcolor\":\"white\"},\"hoverlabel\":{\"align\":\"left\"},\"hovermode\":\"closest\",\"mapbox\":{\"style\":\"light\"},\"paper_bgcolor\":\"white\",\"plot_bgcolor\":\"#E5ECF6\",\"polar\":{\"angularaxis\":{\"gridcolor\":\"white\",\"linecolor\":\"white\",\"ticks\":\"\"},\"bgcolor\":\"#E5ECF6\",\"radialaxis\":{\"gridcolor\":\"white\",\"linecolor\":\"white\",\"ticks\":\"\"}},\"scene\":{\"xaxis\":{\"backgroundcolor\":\"#E5ECF6\",\"gridcolor\":\"white\",\"gridwidth\":2,\"linecolor\":\"white\",\"showbackground\":true,\"ticks\":\"\",\"zerolinecolor\":\"white\"},\"yaxis\":{\"backgroundcolor\":\"#E5ECF6\",\"gridcolor\":\"white\",\"gridwidth\":2,\"linecolor\":\"white\",\"showbackground\":true,\"ticks\":\"\",\"zerolinecolor\":\"white\"},\"zaxis\":{\"backgroundcolor\":\"#E5ECF6\",\"gridcolor\":\"white\",\"gridwidth\":2,\"linecolor\":\"white\",\"showbackground\":true,\"ticks\":\"\",\"zerolinecolor\":\"white\"}},\"shapedefaults\":{\"line\":{\"color\":\"#2a3f5f\"}},\"ternary\":{\"aaxis\":{\"gridcolor\":\"white\",\"linecolor\":\"white\",\"ticks\":\"\"},\"baxis\":{\"gridcolor\":\"white\",\"linecolor\":\"white\",\"ticks\":\"\"},\"bgcolor\":\"#E5ECF6\",\"caxis\":{\"gridcolor\":\"white\",\"linecolor\":\"white\",\"ticks\":\"\"}},\"title\":{\"x\":0.05},\"xaxis\":{\"automargin\":true,\"gridcolor\":\"white\",\"linecolor\":\"white\",\"ticks\":\"\",\"title\":{\"standoff\":15},\"zerolinecolor\":\"white\",\"zerolinewidth\":2},\"yaxis\":{\"automargin\":true,\"gridcolor\":\"white\",\"linecolor\":\"white\",\"ticks\":\"\",\"title\":{\"standoff\":15},\"zerolinecolor\":\"white\",\"zerolinewidth\":2}}},\"xaxis\":{\"title\":{\"text\":\"number of removed features\"},\"gridcolor\":\"rgb(255,255,255)\",\"showgrid\":true,\"showline\":false,\"showticklabels\":true,\"tickcolor\":\"rgb(127,127,127)\",\"ticks\":\"outside\",\"zeroline\":false},\"yaxis\":{\"title\":{\"text\":\"loss value\"},\"gridcolor\":\"rgb(255,255,255)\",\"showgrid\":true,\"showline\":false,\"showticklabels\":true,\"tickcolor\":\"rgb(127,127,127)\",\"ticks\":\"outside\",\"zeroline\":false},\"updatemenus\":[{\"active\":0,\"buttons\":[{\"args\":[{\"visible\":[true,true,false,false]}],\"label\":\"Hide features\",\"method\":\"update\"},{\"args\":[{\"visible\":[true,true,true,false]}],\"label\":\"Show indices\",\"method\":\"update\"},{\"args\":[{\"visible\":[true,true,false,true]}],\"label\":\"Show names\",\"method\":\"update\"}],\"pad\":{\"r\":10,\"t\":10},\"showactive\":true,\"x\":-0.25,\"xanchor\":\"left\",\"y\":1.03,\"yanchor\":\"top\"}],\"showlegend\":false},                        {\"responsive\": true}                    ).then(function(){\n",
              "                            \n",
              "var gd = document.getElementById('ba17c723-6aaf-47e0-bc68-875ca4446d5b');\n",
              "var x = new MutationObserver(function (mutations, observer) {{\n",
              "        var display = window.getComputedStyle(gd).display;\n",
              "        if (!display || display === 'none') {{\n",
              "            console.log([gd, 'removed!']);\n",
              "            Plotly.purge(gd);\n",
              "            observer.disconnect();\n",
              "        }}\n",
              "}});\n",
              "\n",
              "// Listen for the removal of the full notebook cells\n",
              "var notebookContainer = gd.closest('#notebook-container');\n",
              "if (notebookContainer) {{\n",
              "    x.observe(notebookContainer, {childList: true});\n",
              "}}\n",
              "\n",
              "// Listen for the clearing of the current output cell\n",
              "var outputEl = gd.closest('.output');\n",
              "if (outputEl) {{\n",
              "    x.observe(outputEl, {childList: true});\n",
              "}}\n",
              "\n",
              "                        })                };                            </script>        </div>\n",
              "</body>\n",
              "</html>"
            ]
          },
          "metadata": {}
        }
      ]
    },
    {
      "cell_type": "code",
      "source": [
        ""
      ],
      "metadata": {
        "id": "QXxtShz8X27g"
      },
      "execution_count": null,
      "outputs": []
    }
  ]
}