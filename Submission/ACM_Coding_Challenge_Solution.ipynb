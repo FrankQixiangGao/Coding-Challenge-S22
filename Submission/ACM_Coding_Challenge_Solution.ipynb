{
  "nbformat": 4,
  "nbformat_minor": 0,
  "metadata": {
    "colab": {
      "name": "ACM_Coding_Challenge_Solution.ipynb",
      "provenance": [],
      "collapsed_sections": []
    },
    "kernelspec": {
      "name": "python3",
      "display_name": "Python 3"
    },
    "language_info": {
      "name": "python"
    },
    "widgets": {
      "application/vnd.jupyter.widget-state+json": {
        "35f3a3e7069d4697b4e5536600b8721c": {
          "model_module": "catboost-widget",
          "model_name": "CatboostWidgetModel",
          "model_module_version": "^1.0.0",
          "state": {
            "_view_name": "CatboostWidgetView",
            "_dom_classes": [],
            "_model_name": "CatboostWidgetModel",
            "data": {
              "catboost_info/model-final": {
                "content": {
                  "data": {
                    "meta": {
                      "name": "experiment",
                      "parameters": "",
                      "test_metrics": [
                        {
                          "best_value": "Max",
                          "name": "AUC"
                        },
                        {
                          "best_value": "Min",
                          "name": "Logloss"
                        }
                      ],
                      "learn_sets": [
                        "learn"
                      ],
                      "launch_mode": "Train",
                      "learn_metrics": [
                        {
                          "best_value": "Min",
                          "name": "Logloss"
                        }
                      ],
                      "iteration_count": 1000,
                      "test_sets": [
                        "test"
                      ]
                    },
                    "iterations": [
                      {
                        "test": [
                          0.9868457624,
                          0.5699414933
                        ],
                        "passed_time": 0.01649660639,
                        "iteration": 0,
                        "remaining_time": 16.48010979,
                        "learn": [
                          0.5704189476
                        ]
                      },
                      {
                        "test": [
                          0.9891217939,
                          0.4697671614
                        ],
                        "passed_time": 0.03695476904,
                        "iteration": 1,
                        "remaining_time": 18.44042975,
                        "learn": [
                          0.4707669399
                        ]
                      },
                      {
                        "test": [
                          0.9891217939,
                          0.3937440765
                        ],
                        "passed_time": 0.04851038248,
                        "iteration": 2,
                        "remaining_time": 16.12161711,
                        "learn": [
                          0.3952474583
                        ]
                      },
                      {
                        "test": [
                          0.9891217939,
                          0.3392832893
                        ],
                        "passed_time": 0.0597566575,
                        "iteration": 3,
                        "remaining_time": 14.87940772,
                        "learn": [
                          0.3412332397
                        ]
                      },
                      {
                        "test": [
                          0.9891217939,
                          0.2876465906
                        ],
                        "passed_time": 0.07558481974,
                        "iteration": 4,
                        "remaining_time": 15.04137913,
                        "learn": [
                          0.2900432485
                        ]
                      },
                      {
                        "test": [
                          0.9896805976,
                          0.2482181539
                        ],
                        "passed_time": 0.09963641991,
                        "iteration": 5,
                        "remaining_time": 16.50643357,
                        "learn": [
                          0.2507845953
                        ]
                      },
                      {
                        "test": [
                          0.9903657394,
                          0.2154610361
                        ],
                        "passed_time": 0.1159401399,
                        "iteration": 6,
                        "remaining_time": 16.44693698,
                        "learn": [
                          0.2184265425
                        ]
                      },
                      {
                        "test": [
                          0.9903657394,
                          0.1889185986
                        ],
                        "passed_time": 0.1230823141,
                        "iteration": 7,
                        "remaining_time": 15.26220695,
                        "learn": [
                          0.1922533806
                        ]
                      },
                      {
                        "test": [
                          0.9999727887,
                          0.1491349841
                        ],
                        "passed_time": 0.1664414976,
                        "iteration": 8,
                        "remaining_time": 18.32705823,
                        "learn": [
                          0.1523107566
                        ]
                      },
                      {
                        "test": [
                          0.9999727887,
                          0.1189802585
                        ],
                        "passed_time": 0.196302702,
                        "iteration": 9,
                        "remaining_time": 19.4339675,
                        "learn": [
                          0.1223190732
                        ]
                      },
                      {
                        "test": [
                          1,
                          0.09547513796
                        ],
                        "passed_time": 0.2511985429,
                        "iteration": 10,
                        "remaining_time": 22.58503263,
                        "learn": [
                          0.09874069959
                        ]
                      },
                      {
                        "test": [
                          1,
                          0.07656424155
                        ],
                        "passed_time": 0.3110784408,
                        "iteration": 11,
                        "remaining_time": 25.61212496,
                        "learn": [
                          0.07950439104
                        ]
                      },
                      {
                        "test": [
                          1,
                          0.06309962952
                        ],
                        "passed_time": 0.3708602103,
                        "iteration": 12,
                        "remaining_time": 28.15684828,
                        "learn": [
                          0.06574677871
                        ]
                      },
                      {
                        "test": [
                          1,
                          0.05140205014
                        ],
                        "passed_time": 0.4367795467,
                        "iteration": 13,
                        "remaining_time": 30.7617595,
                        "learn": [
                          0.05387416336
                        ]
                      },
                      {
                        "test": [
                          1,
                          0.04382074638
                        ],
                        "passed_time": 0.4932178918,
                        "iteration": 14,
                        "remaining_time": 32.3879749,
                        "learn": [
                          0.04607449866
                        ]
                      },
                      {
                        "test": [
                          1,
                          0.03618603837
                        ],
                        "passed_time": 0.5530117827,
                        "iteration": 15,
                        "remaining_time": 34.01022463,
                        "learn": [
                          0.03825993357
                        ]
                      },
                      {
                        "test": [
                          1,
                          0.03026120681
                        ],
                        "passed_time": 0.6125111196,
                        "iteration": 16,
                        "remaining_time": 35.41755474,
                        "learn": [
                          0.03226852659
                        ]
                      },
                      {
                        "test": [
                          1,
                          0.02548733352
                        ],
                        "passed_time": 0.6759201368,
                        "iteration": 17,
                        "remaining_time": 36.87519857,
                        "learn": [
                          0.02745795764
                        ]
                      },
                      {
                        "test": [
                          1,
                          0.02152328576
                        ],
                        "passed_time": 0.7497308216,
                        "iteration": 18,
                        "remaining_time": 38.7097861,
                        "learn": [
                          0.02333468729
                        ]
                      },
                      {
                        "test": [
                          1,
                          0.01826961996
                        ],
                        "passed_time": 0.8063496978,
                        "iteration": 19,
                        "remaining_time": 39.51113519,
                        "learn": [
                          0.01995725672
                        ]
                      },
                      {
                        "test": [
                          1,
                          0.01558031086
                        ],
                        "passed_time": 0.87079151,
                        "iteration": 20,
                        "remaining_time": 40.59547087,
                        "learn": [
                          0.01716198417
                        ]
                      },
                      {
                        "test": [
                          1,
                          0.01327048955
                        ],
                        "passed_time": 0.9233405496,
                        "iteration": 21,
                        "remaining_time": 41.04668443,
                        "learn": [
                          0.01485159075
                        ]
                      },
                      {
                        "test": [
                          1,
                          0.01156865528
                        ],
                        "passed_time": 0.9854899629,
                        "iteration": 22,
                        "remaining_time": 41.86189973,
                        "learn": [
                          0.01305854306
                        ]
                      },
                      {
                        "test": [
                          1,
                          0.01032402216
                        ],
                        "passed_time": 1.048493561,
                        "iteration": 23,
                        "remaining_time": 42.63873814,
                        "learn": [
                          0.01178422611
                        ]
                      },
                      {
                        "test": [
                          1,
                          0.009084274599
                        ],
                        "passed_time": 1.122120445,
                        "iteration": 24,
                        "remaining_time": 43.76269737,
                        "learn": [
                          0.0104793606
                        ]
                      },
                      {
                        "test": [
                          1,
                          0.00820411978
                        ],
                        "passed_time": 1.165221101,
                        "iteration": 25,
                        "remaining_time": 43.65097511,
                        "learn": [
                          0.009579087733
                        ]
                      },
                      {
                        "test": [
                          1,
                          0.007335807093
                        ],
                        "passed_time": 1.227844592,
                        "iteration": 26,
                        "remaining_time": 44.24788105,
                        "learn": [
                          0.008613818681
                        ]
                      },
                      {
                        "test": [
                          1,
                          0.006691223912
                        ],
                        "passed_time": 1.290109974,
                        "iteration": 27,
                        "remaining_time": 44.78524624,
                        "learn": [
                          0.007875802896
                        ]
                      },
                      {
                        "test": [
                          1,
                          0.00602709461
                        ],
                        "passed_time": 1.354440668,
                        "iteration": 28,
                        "remaining_time": 45.35040994,
                        "learn": [
                          0.007131915638
                        ]
                      },
                      {
                        "test": [
                          1,
                          0.005447350424
                        ],
                        "passed_time": 1.406442274,
                        "iteration": 29,
                        "remaining_time": 45.47496685,
                        "learn": [
                          0.006534886405
                        ]
                      },
                      {
                        "test": [
                          1,
                          0.005234449784
                        ],
                        "passed_time": 1.439807458,
                        "iteration": 30,
                        "remaining_time": 45.00559442,
                        "learn": [
                          0.006302892804
                        ]
                      },
                      {
                        "test": [
                          1,
                          0.005038190546
                        ],
                        "passed_time": 1.494671165,
                        "iteration": 31,
                        "remaining_time": 45.21380275,
                        "learn": [
                          0.006098533968
                        ]
                      },
                      {
                        "test": [
                          1,
                          0.004970208186
                        ],
                        "passed_time": 1.543004871,
                        "iteration": 32,
                        "remaining_time": 45.21471849,
                        "learn": [
                          0.006033572173
                        ]
                      },
                      {
                        "test": [
                          1,
                          0.004622448056
                        ],
                        "passed_time": 1.605381602,
                        "iteration": 33,
                        "remaining_time": 45.61172433,
                        "learn": [
                          0.00569000993
                        ]
                      },
                      {
                        "test": [
                          1,
                          0.004304148689
                        ],
                        "passed_time": 1.667023677,
                        "iteration": 34,
                        "remaining_time": 45.96222422,
                        "learn": [
                          0.005331511439
                        ]
                      },
                      {
                        "test": [
                          1,
                          0.004271310926
                        ],
                        "passed_time": 1.711924963,
                        "iteration": 35,
                        "remaining_time": 45.84154624,
                        "learn": [
                          0.005301468851
                        ]
                      },
                      {
                        "test": [
                          1,
                          0.003960480022
                        ],
                        "passed_time": 1.763038053,
                        "iteration": 36,
                        "remaining_time": 45.88663905,
                        "learn": [
                          0.004978393178
                        ]
                      },
                      {
                        "test": [
                          1,
                          0.003789979231
                        ],
                        "passed_time": 1.822102579,
                        "iteration": 37,
                        "remaining_time": 46.1279653,
                        "learn": [
                          0.00480145841
                        ]
                      },
                      {
                        "test": [
                          1,
                          0.003465836138
                        ],
                        "passed_time": 1.873415131,
                        "iteration": 38,
                        "remaining_time": 46.16287029,
                        "learn": [
                          0.004464975916
                        ]
                      },
                      {
                        "test": [
                          1,
                          0.003291408537
                        ],
                        "passed_time": 1.939477329,
                        "iteration": 39,
                        "remaining_time": 46.54745591,
                        "learn": [
                          0.004255528133
                        ]
                      },
                      {
                        "test": [
                          1,
                          0.003166264812
                        ],
                        "passed_time": 2.009025713,
                        "iteration": 40,
                        "remaining_time": 46.99160143,
                        "learn": [
                          0.004096387775
                        ]
                      },
                      {
                        "test": [
                          1,
                          0.003019535346
                        ],
                        "passed_time": 2.065445321,
                        "iteration": 41,
                        "remaining_time": 47.11182422,
                        "learn": [
                          0.00391593235
                        ]
                      },
                      {
                        "test": [
                          1,
                          0.00292700893
                        ],
                        "passed_time": 2.114765607,
                        "iteration": 42,
                        "remaining_time": 47.06582991,
                        "learn": [
                          0.003823852669
                        ]
                      },
                      {
                        "test": [
                          1,
                          0.002722712029
                        ],
                        "passed_time": 2.177761211,
                        "iteration": 43,
                        "remaining_time": 47.31681176,
                        "learn": [
                          0.003593824388
                        ]
                      },
                      {
                        "test": [
                          1,
                          0.002704304767
                        ],
                        "passed_time": 2.222500863,
                        "iteration": 44,
                        "remaining_time": 47.1664072,
                        "learn": [
                          0.003579762899
                        ]
                      },
                      {
                        "test": [
                          1,
                          0.002535123646
                        ],
                        "passed_time": 2.286306715,
                        "iteration": 45,
                        "remaining_time": 47.41601317,
                        "learn": [
                          0.003396118798
                        ]
                      },
                      {
                        "test": [
                          1,
                          0.002496943328
                        ],
                        "passed_time": 2.340302339,
                        "iteration": 46,
                        "remaining_time": 47.45336444,
                        "learn": [
                          0.003354723546
                        ]
                      },
                      {
                        "test": [
                          1,
                          0.002443323857
                        ],
                        "passed_time": 2.397674863,
                        "iteration": 47,
                        "remaining_time": 47.55388479,
                        "learn": [
                          0.003298369028
                        ]
                      },
                      {
                        "test": [
                          1,
                          0.002430466374
                        ],
                        "passed_time": 2.440817061,
                        "iteration": 48,
                        "remaining_time": 47.37177603,
                        "learn": [
                          0.003285545467
                        ]
                      },
                      {
                        "test": [
                          1,
                          0.002407670569
                        ],
                        "passed_time": 2.486769434,
                        "iteration": 49,
                        "remaining_time": 47.24861925,
                        "learn": [
                          0.003244993057
                        ]
                      },
                      {
                        "test": [
                          1,
                          0.002398300242
                        ],
                        "passed_time": 2.545912812,
                        "iteration": 50,
                        "remaining_time": 47.37394624,
                        "learn": [
                          0.003233623625
                        ]
                      },
                      {
                        "test": [
                          1,
                          0.002387365909
                        ],
                        "passed_time": 2.588496465,
                        "iteration": 51,
                        "remaining_time": 47.19028171,
                        "learn": [
                          0.003205700976
                        ]
                      },
                      {
                        "test": [
                          1,
                          0.002375418175
                        ],
                        "passed_time": 2.636468344,
                        "iteration": 52,
                        "remaining_time": 47.10821739,
                        "learn": [
                          0.003192774405
                        ]
                      },
                      {
                        "test": [
                          1,
                          0.002353199775
                        ],
                        "passed_time": 2.692132609,
                        "iteration": 53,
                        "remaining_time": 47.16217497,
                        "learn": [
                          0.003166002134
                        ]
                      },
                      {
                        "test": [
                          1,
                          0.002256029408
                        ],
                        "passed_time": 2.749208463,
                        "iteration": 54,
                        "remaining_time": 47.23639996,
                        "learn": [
                          0.003051774448
                        ]
                      },
                      {
                        "test": [
                          1,
                          0.002196198113
                        ],
                        "passed_time": 2.806570166,
                        "iteration": 55,
                        "remaining_time": 47.31075423,
                        "learn": [
                          0.002981113882
                        ]
                      },
                      {
                        "test": [
                          1,
                          0.002181609398
                        ],
                        "passed_time": 2.854045368,
                        "iteration": 56,
                        "remaining_time": 47.216926,
                        "learn": [
                          0.002965688571
                        ]
                      },
                      {
                        "test": [
                          1,
                          0.002166820663
                        ],
                        "passed_time": 2.90562321,
                        "iteration": 57,
                        "remaining_time": 47.19132869,
                        "learn": [
                          0.002943325353
                        ]
                      },
                      {
                        "test": [
                          1,
                          0.002121175656
                        ],
                        "passed_time": 2.938255421,
                        "iteration": 58,
                        "remaining_time": 46.86268392,
                        "learn": [
                          0.002900137053
                        ]
                      },
                      {
                        "test": [
                          1,
                          0.002089935435
                        ],
                        "passed_time": 2.998638068,
                        "iteration": 59,
                        "remaining_time": 46.97866307,
                        "learn": [
                          0.002858768462
                        ]
                      },
                      {
                        "test": [
                          1,
                          0.002022090376
                        ],
                        "passed_time": 3.061584793,
                        "iteration": 60,
                        "remaining_time": 47.12832985,
                        "learn": [
                          0.002780870503
                        ]
                      },
                      {
                        "test": [
                          1,
                          0.001911191919
                        ],
                        "passed_time": 3.14010562,
                        "iteration": 61,
                        "remaining_time": 47.50675921,
                        "learn": [
                          0.002639056146
                        ]
                      },
                      {
                        "test": [
                          1,
                          0.001911159537
                        ],
                        "passed_time": 3.162408971,
                        "iteration": 62,
                        "remaining_time": 47.03455882,
                        "learn": [
                          0.002639039155
                        ]
                      },
                      {
                        "test": [
                          1,
                          0.001863856751
                        ],
                        "passed_time": 3.211096183,
                        "iteration": 63,
                        "remaining_time": 46.96228167,
                        "learn": [
                          0.002570595042
                        ]
                      },
                      {
                        "test": [
                          1,
                          0.001839847251
                        ],
                        "passed_time": 3.276288835,
                        "iteration": 64,
                        "remaining_time": 47.12815478,
                        "learn": [
                          0.002542408134
                        ]
                      },
                      {
                        "test": [
                          1,
                          0.001833075012
                        ],
                        "passed_time": 3.319537804,
                        "iteration": 65,
                        "remaining_time": 46.97648953,
                        "learn": [
                          0.002536057188
                        ]
                      },
                      {
                        "test": [
                          1,
                          0.001833075007
                        ],
                        "passed_time": 3.344331789,
                        "iteration": 66,
                        "remaining_time": 46.57106805,
                        "learn": [
                          0.00253605616
                        ]
                      },
                      {
                        "test": [
                          1,
                          0.00182715386
                        ],
                        "passed_time": 3.404361745,
                        "iteration": 67,
                        "remaining_time": 46.65978156,
                        "learn": [
                          0.002519736549
                        ]
                      },
                      {
                        "test": [
                          1,
                          0.001817678979
                        ],
                        "passed_time": 3.459520631,
                        "iteration": 68,
                        "remaining_time": 46.67845952,
                        "learn": [
                          0.00250536719
                        ]
                      },
                      {
                        "test": [
                          1,
                          0.001805137967
                        ],
                        "passed_time": 3.515170142,
                        "iteration": 69,
                        "remaining_time": 46.70154617,
                        "learn": [
                          0.002483427869
                        ]
                      },
                      {
                        "test": [
                          1,
                          0.00180513269
                        ],
                        "passed_time": 3.563001519,
                        "iteration": 70,
                        "remaining_time": 46.62011847,
                        "learn": [
                          0.002483418272
                        ]
                      },
                      {
                        "test": [
                          1,
                          0.00180513269
                        ],
                        "passed_time": 3.614331664,
                        "iteration": 71,
                        "remaining_time": 46.58471922,
                        "learn": [
                          0.002483418272
                        ]
                      },
                      {
                        "test": [
                          1,
                          0.001805130396
                        ],
                        "passed_time": 3.663156021,
                        "iteration": 72,
                        "remaining_time": 46.51706344,
                        "learn": [
                          0.002483416096
                        ]
                      },
                      {
                        "test": [
                          1,
                          0.001790595629
                        ],
                        "passed_time": 3.718142721,
                        "iteration": 73,
                        "remaining_time": 46.52702919,
                        "learn": [
                          0.002463057124
                        ]
                      },
                      {
                        "test": [
                          1,
                          0.001783506161
                        ],
                        "passed_time": 3.772566335,
                        "iteration": 74,
                        "remaining_time": 46.52831813,
                        "learn": [
                          0.002446227965
                        ]
                      },
                      {
                        "test": [
                          1,
                          0.001773314272
                        ],
                        "passed_time": 3.800850335,
                        "iteration": 75,
                        "remaining_time": 46.21033829,
                        "learn": [
                          0.002438101159
                        ]
                      },
                      {
                        "test": [
                          1,
                          0.001757886353
                        ],
                        "passed_time": 3.855309022,
                        "iteration": 76,
                        "remaining_time": 46.21363932,
                        "learn": [
                          0.002419369827
                        ]
                      },
                      {
                        "test": [
                          1,
                          0.001757886353
                        ],
                        "passed_time": 3.903592583,
                        "iteration": 77,
                        "remaining_time": 46.14246618,
                        "learn": [
                          0.002419369827
                        ]
                      },
                      {
                        "test": [
                          1,
                          0.00174826093
                        ],
                        "passed_time": 3.95273162,
                        "iteration": 78,
                        "remaining_time": 46.08184585,
                        "learn": [
                          0.002406133938
                        ]
                      },
                      {
                        "test": [
                          1,
                          0.001737662024
                        ],
                        "passed_time": 4.001365461,
                        "iteration": 79,
                        "remaining_time": 46.0157028,
                        "learn": [
                          0.002386002516
                        ]
                      },
                      {
                        "test": [
                          1,
                          0.001719523344
                        ],
                        "passed_time": 4.067615497,
                        "iteration": 80,
                        "remaining_time": 46.14985977,
                        "learn": [
                          0.002358868971
                        ]
                      },
                      {
                        "test": [
                          1,
                          0.001665470607
                        ],
                        "passed_time": 4.126100125,
                        "iteration": 81,
                        "remaining_time": 46.19219408,
                        "learn": [
                          0.002288688376
                        ]
                      },
                      {
                        "test": [
                          1,
                          0.001626586319
                        ],
                        "passed_time": 4.19273936,
                        "iteration": 82,
                        "remaining_time": 46.32219269,
                        "learn": [
                          0.00224257856
                        ]
                      },
                      {
                        "test": [
                          1,
                          0.001626574356
                        ],
                        "passed_time": 4.213056209,
                        "iteration": 83,
                        "remaining_time": 45.94237485,
                        "learn": [
                          0.00224257042
                        ]
                      },
                      {
                        "test": [
                          1,
                          0.001614798157
                        ],
                        "passed_time": 4.26250789,
                        "iteration": 84,
                        "remaining_time": 45.88464375,
                        "learn": [
                          0.002224566954
                        ]
                      },
                      {
                        "test": [
                          1,
                          0.001614782077
                        ],
                        "passed_time": 4.317954169,
                        "iteration": 85,
                        "remaining_time": 45.89081524,
                        "learn": [
                          0.002224534895
                        ]
                      },
                      {
                        "test": [
                          1,
                          0.001603546435
                        ],
                        "passed_time": 4.37117119,
                        "iteration": 86,
                        "remaining_time": 45.87217582,
                        "learn": [
                          0.002207076863
                        ]
                      },
                      {
                        "test": [
                          1,
                          0.001598885645
                        ],
                        "passed_time": 4.415912391,
                        "iteration": 87,
                        "remaining_time": 45.76491023,
                        "learn": [
                          0.00220087301
                        ]
                      },
                      {
                        "test": [
                          1,
                          0.001581530654
                        ],
                        "passed_time": 4.476514942,
                        "iteration": 88,
                        "remaining_time": 45.82140575,
                        "learn": [
                          0.002176495643
                        ]
                      },
                      {
                        "test": [
                          1,
                          0.001581524718
                        ],
                        "passed_time": 4.529244535,
                        "iteration": 89,
                        "remaining_time": 45.79569475,
                        "learn": [
                          0.002176487061
                        ]
                      },
                      {
                        "test": [
                          1,
                          0.001581517636
                        ],
                        "passed_time": 4.57831746,
                        "iteration": 90,
                        "remaining_time": 45.73286342,
                        "learn": [
                          0.002176479991
                        ]
                      },
                      {
                        "test": [
                          1,
                          0.001534372477
                        ],
                        "passed_time": 4.636003145,
                        "iteration": 91,
                        "remaining_time": 45.75533539,
                        "learn": [
                          0.002109147796
                        ]
                      },
                      {
                        "test": [
                          1,
                          0.001488062769
                        ],
                        "passed_time": 4.695409725,
                        "iteration": 92,
                        "remaining_time": 45.79286689,
                        "learn": [
                          0.002059852265
                        ]
                      },
                      {
                        "test": [
                          1,
                          0.001488058786
                        ],
                        "passed_time": 4.742153423,
                        "iteration": 93,
                        "remaining_time": 45.70628725,
                        "learn": [
                          0.002059850678
                        ]
                      },
                      {
                        "test": [
                          1,
                          0.001479728085
                        ],
                        "passed_time": 4.79710513,
                        "iteration": 94,
                        "remaining_time": 45.69873835,
                        "learn": [
                          0.00204772721
                        ]
                      },
                      {
                        "test": [
                          1,
                          0.001474857537
                        ],
                        "passed_time": 4.852005495,
                        "iteration": 95,
                        "remaining_time": 45.68971841,
                        "learn": [
                          0.002037242458
                        ]
                      },
                      {
                        "test": [
                          1,
                          0.001474856769
                        ],
                        "passed_time": 4.901487968,
                        "iteration": 96,
                        "remaining_time": 45.62931582,
                        "learn": [
                          0.002037240235
                        ]
                      },
                      {
                        "test": [
                          1,
                          0.001465001773
                        ],
                        "passed_time": 4.952990263,
                        "iteration": 97,
                        "remaining_time": 45.58772671,
                        "learn": [
                          0.002021960793
                        ]
                      },
                      {
                        "test": [
                          1,
                          0.00146500079
                        ],
                        "passed_time": 5.000467368,
                        "iteration": 98,
                        "remaining_time": 45.50930403,
                        "learn": [
                          0.00202195671
                        ]
                      },
                      {
                        "test": [
                          1,
                          0.001456062079
                        ],
                        "passed_time": 5.067548993,
                        "iteration": 99,
                        "remaining_time": 45.60794094,
                        "learn": [
                          0.002002637636
                        ]
                      },
                      {
                        "test": [
                          1,
                          0.001446290447
                        ],
                        "passed_time": 5.117748761,
                        "iteration": 100,
                        "remaining_time": 45.55303105,
                        "learn": [
                          0.001988323244
                        ]
                      },
                      {
                        "test": [
                          1,
                          0.001446280719
                        ],
                        "passed_time": 5.1550249,
                        "iteration": 101,
                        "remaining_time": 45.3844349,
                        "learn": [
                          0.001988305458
                        ]
                      },
                      {
                        "test": [
                          1,
                          0.001429523582
                        ],
                        "passed_time": 5.217497654,
                        "iteration": 102,
                        "remaining_time": 45.43781938,
                        "learn": [
                          0.001967281657
                        ]
                      },
                      {
                        "test": [
                          1,
                          0.001429521177
                        ],
                        "passed_time": 5.261191885,
                        "iteration": 103,
                        "remaining_time": 45.32719163,
                        "learn": [
                          0.00196727796
                        ]
                      },
                      {
                        "test": [
                          1,
                          0.001394503617
                        ],
                        "passed_time": 5.310629519,
                        "iteration": 104,
                        "remaining_time": 45.26679448,
                        "learn": [
                          0.001920232687
                        ]
                      },
                      {
                        "test": [
                          1,
                          0.001351318804
                        ],
                        "passed_time": 5.374517579,
                        "iteration": 105,
                        "remaining_time": 45.32847845,
                        "learn": [
                          0.001870069641
                        ]
                      },
                      {
                        "test": [
                          1,
                          0.001351318804
                        ],
                        "passed_time": 5.423770052,
                        "iteration": 106,
                        "remaining_time": 45.26566968,
                        "learn": [
                          0.001870069641
                        ]
                      },
                      {
                        "test": [
                          1,
                          0.00134174477
                        ],
                        "passed_time": 5.471848776,
                        "iteration": 107,
                        "remaining_time": 45.19341767,
                        "learn": [
                          0.001856909591
                        ]
                      },
                      {
                        "test": [
                          1,
                          0.001333354864
                        ],
                        "passed_time": 5.5209927,
                        "iteration": 108,
                        "remaining_time": 45.13031647,
                        "learn": [
                          0.001843170122
                        ]
                      },
                      {
                        "test": [
                          1,
                          0.001333332027
                        ],
                        "passed_time": 5.56223844,
                        "iteration": 109,
                        "remaining_time": 45.00356556,
                        "learn": [
                          0.001843132002
                        ]
                      },
                      {
                        "test": [
                          1,
                          0.001333333079
                        ],
                        "passed_time": 5.596485061,
                        "iteration": 110,
                        "remaining_time": 44.82229927,
                        "learn": [
                          0.001843119462
                        ]
                      },
                      {
                        "test": [
                          1,
                          0.001327011535
                        ],
                        "passed_time": 5.650505056,
                        "iteration": 111,
                        "remaining_time": 44.80043295,
                        "learn": [
                          0.001829650498
                        ]
                      },
                      {
                        "test": [
                          1,
                          0.001326119865
                        ],
                        "passed_time": 5.695949133,
                        "iteration": 112,
                        "remaining_time": 44.71068036,
                        "learn": [
                          0.001825118409
                        ]
                      },
                      {
                        "test": [
                          1,
                          0.001326118204
                        ],
                        "passed_time": 5.722862504,
                        "iteration": 113,
                        "remaining_time": 44.47768578,
                        "learn": [
                          0.001825113775
                        ]
                      },
                      {
                        "test": [
                          1,
                          0.001326118204
                        ],
                        "passed_time": 5.774337074,
                        "iteration": 114,
                        "remaining_time": 44.43728965,
                        "learn": [
                          0.001825113775
                        ]
                      },
                      {
                        "test": [
                          1,
                          0.001326118204
                        ],
                        "passed_time": 5.836072901,
                        "iteration": 115,
                        "remaining_time": 44.47490038,
                        "learn": [
                          0.001825113775
                        ]
                      },
                      {
                        "test": [
                          1,
                          0.00130955521
                        ],
                        "passed_time": 5.894259649,
                        "iteration": 116,
                        "remaining_time": 44.48402795,
                        "learn": [
                          0.001809036444
                        ]
                      },
                      {
                        "test": [
                          1,
                          0.001309551405
                        ],
                        "passed_time": 5.935113046,
                        "iteration": 117,
                        "remaining_time": 44.36245514,
                        "learn": [
                          0.001809031013
                        ]
                      },
                      {
                        "test": [
                          1,
                          0.001309548539
                        ],
                        "passed_time": 5.981628194,
                        "iteration": 118,
                        "remaining_time": 44.28415495,
                        "learn": [
                          0.001809028717
                        ]
                      },
                      {
                        "test": [
                          1,
                          0.001309545423
                        ],
                        "passed_time": 6.033865505,
                        "iteration": 119,
                        "remaining_time": 44.24834704,
                        "learn": [
                          0.001809023639
                        ]
                      },
                      {
                        "test": [
                          1,
                          0.001287673471
                        ],
                        "passed_time": 6.104552842,
                        "iteration": 120,
                        "remaining_time": 44.3462971,
                        "learn": [
                          0.001779877897
                        ]
                      },
                      {
                        "test": [
                          1,
                          0.001276454505
                        ],
                        "passed_time": 6.158211508,
                        "iteration": 121,
                        "remaining_time": 44.318932,
                        "learn": [
                          0.001759537831
                        ]
                      },
                      {
                        "test": [
                          1,
                          0.001276449808
                        ],
                        "passed_time": 6.189799895,
                        "iteration": 122,
                        "remaining_time": 44.13377649,
                        "learn": [
                          0.001759533749
                        ]
                      },
                      {
                        "test": [
                          1,
                          0.001276446219
                        ],
                        "passed_time": 6.259490907,
                        "iteration": 123,
                        "remaining_time": 44.22027447,
                        "learn": [
                          0.001759526363
                        ]
                      },
                      {
                        "test": [
                          1,
                          0.001276443303
                        ],
                        "passed_time": 6.321107624,
                        "iteration": 124,
                        "remaining_time": 44.24775337,
                        "learn": [
                          0.001759516268
                        ]
                      },
                      {
                        "test": [
                          1,
                          0.001265499261
                        ],
                        "passed_time": 6.379457665,
                        "iteration": 125,
                        "remaining_time": 44.25115872,
                        "learn": [
                          0.0017467133
                        ]
                      },
                      {
                        "test": [
                          1,
                          0.001265498535
                        ],
                        "passed_time": 6.429110735,
                        "iteration": 126,
                        "remaining_time": 44.19380844,
                        "learn": [
                          0.001746711251
                        ]
                      },
                      {
                        "test": [
                          1,
                          0.001258589661
                        ],
                        "passed_time": 6.481289902,
                        "iteration": 127,
                        "remaining_time": 44.15378746,
                        "learn": [
                          0.001736814114
                        ]
                      },
                      {
                        "test": [
                          1,
                          0.001258589782
                        ],
                        "passed_time": 6.500911145,
                        "iteration": 128,
                        "remaining_time": 43.8937489,
                        "learn": [
                          0.001736813258
                        ]
                      },
                      {
                        "test": [
                          1,
                          0.00125725755
                        ],
                        "passed_time": 6.531241808,
                        "iteration": 129,
                        "remaining_time": 43.70907979,
                        "learn": [
                          0.00173466394
                        ]
                      },
                      {
                        "test": [
                          1,
                          0.001257255055
                        ],
                        "passed_time": 6.578228807,
                        "iteration": 130,
                        "remaining_time": 43.63725827,
                        "learn": [
                          0.001734661323
                        ]
                      },
                      {
                        "test": [
                          1,
                          0.001256728507
                        ],
                        "passed_time": 6.633808361,
                        "iteration": 131,
                        "remaining_time": 43.62231558,
                        "learn": [
                          0.001725839416
                        ]
                      },
                      {
                        "test": [
                          1,
                          0.001256704517
                        ],
                        "passed_time": 6.681980894,
                        "iteration": 132,
                        "remaining_time": 43.55847695,
                        "learn": [
                          0.001725806373
                        ]
                      },
                      {
                        "test": [
                          1,
                          0.001256702396
                        ],
                        "passed_time": 6.728020196,
                        "iteration": 133,
                        "remaining_time": 43.48108574,
                        "learn": [
                          0.001725799332
                        ]
                      },
                      {
                        "test": [
                          1,
                          0.001256694833
                        ],
                        "passed_time": 6.774341813,
                        "iteration": 134,
                        "remaining_time": 43.40596791,
                        "learn": [
                          0.001725790988
                        ]
                      },
                      {
                        "test": [
                          1,
                          0.001256694833
                        ],
                        "passed_time": 6.822408353,
                        "iteration": 135,
                        "remaining_time": 43.34235895,
                        "learn": [
                          0.001725790988
                        ]
                      },
                      {
                        "test": [
                          1,
                          0.001248620454
                        ],
                        "passed_time": 6.864197353,
                        "iteration": 136,
                        "remaining_time": 43.23943296,
                        "learn": [
                          0.001718225831
                        ]
                      },
                      {
                        "test": [
                          1,
                          0.001241687425
                        ],
                        "passed_time": 6.910544142,
                        "iteration": 137,
                        "remaining_time": 43.16586268,
                        "learn": [
                          0.001704067963
                        ]
                      },
                      {
                        "test": [
                          1,
                          0.001229368969
                        ],
                        "passed_time": 6.971822322,
                        "iteration": 138,
                        "remaining_time": 43.1851728,
                        "learn": [
                          0.001682657025
                        ]
                      },
                      {
                        "test": [
                          1,
                          0.001229365282
                        ],
                        "passed_time": 7.009174855,
                        "iteration": 139,
                        "remaining_time": 43.05635982,
                        "learn": [
                          0.001682650015
                        ]
                      },
                      {
                        "test": [
                          1,
                          0.001202259481
                        ],
                        "passed_time": 7.074779263,
                        "iteration": 140,
                        "remaining_time": 43.10096019,
                        "learn": [
                          0.001653203296
                        ]
                      },
                      {
                        "test": [
                          1,
                          0.001202251237
                        ],
                        "passed_time": 7.12409431,
                        "iteration": 141,
                        "remaining_time": 43.04558393,
                        "learn": [
                          0.001653193768
                        ]
                      },
                      {
                        "test": [
                          1,
                          0.00120224783
                        ],
                        "passed_time": 7.189340102,
                        "iteration": 142,
                        "remaining_time": 43.08576551,
                        "learn": [
                          0.001653187973
                        ]
                      },
                      {
                        "test": [
                          1,
                          0.001193787187
                        ],
                        "passed_time": 7.253173207,
                        "iteration": 143,
                        "remaining_time": 43.11608518,
                        "learn": [
                          0.001639058723
                        ]
                      },
                      {
                        "test": [
                          1,
                          0.001193785442
                        ],
                        "passed_time": 7.307986204,
                        "iteration": 144,
                        "remaining_time": 43.09191865,
                        "learn": [
                          0.001639056842
                        ]
                      },
                      {
                        "test": [
                          1,
                          0.001179562591
                        ],
                        "passed_time": 7.362859517,
                        "iteration": 145,
                        "remaining_time": 43.06768512,
                        "learn": [
                          0.001616654657
                        ]
                      },
                      {
                        "test": [
                          1,
                          0.001147541318
                        ],
                        "passed_time": 7.439217616,
                        "iteration": 146,
                        "remaining_time": 43.16770494,
                        "learn": [
                          0.001576577315
                        ]
                      },
                      {
                        "test": [
                          1,
                          0.001147540987
                        ],
                        "passed_time": 7.506457323,
                        "iteration": 147,
                        "remaining_time": 43.21284891,
                        "learn": [
                          0.001576574184
                        ]
                      },
                      {
                        "test": [
                          1,
                          0.001147540987
                        ],
                        "passed_time": 7.599009235,
                        "iteration": 148,
                        "remaining_time": 43.40105274,
                        "learn": [
                          0.001576574184
                        ]
                      },
                      {
                        "test": [
                          1,
                          0.00112266893
                        ],
                        "passed_time": 7.722025999,
                        "iteration": 149,
                        "remaining_time": 43.75814733,
                        "learn": [
                          0.001551448768
                        ]
                      },
                      {
                        "test": [
                          1,
                          0.001105267658
                        ],
                        "passed_time": 7.810420318,
                        "iteration": 150,
                        "remaining_time": 43.91421755,
                        "learn": [
                          0.001526302838
                        ]
                      },
                      {
                        "test": [
                          1,
                          0.001105260676
                        ],
                        "passed_time": 7.903783936,
                        "iteration": 151,
                        "remaining_time": 44.09479459,
                        "learn": [
                          0.001526289163
                        ]
                      },
                      {
                        "test": [
                          1,
                          0.001105255609
                        ],
                        "passed_time": 8.003933143,
                        "iteration": 152,
                        "remaining_time": 44.30935537,
                        "learn": [
                          0.001526284206
                        ]
                      },
                      {
                        "test": [
                          1,
                          0.001105253495
                        ],
                        "passed_time": 8.191532975,
                        "iteration": 153,
                        "remaining_time": 45.00023959,
                        "learn": [
                          0.001526281284
                        ]
                      },
                      {
                        "test": [
                          1,
                          0.00109967074
                        ],
                        "passed_time": 8.352349785,
                        "iteration": 154,
                        "remaining_time": 45.53377786,
                        "learn": [
                          0.001513619807
                        ]
                      },
                      {
                        "test": [
                          1,
                          0.001099669787
                        ],
                        "passed_time": 8.495716335,
                        "iteration": 155,
                        "remaining_time": 45.96400376,
                        "learn": [
                          0.001513616941
                        ]
                      },
                      {
                        "test": [
                          1,
                          0.001097112411
                        ],
                        "passed_time": 8.559125293,
                        "iteration": 156,
                        "remaining_time": 45.95759632,
                        "learn": [
                          0.001505139804
                        ]
                      },
                      {
                        "test": [
                          1,
                          0.001079166254
                        ],
                        "passed_time": 8.619582577,
                        "iteration": 157,
                        "remaining_time": 45.93473753,
                        "learn": [
                          0.001482618263
                        ]
                      },
                      {
                        "test": [
                          1,
                          0.001079160513
                        ],
                        "passed_time": 8.668823677,
                        "iteration": 158,
                        "remaining_time": 45.85207995,
                        "learn": [
                          0.001482608733
                        ]
                      },
                      {
                        "test": [
                          1,
                          0.001079159265
                        ],
                        "passed_time": 8.699894718,
                        "iteration": 159,
                        "remaining_time": 45.67444727,
                        "learn": [
                          0.001482607868
                        ]
                      },
                      {
                        "test": [
                          1,
                          0.001070915453
                        ],
                        "passed_time": 8.785197228,
                        "iteration": 160,
                        "remaining_time": 45.78124518,
                        "learn": [
                          0.001471408094
                        ]
                      },
                      {
                        "test": [
                          1,
                          0.001063608068
                        ],
                        "passed_time": 8.872371371,
                        "iteration": 161,
                        "remaining_time": 45.89535314,
                        "learn": [
                          0.001458931554
                        ]
                      },
                      {
                        "test": [
                          1,
                          0.0010590525
                        ],
                        "passed_time": 8.961779553,
                        "iteration": 162,
                        "remaining_time": 46.0184631,
                        "learn": [
                          0.001451334027
                        ]
                      },
                      {
                        "test": [
                          1,
                          0.001038611443
                        ],
                        "passed_time": 9.040354422,
                        "iteration": 163,
                        "remaining_time": 46.08375791,
                        "learn": [
                          0.001423120081
                        ]
                      },
                      {
                        "test": [
                          1,
                          0.001038611876
                        ],
                        "passed_time": 9.081575892,
                        "iteration": 164,
                        "remaining_time": 45.958278,
                        "learn": [
                          0.001423119504
                        ]
                      },
                      {
                        "test": [
                          1,
                          0.001038602967
                        ],
                        "passed_time": 9.15459795,
                        "iteration": 165,
                        "remaining_time": 45.99358247,
                        "learn": [
                          0.001423108805
                        ]
                      },
                      {
                        "test": [
                          1,
                          0.001038602463
                        ],
                        "passed_time": 9.207477523,
                        "iteration": 166,
                        "remaining_time": 45.92711842,
                        "learn": [
                          0.001423106942
                        ]
                      },
                      {
                        "test": [
                          1,
                          0.001038602025
                        ],
                        "passed_time": 9.253825533,
                        "iteration": 167,
                        "remaining_time": 45.82846931,
                        "learn": [
                          0.001423104146
                        ]
                      },
                      {
                        "test": [
                          1,
                          0.001011332282
                        ],
                        "passed_time": 9.338167227,
                        "iteration": 168,
                        "remaining_time": 45.91726015,
                        "learn": [
                          0.001388252996
                        ]
                      },
                      {
                        "test": [
                          1,
                          0.001011331973
                        ],
                        "passed_time": 9.404671929,
                        "iteration": 169,
                        "remaining_time": 45.91692765,
                        "learn": [
                          0.001388251592
                        ]
                      },
                      {
                        "test": [
                          1,
                          0.001011330764
                        ],
                        "passed_time": 9.473073398,
                        "iteration": 170,
                        "remaining_time": 45.92501665,
                        "learn": [
                          0.001388243831
                        ]
                      },
                      {
                        "test": [
                          1,
                          0.001011327786
                        ],
                        "passed_time": 9.591076972,
                        "iteration": 171,
                        "remaining_time": 46.17099845,
                        "learn": [
                          0.001388237294
                        ]
                      },
                      {
                        "test": [
                          1,
                          0.001000556149
                        ],
                        "passed_time": 9.649342069,
                        "iteration": 172,
                        "remaining_time": 46.12720168,
                        "learn": [
                          0.001371397172
                        ]
                      },
                      {
                        "test": [
                          1,
                          0.00100054902
                        ],
                        "passed_time": 9.6888084,
                        "iteration": 173,
                        "remaining_time": 45.9939985,
                        "learn": [
                          0.001371390469
                        ]
                      },
                      {
                        "test": [
                          1,
                          0.001000547658
                        ],
                        "passed_time": 9.740485723,
                        "iteration": 174,
                        "remaining_time": 45.91943269,
                        "learn": [
                          0.001371389583
                        ]
                      },
                      {
                        "test": [
                          1,
                          0.0009954012114
                        ],
                        "passed_time": 9.785187217,
                        "iteration": 175,
                        "remaining_time": 45.81246743,
                        "learn": [
                          0.001362074243
                        ]
                      },
                      {
                        "test": [
                          1,
                          0.0009953997064
                        ],
                        "passed_time": 9.832772796,
                        "iteration": 176,
                        "remaining_time": 45.71961588,
                        "learn": [
                          0.001362072395
                        ]
                      },
                      {
                        "test": [
                          1,
                          0.0009813168978
                        ],
                        "passed_time": 9.885390905,
                        "iteration": 177,
                        "remaining_time": 45.65051305,
                        "learn": [
                          0.001340217453
                        ]
                      },
                      {
                        "test": [
                          1,
                          0.0009813165966
                        ],
                        "passed_time": 9.924499125,
                        "iteration": 178,
                        "remaining_time": 45.51963007,
                        "learn": [
                          0.001340214203
                        ]
                      },
                      {
                        "test": [
                          1,
                          0.0009813144093
                        ],
                        "passed_time": 9.965364958,
                        "iteration": 179,
                        "remaining_time": 45.3977737,
                        "learn": [
                          0.001340205672
                        ]
                      },
                      {
                        "test": [
                          1,
                          0.0009813101764
                        ],
                        "passed_time": 10.01454746,
                        "iteration": 180,
                        "remaining_time": 45.31444402,
                        "learn": [
                          0.001340191544
                        ]
                      },
                      {
                        "test": [
                          1,
                          0.0009684461167
                        ],
                        "passed_time": 10.07664674,
                        "iteration": 181,
                        "remaining_time": 45.28954415,
                        "learn": [
                          0.001323796565
                        ]
                      },
                      {
                        "test": [
                          1,
                          0.0009684461167
                        ],
                        "passed_time": 10.13281172,
                        "iteration": 182,
                        "remaining_time": 45.23774414,
                        "learn": [
                          0.001323796565
                        ]
                      },
                      {
                        "test": [
                          1,
                          0.0009681506102
                        ],
                        "passed_time": 10.19195789,
                        "iteration": 183,
                        "remaining_time": 45.19911762,
                        "learn": [
                          0.001322058919
                        ]
                      },
                      {
                        "test": [
                          1,
                          0.0009681453578
                        ],
                        "passed_time": 10.24392729,
                        "iteration": 184,
                        "remaining_time": 45.12865265,
                        "learn": [
                          0.001322053319
                        ]
                      },
                      {
                        "test": [
                          1,
                          0.0009593851405
                        ],
                        "passed_time": 10.315639,
                        "iteration": 185,
                        "remaining_time": 45.14478573,
                        "learn": [
                          0.001309073411
                        ]
                      },
                      {
                        "test": [
                          1,
                          0.0009593837637
                        ],
                        "passed_time": 10.45691625,
                        "iteration": 186,
                        "remaining_time": 45.462422,
                        "learn": [
                          0.00130907022
                        ]
                      },
                      {
                        "test": [
                          1,
                          0.0009593837637
                        ],
                        "passed_time": 10.5015201,
                        "iteration": 187,
                        "remaining_time": 45.35762937,
                        "learn": [
                          0.00130907022
                        ]
                      },
                      {
                        "test": [
                          1,
                          0.0009593837637
                        ],
                        "passed_time": 10.58937875,
                        "iteration": 188,
                        "remaining_time": 45.43908025,
                        "learn": [
                          0.00130907022
                        ]
                      },
                      {
                        "test": [
                          1,
                          0.0009593818753
                        ],
                        "passed_time": 10.68769444,
                        "iteration": 189,
                        "remaining_time": 45.56332891,
                        "learn": [
                          0.001309067634
                        ]
                      },
                      {
                        "test": [
                          1,
                          0.0009593793452
                        ],
                        "passed_time": 10.79587969,
                        "iteration": 190,
                        "remaining_time": 45.72705062,
                        "learn": [
                          0.001309063593
                        ]
                      },
                      {
                        "test": [
                          1,
                          0.0009546105009
                        ],
                        "passed_time": 10.89071588,
                        "iteration": 191,
                        "remaining_time": 45.83176265,
                        "learn": [
                          0.001300724586
                        ]
                      },
                      {
                        "test": [
                          1,
                          0.0009546051875
                        ],
                        "passed_time": 10.95499233,
                        "iteration": 192,
                        "remaining_time": 45.80662597,
                        "learn": [
                          0.001300718321
                        ]
                      },
                      {
                        "test": [
                          1,
                          0.0009546045483
                        ],
                        "passed_time": 11.00715666,
                        "iteration": 193,
                        "remaining_time": 45.73076428,
                        "learn": [
                          0.001300715595
                        ]
                      },
                      {
                        "test": [
                          1,
                          0.0009546048614
                        ],
                        "passed_time": 11.05429765,
                        "iteration": 194,
                        "remaining_time": 45.63440823,
                        "learn": [
                          0.00130071372
                        ]
                      },
                      {
                        "test": [
                          1,
                          0.0009546030436
                        ],
                        "passed_time": 11.11203842,
                        "iteration": 195,
                        "remaining_time": 45.58203517,
                        "learn": [
                          0.001300701868
                        ]
                      },
                      {
                        "test": [
                          1,
                          0.0009545986587
                        ],
                        "passed_time": 11.15775531,
                        "iteration": 196,
                        "remaining_time": 45.48059652,
                        "learn": [
                          0.001300698274
                        ]
                      },
                      {
                        "test": [
                          1,
                          0.0009545947025
                        ],
                        "passed_time": 11.20435835,
                        "iteration": 197,
                        "remaining_time": 45.38331007,
                        "learn": [
                          0.00130069492
                        ]
                      },
                      {
                        "test": [
                          1,
                          0.0009508227695
                        ],
                        "passed_time": 11.24964895,
                        "iteration": 198,
                        "remaining_time": 45.2812503,
                        "learn": [
                          0.001288622893
                        ]
                      },
                      {
                        "test": [
                          1,
                          0.0009493829053
                        ],
                        "passed_time": 11.29956818,
                        "iteration": 199,
                        "remaining_time": 45.19827271,
                        "learn": [
                          0.001284244555
                        ]
                      },
                      {
                        "test": [
                          1,
                          0.0009493849
                        ],
                        "passed_time": 11.38519204,
                        "iteration": 200,
                        "remaining_time": 45.25755443,
                        "learn": [
                          0.001284225085
                        ]
                      },
                      {
                        "test": [
                          1,
                          0.0009493823629
                        ],
                        "passed_time": 11.47271409,
                        "iteration": 201,
                        "remaining_time": 45.3229002,
                        "learn": [
                          0.001284221429
                        ]
                      },
                      {
                        "test": [
                          1,
                          0.0009493776994
                        ],
                        "passed_time": 11.54569967,
                        "iteration": 202,
                        "remaining_time": 45.32966817,
                        "learn": [
                          0.001284192758
                        ]
                      },
                      {
                        "test": [
                          1,
                          0.0009493774659
                        ],
                        "passed_time": 11.60343935,
                        "iteration": 203,
                        "remaining_time": 45.27616532,
                        "learn": [
                          0.001284192075
                        ]
                      },
                      {
                        "test": [
                          1,
                          0.0009493774659
                        ],
                        "passed_time": 11.67803167,
                        "iteration": 204,
                        "remaining_time": 45.28797649,
                        "learn": [
                          0.001284192075
                        ]
                      },
                      {
                        "test": [
                          1,
                          0.0009493752469
                        ],
                        "passed_time": 11.74791143,
                        "iteration": 205,
                        "remaining_time": 45.28078483,
                        "learn": [
                          0.00128418738
                        ]
                      },
                      {
                        "test": [
                          1,
                          0.0009493739735
                        ],
                        "passed_time": 11.80502414,
                        "iteration": 206,
                        "remaining_time": 45.22407799,
                        "learn": [
                          0.001284183332
                        ]
                      },
                      {
                        "test": [
                          1,
                          0.000937209807
                        ],
                        "passed_time": 11.87024518,
                        "iteration": 207,
                        "remaining_time": 45.19824126,
                        "learn": [
                          0.001269765566
                        ]
                      },
                      {
                        "test": [
                          1,
                          0.0009372089361
                        ],
                        "passed_time": 11.94713139,
                        "iteration": 208,
                        "remaining_time": 45.2161767,
                        "learn": [
                          0.001269763313
                        ]
                      },
                      {
                        "test": [
                          1,
                          0.0009371995905
                        ],
                        "passed_time": 12.02006558,
                        "iteration": 209,
                        "remaining_time": 45.21834194,
                        "learn": [
                          0.00126974888
                        ]
                      },
                      {
                        "test": [
                          1,
                          0.0009371973853
                        ],
                        "passed_time": 12.4263394,
                        "iteration": 210,
                        "remaining_time": 46.46626437,
                        "learn": [
                          0.001269741322
                        ]
                      }
                    ]
                  },
                  "total_iterations": 1000,
                  "passed_iterations": 210
                },
                "path": "catboost_info/model-final",
                "name": "model-final"
              },
              "catboost_info/model-0": {
                "content": {
                  "data": {
                    "meta": {},
                    "iterations": []
                  },
                  "total_iterations": 0,
                  "passed_iterations": 0
                },
                "path": "catboost_info/model-0",
                "name": "model-0"
              }
            },
            "_view_module": "catboost-widget",
            "_model_module_version": "^1.0.0",
            "_view_count": null,
            "_view_module_version": "^1.0.0",
            "layout": "IPY_MODEL_e8562d2556e74d4783babb20813e4bf1",
            "_model_module": "catboost-widget"
          }
        }
      }
    }
  },
  "cells": [
    {
      "cell_type": "code",
      "source": [
        "!pip install catboost"
      ],
      "metadata": {
        "colab": {
          "base_uri": "https://localhost:8080/"
        },
        "id": "9R59DjKUWsZk",
        "outputId": "3b89c1f0-6adf-44db-f5a5-c64a116cd8ec"
      },
      "execution_count": 13,
      "outputs": [
        {
          "output_type": "stream",
          "name": "stdout",
          "text": [
            "Requirement already satisfied: catboost in /usr/local/lib/python3.7/dist-packages (1.0.4)\n",
            "Requirement already satisfied: numpy>=1.16.0 in /usr/local/lib/python3.7/dist-packages (from catboost) (1.19.5)\n",
            "Requirement already satisfied: pandas>=0.24.0 in /usr/local/lib/python3.7/dist-packages (from catboost) (1.1.5)\n",
            "Requirement already satisfied: matplotlib in /usr/local/lib/python3.7/dist-packages (from catboost) (3.2.2)\n",
            "Requirement already satisfied: scipy in /usr/local/lib/python3.7/dist-packages (from catboost) (1.4.1)\n",
            "Requirement already satisfied: six in /usr/local/lib/python3.7/dist-packages (from catboost) (1.15.0)\n",
            "Requirement already satisfied: plotly in /usr/local/lib/python3.7/dist-packages (from catboost) (5.5.0)\n",
            "Requirement already satisfied: graphviz in /usr/local/lib/python3.7/dist-packages (from catboost) (0.10.1)\n",
            "Requirement already satisfied: python-dateutil>=2.7.3 in /usr/local/lib/python3.7/dist-packages (from pandas>=0.24.0->catboost) (2.8.2)\n",
            "Requirement already satisfied: pytz>=2017.2 in /usr/local/lib/python3.7/dist-packages (from pandas>=0.24.0->catboost) (2018.9)\n",
            "Requirement already satisfied: kiwisolver>=1.0.1 in /usr/local/lib/python3.7/dist-packages (from matplotlib->catboost) (1.3.2)\n",
            "Requirement already satisfied: pyparsing!=2.0.4,!=2.1.2,!=2.1.6,>=2.0.1 in /usr/local/lib/python3.7/dist-packages (from matplotlib->catboost) (3.0.7)\n",
            "Requirement already satisfied: cycler>=0.10 in /usr/local/lib/python3.7/dist-packages (from matplotlib->catboost) (0.11.0)\n",
            "Requirement already satisfied: tenacity>=6.2.0 in /usr/local/lib/python3.7/dist-packages (from plotly->catboost) (8.0.1)\n"
          ]
        }
      ]
    },
    {
      "cell_type": "code",
      "execution_count": 14,
      "metadata": {
        "id": "ef1YjNxjImfK"
      },
      "outputs": [],
      "source": [
        "# Author: Frank Gao, NETID: QXG190000\n",
        "# Github Link: https://github.com/FrankQixiangGao/Coding-Challenge-S22\n",
        "\n",
        "# Two External Resources\n",
        "# [1] https://catboost.ai/en/docs/concepts/parameter-tuning\n",
        "# [2] https://www.kaggle.com/mitribunskiy/tutorial-catboost-overview\n",
        "\n",
        "\n",
        "import numpy as np # Math Functions\n",
        "import pandas as pd # data processing\n",
        "from catboost import CatBoostClassifier # An algorithmn for gradient boosting on decision trees, you could see it as a Optimtized Version of XGBoost. \n",
        "from sklearn.model_selection import train_test_split # Classic Train_test_split function, it will split arrays or matrices into different train and test subsets. Default ratio: 25 percents of all data will be assigned to test instance\n",
        "\n"
      ]
    },
    {
      "cell_type": "code",
      "source": [
        "Train_Instance = pd.read_csv(\"mushrooms.csv\") # Read CSV file\n",
        "\n",
        "X = Train_Instance.iloc[: , 1:] # Assign all file except first columns to Variable X. (First Column has Class)\n",
        "Y = Train_Instance.iloc[:, 0] # Assign first Column to Variable Y \n",
        "X_train, X_valid, y_train, y_valid = train_test_split(X, Y) # Split Train_Instance into Train_instance and Valid_Instance"
      ],
      "metadata": {
        "id": "wBfk9OA3Vhw1"
      },
      "execution_count": 15,
      "outputs": []
    },
    {
      "cell_type": "code",
      "source": [
        "# This Three Lines care come from External Resource (Tutorial: CatBoost Overview), I also done some minor modification. \n",
        "\n",
        "# Three line separate Categorical features from all features (From the result we know that all features are Categorical)\n",
        "cat_features_names = X.columns\n",
        "cat_features = [X.columns.get_loc(col) for col in cat_features_names]\n",
        "print(cat_features)"
      ],
      "metadata": {
        "colab": {
          "base_uri": "https://localhost:8080/"
        },
        "id": "z7aQDoEvYMwk",
        "outputId": "6877ffcc-ce6b-4875-844e-e95edf8fb55f"
      },
      "execution_count": 16,
      "outputs": [
        {
          "output_type": "stream",
          "name": "stdout",
          "text": [
            "[0, 1, 2, 3, 4, 5, 6, 7, 8, 9, 10, 11, 12, 13, 14, 15, 16, 17, 18, 19, 20, 21]\n"
          ]
        }
      ]
    },
    {
      "cell_type": "code",
      "source": [
        "\n",
        "SEED = 2 # Random Seed\n",
        " \n",
        "import sys\n",
        "from catboost import Pool\n",
        "\n",
        "pool = Pool(X_valid, y_valid, cat_features=cat_features) # Pool is like a struct that has multiple variable with different data structures\n",
        "\n",
        "# The Following Codes are mostly written by me. But I acknowledge that I got the basic idea of how to constuct a CatboostClassifier from \"Tutorial: Catboost Overview\". \n",
        "# After read Documentation of Catboost, I found a couple of parameters that can optimize the model\n",
        "\n",
        "params = {'loss_function':'Logloss', # logloss is a classifcation metric based on probablity \n",
        "          'eval_metric':'AUC',\n",
        "          'verbose': 100, # Logging\n",
        "          'random_seed': SEED, \n",
        "          'max_depth': 8, # Max_depth of each sub decision tree\n",
        "          'early_stopping_rounds': 200, \n",
        "          'cat_features':cat_features # Tell the models which columns of the dataset has categorical variables. \n",
        "         }\n",
        "\n",
        "cbc_1 = CatBoostClassifier(**params)\n",
        "\n",
        "all_features = list(range(X.shape[1]))\n",
        "# \n",
        "cbc_2 = cbc_1.select_features(\n",
        "                X_train,\n",
        "                y=y_train,\n",
        "                eval_set=pool,\n",
        "                features_for_select=all_features, # How many features will be selected\n",
        "                num_features_to_select=22, # How many features will remain after selection, I choose 22 in here because after I found there is no fake or useless feature on mushroom dataset\n",
        "                algorithm=\"RecursiveByShapValues\", # Built-in Algorithm for Optimize the decision trees\n",
        "                steps=1,\n",
        "                shap_calc_type=\"Approximate\",\n",
        "                train_final_model=True,\n",
        "                logging_level=\"Verbose\",\n",
        "                plot=True,\n",
        "                log_cout=sys.stdout,\n",
        "                log_cerr=sys.stderr)\n"
      ],
      "metadata": {
        "colab": {
          "base_uri": "https://localhost:8080/",
          "height": 750,
          "referenced_widgets": [
            "35f3a3e7069d4697b4e5536600b8721c"
          ]
        },
        "id": "jjK1h3CuXD82",
        "outputId": "7b4d7880-5d56-40ac-9dbc-6da2351a8cba"
      },
      "execution_count": 22,
      "outputs": [
        {
          "output_type": "stream",
          "name": "stderr",
          "text": [
            "The number of features selection steps (1) is greater than the number of features to eliminate (0). The number of steps was reduced to 0.\n"
          ]
        },
        {
          "output_type": "display_data",
          "data": {
            "application/vnd.jupyter.widget-view+json": {
              "model_id": "35f3a3e7069d4697b4e5536600b8721c",
              "version_minor": 0,
              "version_major": 2
            },
            "text/plain": [
              "MetricVisualizer(layout=Layout(align_self='stretch', height='500px'))"
            ]
          },
          "metadata": {}
        },
        {
          "output_type": "stream",
          "name": "stdout",
          "text": [
            "Learning rate set to 0.049518\n",
            "Train final model\n",
            "0:\ttest: 0.9868458\tbest: 0.9868458 (0)\ttotal: 16.5ms\tremaining: 16.5s\n",
            "100:\ttest: 1.0000000\tbest: 1.0000000 (10)\ttotal: 5.12s\tremaining: 45.6s\n",
            "200:\ttest: 1.0000000\tbest: 1.0000000 (10)\ttotal: 11.4s\tremaining: 45.3s\n",
            "Stopped by overfitting detector  (200 iterations wait)\n",
            "\n",
            "bestTest = 1\n",
            "bestIteration = 10\n",
            "\n",
            "Shrink model to first 11 iterations.\n"
          ]
        },
        {
          "output_type": "display_data",
          "data": {
            "text/html": [
              "<html>\n",
              "<head><meta charset=\"utf-8\" /></head>\n",
              "<body>\n",
              "    <div>            <script src=\"https://cdnjs.cloudflare.com/ajax/libs/mathjax/2.7.5/MathJax.js?config=TeX-AMS-MML_SVG\"></script><script type=\"text/javascript\">if (window.MathJax) {MathJax.Hub.Config({SVG: {font: \"STIX-Web\"}});}</script>                <script type=\"text/javascript\">window.PlotlyConfig = {MathJaxConfig: 'local'};</script>\n",
              "        <script src=\"https://cdn.plot.ly/plotly-2.8.3.min.js\"></script>                <div id=\"330def8b-5403-4509-b257-48999e87f9cd\" class=\"plotly-graph-div\" style=\"height:525px; width:100%;\"></div>            <script type=\"text/javascript\">                                    window.PLOTLYENV=window.PLOTLYENV || {};                                    if (document.getElementById(\"330def8b-5403-4509-b257-48999e87f9cd\")) {                    Plotly.newPlot(                        \"330def8b-5403-4509-b257-48999e87f9cd\",                        [{\"line\":{\"color\":\"rgb(51,160,44)\"},\"mode\":\"lines+markers\",\"name\":\"\",\"text\":[\"\"],\"x\":[0],\"y\":[0.09547513796071389],\"type\":\"scatter\"},{\"marker\":{\"size\":10,\"symbol\":\"square\"},\"mode\":\"markers\",\"name\":\"\",\"text\":[\"\"],\"x\":[0],\"y\":[0.09547513796071389],\"type\":\"scatter\"},{\"mode\":\"text\",\"name\":\"\",\"text\":[\"\"],\"textfont\":{\"color\":\"rgb(51,160,44)\",\"family\":\"sans serif\",\"size\":18},\"textposition\":\"bottom center\",\"visible\":false,\"x\":[0],\"y\":[0.09547513796071389],\"type\":\"scatter\"}],                        {\"template\":{\"data\":{\"bar\":[{\"error_x\":{\"color\":\"#2a3f5f\"},\"error_y\":{\"color\":\"#2a3f5f\"},\"marker\":{\"line\":{\"color\":\"#E5ECF6\",\"width\":0.5},\"pattern\":{\"fillmode\":\"overlay\",\"size\":10,\"solidity\":0.2}},\"type\":\"bar\"}],\"barpolar\":[{\"marker\":{\"line\":{\"color\":\"#E5ECF6\",\"width\":0.5},\"pattern\":{\"fillmode\":\"overlay\",\"size\":10,\"solidity\":0.2}},\"type\":\"barpolar\"}],\"carpet\":[{\"aaxis\":{\"endlinecolor\":\"#2a3f5f\",\"gridcolor\":\"white\",\"linecolor\":\"white\",\"minorgridcolor\":\"white\",\"startlinecolor\":\"#2a3f5f\"},\"baxis\":{\"endlinecolor\":\"#2a3f5f\",\"gridcolor\":\"white\",\"linecolor\":\"white\",\"minorgridcolor\":\"white\",\"startlinecolor\":\"#2a3f5f\"},\"type\":\"carpet\"}],\"choropleth\":[{\"colorbar\":{\"outlinewidth\":0,\"ticks\":\"\"},\"type\":\"choropleth\"}],\"contour\":[{\"colorbar\":{\"outlinewidth\":0,\"ticks\":\"\"},\"colorscale\":[[0.0,\"#0d0887\"],[0.1111111111111111,\"#46039f\"],[0.2222222222222222,\"#7201a8\"],[0.3333333333333333,\"#9c179e\"],[0.4444444444444444,\"#bd3786\"],[0.5555555555555556,\"#d8576b\"],[0.6666666666666666,\"#ed7953\"],[0.7777777777777778,\"#fb9f3a\"],[0.8888888888888888,\"#fdca26\"],[1.0,\"#f0f921\"]],\"type\":\"contour\"}],\"contourcarpet\":[{\"colorbar\":{\"outlinewidth\":0,\"ticks\":\"\"},\"type\":\"contourcarpet\"}],\"heatmap\":[{\"colorbar\":{\"outlinewidth\":0,\"ticks\":\"\"},\"colorscale\":[[0.0,\"#0d0887\"],[0.1111111111111111,\"#46039f\"],[0.2222222222222222,\"#7201a8\"],[0.3333333333333333,\"#9c179e\"],[0.4444444444444444,\"#bd3786\"],[0.5555555555555556,\"#d8576b\"],[0.6666666666666666,\"#ed7953\"],[0.7777777777777778,\"#fb9f3a\"],[0.8888888888888888,\"#fdca26\"],[1.0,\"#f0f921\"]],\"type\":\"heatmap\"}],\"heatmapgl\":[{\"colorbar\":{\"outlinewidth\":0,\"ticks\":\"\"},\"colorscale\":[[0.0,\"#0d0887\"],[0.1111111111111111,\"#46039f\"],[0.2222222222222222,\"#7201a8\"],[0.3333333333333333,\"#9c179e\"],[0.4444444444444444,\"#bd3786\"],[0.5555555555555556,\"#d8576b\"],[0.6666666666666666,\"#ed7953\"],[0.7777777777777778,\"#fb9f3a\"],[0.8888888888888888,\"#fdca26\"],[1.0,\"#f0f921\"]],\"type\":\"heatmapgl\"}],\"histogram\":[{\"marker\":{\"pattern\":{\"fillmode\":\"overlay\",\"size\":10,\"solidity\":0.2}},\"type\":\"histogram\"}],\"histogram2d\":[{\"colorbar\":{\"outlinewidth\":0,\"ticks\":\"\"},\"colorscale\":[[0.0,\"#0d0887\"],[0.1111111111111111,\"#46039f\"],[0.2222222222222222,\"#7201a8\"],[0.3333333333333333,\"#9c179e\"],[0.4444444444444444,\"#bd3786\"],[0.5555555555555556,\"#d8576b\"],[0.6666666666666666,\"#ed7953\"],[0.7777777777777778,\"#fb9f3a\"],[0.8888888888888888,\"#fdca26\"],[1.0,\"#f0f921\"]],\"type\":\"histogram2d\"}],\"histogram2dcontour\":[{\"colorbar\":{\"outlinewidth\":0,\"ticks\":\"\"},\"colorscale\":[[0.0,\"#0d0887\"],[0.1111111111111111,\"#46039f\"],[0.2222222222222222,\"#7201a8\"],[0.3333333333333333,\"#9c179e\"],[0.4444444444444444,\"#bd3786\"],[0.5555555555555556,\"#d8576b\"],[0.6666666666666666,\"#ed7953\"],[0.7777777777777778,\"#fb9f3a\"],[0.8888888888888888,\"#fdca26\"],[1.0,\"#f0f921\"]],\"type\":\"histogram2dcontour\"}],\"mesh3d\":[{\"colorbar\":{\"outlinewidth\":0,\"ticks\":\"\"},\"type\":\"mesh3d\"}],\"parcoords\":[{\"line\":{\"colorbar\":{\"outlinewidth\":0,\"ticks\":\"\"}},\"type\":\"parcoords\"}],\"pie\":[{\"automargin\":true,\"type\":\"pie\"}],\"scatter\":[{\"marker\":{\"colorbar\":{\"outlinewidth\":0,\"ticks\":\"\"}},\"type\":\"scatter\"}],\"scatter3d\":[{\"line\":{\"colorbar\":{\"outlinewidth\":0,\"ticks\":\"\"}},\"marker\":{\"colorbar\":{\"outlinewidth\":0,\"ticks\":\"\"}},\"type\":\"scatter3d\"}],\"scattercarpet\":[{\"marker\":{\"colorbar\":{\"outlinewidth\":0,\"ticks\":\"\"}},\"type\":\"scattercarpet\"}],\"scattergeo\":[{\"marker\":{\"colorbar\":{\"outlinewidth\":0,\"ticks\":\"\"}},\"type\":\"scattergeo\"}],\"scattergl\":[{\"marker\":{\"colorbar\":{\"outlinewidth\":0,\"ticks\":\"\"}},\"type\":\"scattergl\"}],\"scattermapbox\":[{\"marker\":{\"colorbar\":{\"outlinewidth\":0,\"ticks\":\"\"}},\"type\":\"scattermapbox\"}],\"scatterpolar\":[{\"marker\":{\"colorbar\":{\"outlinewidth\":0,\"ticks\":\"\"}},\"type\":\"scatterpolar\"}],\"scatterpolargl\":[{\"marker\":{\"colorbar\":{\"outlinewidth\":0,\"ticks\":\"\"}},\"type\":\"scatterpolargl\"}],\"scatterternary\":[{\"marker\":{\"colorbar\":{\"outlinewidth\":0,\"ticks\":\"\"}},\"type\":\"scatterternary\"}],\"surface\":[{\"colorbar\":{\"outlinewidth\":0,\"ticks\":\"\"},\"colorscale\":[[0.0,\"#0d0887\"],[0.1111111111111111,\"#46039f\"],[0.2222222222222222,\"#7201a8\"],[0.3333333333333333,\"#9c179e\"],[0.4444444444444444,\"#bd3786\"],[0.5555555555555556,\"#d8576b\"],[0.6666666666666666,\"#ed7953\"],[0.7777777777777778,\"#fb9f3a\"],[0.8888888888888888,\"#fdca26\"],[1.0,\"#f0f921\"]],\"type\":\"surface\"}],\"table\":[{\"cells\":{\"fill\":{\"color\":\"#EBF0F8\"},\"line\":{\"color\":\"white\"}},\"header\":{\"fill\":{\"color\":\"#C8D4E3\"},\"line\":{\"color\":\"white\"}},\"type\":\"table\"}]},\"layout\":{\"annotationdefaults\":{\"arrowcolor\":\"#2a3f5f\",\"arrowhead\":0,\"arrowwidth\":1},\"autotypenumbers\":\"strict\",\"coloraxis\":{\"colorbar\":{\"outlinewidth\":0,\"ticks\":\"\"}},\"colorscale\":{\"diverging\":[[0,\"#8e0152\"],[0.1,\"#c51b7d\"],[0.2,\"#de77ae\"],[0.3,\"#f1b6da\"],[0.4,\"#fde0ef\"],[0.5,\"#f7f7f7\"],[0.6,\"#e6f5d0\"],[0.7,\"#b8e186\"],[0.8,\"#7fbc41\"],[0.9,\"#4d9221\"],[1,\"#276419\"]],\"sequential\":[[0.0,\"#0d0887\"],[0.1111111111111111,\"#46039f\"],[0.2222222222222222,\"#7201a8\"],[0.3333333333333333,\"#9c179e\"],[0.4444444444444444,\"#bd3786\"],[0.5555555555555556,\"#d8576b\"],[0.6666666666666666,\"#ed7953\"],[0.7777777777777778,\"#fb9f3a\"],[0.8888888888888888,\"#fdca26\"],[1.0,\"#f0f921\"]],\"sequentialminus\":[[0.0,\"#0d0887\"],[0.1111111111111111,\"#46039f\"],[0.2222222222222222,\"#7201a8\"],[0.3333333333333333,\"#9c179e\"],[0.4444444444444444,\"#bd3786\"],[0.5555555555555556,\"#d8576b\"],[0.6666666666666666,\"#ed7953\"],[0.7777777777777778,\"#fb9f3a\"],[0.8888888888888888,\"#fdca26\"],[1.0,\"#f0f921\"]]},\"colorway\":[\"#636efa\",\"#EF553B\",\"#00cc96\",\"#ab63fa\",\"#FFA15A\",\"#19d3f3\",\"#FF6692\",\"#B6E880\",\"#FF97FF\",\"#FECB52\"],\"font\":{\"color\":\"#2a3f5f\"},\"geo\":{\"bgcolor\":\"white\",\"lakecolor\":\"white\",\"landcolor\":\"#E5ECF6\",\"showlakes\":true,\"showland\":true,\"subunitcolor\":\"white\"},\"hoverlabel\":{\"align\":\"left\"},\"hovermode\":\"closest\",\"mapbox\":{\"style\":\"light\"},\"paper_bgcolor\":\"white\",\"plot_bgcolor\":\"#E5ECF6\",\"polar\":{\"angularaxis\":{\"gridcolor\":\"white\",\"linecolor\":\"white\",\"ticks\":\"\"},\"bgcolor\":\"#E5ECF6\",\"radialaxis\":{\"gridcolor\":\"white\",\"linecolor\":\"white\",\"ticks\":\"\"}},\"scene\":{\"xaxis\":{\"backgroundcolor\":\"#E5ECF6\",\"gridcolor\":\"white\",\"gridwidth\":2,\"linecolor\":\"white\",\"showbackground\":true,\"ticks\":\"\",\"zerolinecolor\":\"white\"},\"yaxis\":{\"backgroundcolor\":\"#E5ECF6\",\"gridcolor\":\"white\",\"gridwidth\":2,\"linecolor\":\"white\",\"showbackground\":true,\"ticks\":\"\",\"zerolinecolor\":\"white\"},\"zaxis\":{\"backgroundcolor\":\"#E5ECF6\",\"gridcolor\":\"white\",\"gridwidth\":2,\"linecolor\":\"white\",\"showbackground\":true,\"ticks\":\"\",\"zerolinecolor\":\"white\"}},\"shapedefaults\":{\"line\":{\"color\":\"#2a3f5f\"}},\"ternary\":{\"aaxis\":{\"gridcolor\":\"white\",\"linecolor\":\"white\",\"ticks\":\"\"},\"baxis\":{\"gridcolor\":\"white\",\"linecolor\":\"white\",\"ticks\":\"\"},\"bgcolor\":\"#E5ECF6\",\"caxis\":{\"gridcolor\":\"white\",\"linecolor\":\"white\",\"ticks\":\"\"}},\"title\":{\"x\":0.05},\"xaxis\":{\"automargin\":true,\"gridcolor\":\"white\",\"linecolor\":\"white\",\"ticks\":\"\",\"title\":{\"standoff\":15},\"zerolinecolor\":\"white\",\"zerolinewidth\":2},\"yaxis\":{\"automargin\":true,\"gridcolor\":\"white\",\"linecolor\":\"white\",\"ticks\":\"\",\"title\":{\"standoff\":15},\"zerolinecolor\":\"white\",\"zerolinewidth\":2}}},\"xaxis\":{\"title\":{\"text\":\"number of removed features\"},\"gridcolor\":\"rgb(255,255,255)\",\"showgrid\":true,\"showline\":false,\"showticklabels\":true,\"tickcolor\":\"rgb(127,127,127)\",\"ticks\":\"outside\",\"zeroline\":false},\"yaxis\":{\"title\":{\"text\":\"loss value\"},\"gridcolor\":\"rgb(255,255,255)\",\"showgrid\":true,\"showline\":false,\"showticklabels\":true,\"tickcolor\":\"rgb(127,127,127)\",\"ticks\":\"outside\",\"zeroline\":false},\"updatemenus\":[{\"active\":0,\"buttons\":[{\"args\":[{\"visible\":[true,true,false,false]}],\"label\":\"Hide features\",\"method\":\"update\"},{\"args\":[{\"visible\":[true,true,true,false]}],\"label\":\"Show indices\",\"method\":\"update\"}],\"pad\":{\"r\":10,\"t\":10},\"showactive\":true,\"x\":-0.25,\"xanchor\":\"left\",\"y\":1.03,\"yanchor\":\"top\"}],\"showlegend\":false},                        {\"responsive\": true}                    ).then(function(){\n",
              "                            \n",
              "var gd = document.getElementById('330def8b-5403-4509-b257-48999e87f9cd');\n",
              "var x = new MutationObserver(function (mutations, observer) {{\n",
              "        var display = window.getComputedStyle(gd).display;\n",
              "        if (!display || display === 'none') {{\n",
              "            console.log([gd, 'removed!']);\n",
              "            Plotly.purge(gd);\n",
              "            observer.disconnect();\n",
              "        }}\n",
              "}});\n",
              "\n",
              "// Listen for the removal of the full notebook cells\n",
              "var notebookContainer = gd.closest('#notebook-container');\n",
              "if (notebookContainer) {{\n",
              "    x.observe(notebookContainer, {childList: true});\n",
              "}}\n",
              "\n",
              "// Listen for the clearing of the current output cell\n",
              "var outputEl = gd.closest('.output');\n",
              "if (outputEl) {{\n",
              "    x.observe(outputEl, {childList: true});\n",
              "}}\n",
              "\n",
              "                        })                };                            </script>        </div>\n",
              "</body>\n",
              "</html>"
            ]
          },
          "metadata": {}
        }
      ]
    },
    {
      "cell_type": "code",
      "source": [
        ""
      ],
      "metadata": {
        "id": "QXxtShz8X27g"
      },
      "execution_count": null,
      "outputs": []
    }
  ]
}